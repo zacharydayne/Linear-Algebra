{
  "nbformat": 4,
  "nbformat_minor": 0,
  "metadata": {
    "colab": {
      "name": "Assignment2.ipynb",
      "provenance": [],
      "toc_visible": true,
      "authorship_tag": "ABX9TyNTlv1l5IPLJ2W2MRzcz+G2",
      "include_colab_link": true
    },
    "kernelspec": {
      "name": "python3",
      "display_name": "Python 3"
    },
    "language_info": {
      "name": "python"
    }
  },
  "cells": [
    {
      "cell_type": "markdown",
      "metadata": {
        "id": "view-in-github",
        "colab_type": "text"
      },
      "source": [
        "<a href=\"https://colab.research.google.com/github/zacharydayne/Linear-Algebra/blob/main/Assignment2.ipynb\" target=\"_parent\"><img src=\"https://colab.research.google.com/assets/colab-badge.svg\" alt=\"Open In Colab\"/></a>"
      ]
    },
    {
      "cell_type": "code",
      "metadata": {
        "colab": {
          "base_uri": "https://localhost:8080/",
          "height": 228
        },
        "id": "5NppGv6VLpZF",
        "outputId": "23f2a2bd-e20d-4b97-c5b1-b36bc0d2162c"
      },
      "source": [
        "#@title\n",
        "%%html \n",
        "<style>\n",
        "  body {background-color: #B0E0E6;}\n",
        "</style>\n",
        "<body>\n",
        "<h1 style=\"font-family: Garamond;\">Welcome to Python Fundamentals! </h1>\n",
        "<h3 style=\"font-family: Didot;\">In this module, we are going to establish our skills in Python programming. In this notebook, we are going to cover: </h2>\n",
        "<h4 style=\"font-family: Didot;\">*   Variables and Data Types<br>*   Operations<br>*   Input and Output Operations<br>*   Logic Control<br>*   Iterables<br>*   Functions\n",
        "<body>"
      ],
      "execution_count": null,
      "outputs": [
        {
          "output_type": "display_data",
          "data": {
            "text/html": [
              "<style>\n",
              "  body {background-color: #B0E0E6;}\n",
              "</style>\n",
              "<body>\n",
              "<h1 style=\"font-family: Garamond;\">Welcome to Python Fundamentals! </h1>\n",
              "<h3 style=\"font-family: Didot;\">In this module, we are going to establish our skills in Python programming. In this notebook, we are going to cover: </h2>\n",
              "<h4 style=\"font-family: Didot;\">*   Variables and Data Types<br>*   Operations<br>*   Input and Output Operations<br>*   Logic Control<br>*   Iterables<br>*   Functions\n",
              "<body>"
            ],
            "text/plain": [
              "<IPython.core.display.HTML object>"
            ]
          },
          "metadata": {}
        }
      ]
    },
    {
      "cell_type": "markdown",
      "metadata": {
        "id": "OJTkSgtj2noG"
      },
      "source": [
        "## Variables and Data Types\n",
        "<aside>Variables are used to store information to be referenced and manipulated in a computer language . They also provide a way of labelling data with a detailed naming, so our programs can be understood more clearly by the reader and ourselves. [1]\n"
      ]
    },
    {
      "cell_type": "markdown",
      "metadata": {
        "id": "Jj_UN71KUp2C"
      },
      "source": [
        "![image](https://miro.medium.com/max/2400/1*wcU5s8FrJeTt2lRt3MDtVw.png)"
      ]
    },
    {
      "cell_type": "code",
      "metadata": {
        "colab": {
          "base_uri": "https://localhost:8080/"
        },
        "id": "jnQSRsJf2mBF",
        "outputId": "209cbb99-2e3e-42bf-f58a-d0d3fba70fdd"
      },
      "source": [
        "x = 1 \n",
        "a, b, = 3, -2\n",
        "a, b"
      ],
      "execution_count": null,
      "outputs": [
        {
          "output_type": "execute_result",
          "data": {
            "text/plain": [
              "(3, -2)"
            ]
          },
          "metadata": {},
          "execution_count": 36
        }
      ]
    },
    {
      "cell_type": "code",
      "metadata": {
        "colab": {
          "base_uri": "https://localhost:8080/"
        },
        "id": "qQ7qvmRE3h9F",
        "outputId": "4fa33440-cf2a-47af-f7ae-5d8f15f75658"
      },
      "source": [
        "type(x)"
      ],
      "execution_count": null,
      "outputs": [
        {
          "output_type": "execute_result",
          "data": {
            "text/plain": [
              "int"
            ]
          },
          "metadata": {},
          "execution_count": 4
        }
      ]
    },
    {
      "cell_type": "code",
      "metadata": {
        "colab": {
          "base_uri": "https://localhost:8080/"
        },
        "id": "4iQKfvGw30RZ",
        "outputId": "a5f5cfff-3d40-4945-e2b8-8ca8835e6804"
      },
      "source": [
        "y = 3.0\n",
        "type (y)"
      ],
      "execution_count": null,
      "outputs": [
        {
          "output_type": "execute_result",
          "data": {
            "text/plain": [
              "float"
            ]
          },
          "metadata": {},
          "execution_count": 7
        }
      ]
    },
    {
      "cell_type": "code",
      "metadata": {
        "colab": {
          "base_uri": "https://localhost:8080/"
        },
        "id": "piVi6ad139nD",
        "outputId": "86142d58-9652-4194-a6d3-3d85e13059c3"
      },
      "source": [
        "x = float(x)\n",
        "type(x)\n",
        "x"
      ],
      "execution_count": null,
      "outputs": [
        {
          "output_type": "execute_result",
          "data": {
            "text/plain": [
              "1.0"
            ]
          },
          "metadata": {},
          "execution_count": 10
        }
      ]
    },
    {
      "cell_type": "code",
      "metadata": {
        "colab": {
          "base_uri": "https://localhost:8080/"
        },
        "id": "RojYxPyD4LHC",
        "outputId": "978c9c31-e694-4554-95e7-79ecd168c6c6"
      },
      "source": [
        "s, t, u = \"1\", '3', 'three'\n",
        "type(u)"
      ],
      "execution_count": null,
      "outputs": [
        {
          "output_type": "execute_result",
          "data": {
            "text/plain": [
              "str"
            ]
          },
          "metadata": {},
          "execution_count": 13
        }
      ]
    },
    {
      "cell_type": "markdown",
      "metadata": {
        "id": "_JRzUern4pPG"
      },
      "source": [
        "## Operations\n",
        "<aside>Python Operators in general are used to perform operations on values and variables. These are standard symbols used for the purpose of logical and arithmetic operations. In this article, we will look into different types of Python operators. [5]"
      ]
    },
    {
      "cell_type": "code",
      "metadata": {
        "colab": {
          "base_uri": "https://localhost:8080/",
          "height": 111
        },
        "id": "eLyA5HDlazbB",
        "outputId": "922b86ba-5fe9-4dbc-b760-1eb056c14ba8"
      },
      "source": [
        "#@title\n",
        "%%html \n",
        "<style>\n",
        "  body {background-color: #B0E0E6;}\n",
        "</style>\n",
        "<body>\n",
        "<h1 style=\"font-family: Garamond;\">Arithmetic </h1>\n",
        "<h3 style=\"font-family: Didot;\">Arithmetic operators are used to perform mathematical operations like addition, subtraction, multiplication, etc [3]\n",
        "<body>"
      ],
      "execution_count": 3,
      "outputs": [
        {
          "output_type": "display_data",
          "data": {
            "text/html": [
              "<style>\n",
              "  body {background-color: #B0E0E6;}\n",
              "</style>\n",
              "<body>\n",
              "<h1 style=\"font-family: Garamond;\">Arithmetic </h1>\n",
              "<h3 style=\"font-family: Didot;\">Arithmetic operators are used to perform mathematical operations like addition, subtraction, multiplication, etc [4]\n",
              "<body>"
            ],
            "text/plain": [
              "<IPython.core.display.HTML object>"
            ]
          },
          "metadata": {}
        }
      ]
    },
    {
      "cell_type": "markdown",
      "metadata": {
        "id": "eGNVqneyUPmh"
      },
      "source": [
        ""
      ]
    },
    {
      "cell_type": "code",
      "metadata": {
        "colab": {
          "base_uri": "https://localhost:8080/"
        },
        "id": "BcJZc-hs4nI_",
        "outputId": "c970afdf-39f4-4829-d343-ac8dcd434c4a"
      },
      "source": [
        "w, x, y, z = 4.0, -3.0, 1, -32\n",
        "type(w)\n"
      ],
      "execution_count": 15,
      "outputs": [
        {
          "output_type": "execute_result",
          "data": {
            "text/plain": [
              "float"
            ]
          },
          "metadata": {},
          "execution_count": 15
        }
      ]
    },
    {
      "cell_type": "code",
      "metadata": {
        "colab": {
          "base_uri": "https://localhost:8080/"
        },
        "id": "ghlPndOq5IAK",
        "outputId": "97d4b1bf-9ac3-48c5-b755-2d0cf4bcadcb"
      },
      "source": [
        "### Addition\n",
        "S = w + x\n",
        "S"
      ],
      "execution_count": null,
      "outputs": [
        {
          "output_type": "execute_result",
          "data": {
            "text/plain": [
              "1.0"
            ]
          },
          "metadata": {},
          "execution_count": 18
        }
      ]
    },
    {
      "cell_type": "code",
      "metadata": {
        "colab": {
          "base_uri": "https://localhost:8080/"
        },
        "id": "YKptDIkU5dSI",
        "outputId": "7a057608-90a2-4fb0-9be3-1c6df64d30ac"
      },
      "source": [
        "### Subtraction\n",
        "D = y - z\n",
        "D"
      ],
      "execution_count": null,
      "outputs": [
        {
          "output_type": "execute_result",
          "data": {
            "text/plain": [
              "33"
            ]
          },
          "metadata": {},
          "execution_count": 19
        }
      ]
    },
    {
      "cell_type": "code",
      "metadata": {
        "colab": {
          "base_uri": "https://localhost:8080/"
        },
        "id": "bc6pTUmS5omw",
        "outputId": "67642684-9159-4783-c1dd-dde60e7c0290"
      },
      "source": [
        "### Multiplication\n",
        "P = w*z\n",
        "P"
      ],
      "execution_count": null,
      "outputs": [
        {
          "output_type": "execute_result",
          "data": {
            "text/plain": [
              "-128.0"
            ]
          },
          "metadata": {},
          "execution_count": 35
        }
      ]
    },
    {
      "cell_type": "code",
      "metadata": {
        "colab": {
          "base_uri": "https://localhost:8080/"
        },
        "id": "TJGdGkg2543d",
        "outputId": "e3c44fed-e455-4ecd-89a7-571c28ba2bbb"
      },
      "source": [
        "### Division\n",
        "Q = y/x\n",
        "Q"
      ],
      "execution_count": null,
      "outputs": [
        {
          "output_type": "execute_result",
          "data": {
            "text/plain": [
              "-0.3333333333333333"
            ]
          },
          "metadata": {},
          "execution_count": 25
        }
      ]
    },
    {
      "cell_type": "code",
      "metadata": {
        "colab": {
          "base_uri": "https://localhost:8080/"
        },
        "id": "j1J5q2NW6bVY",
        "outputId": "e01e563d-fec7-4d6c-e568-3ba1a20a71bd"
      },
      "source": [
        "### Floor Division\n",
        "Qf = w//z\n",
        "Qf"
      ],
      "execution_count": 16,
      "outputs": [
        {
          "output_type": "execute_result",
          "data": {
            "text/plain": [
              "-1.0"
            ]
          },
          "metadata": {},
          "execution_count": 16
        }
      ]
    },
    {
      "cell_type": "code",
      "metadata": {
        "colab": {
          "base_uri": "https://localhost:8080/"
        },
        "id": "vq3VSmK07BSZ",
        "outputId": "3a4ba77d-5936-4656-f868-352997b2a4c8"
      },
      "source": [
        "### Exponentiation\n",
        "E = w**w\n",
        "E"
      ],
      "execution_count": null,
      "outputs": [
        {
          "output_type": "execute_result",
          "data": {
            "text/plain": [
              "256.0"
            ]
          },
          "metadata": {},
          "execution_count": 36
        }
      ]
    },
    {
      "cell_type": "code",
      "metadata": {
        "colab": {
          "base_uri": "https://localhost:8080/"
        },
        "id": "WHYQrp1s7VlK",
        "outputId": "de797bf8-6b2f-4ec0-b150-668a9e716bad"
      },
      "source": [
        "### Modulo\n",
        "mod = z%x\n",
        "mod"
      ],
      "execution_count": null,
      "outputs": [
        {
          "output_type": "execute_result",
          "data": {
            "text/plain": [
              "-2.0"
            ]
          },
          "metadata": {},
          "execution_count": 37
        }
      ]
    },
    {
      "cell_type": "code",
      "metadata": {
        "colab": {
          "base_uri": "https://localhost:8080/",
          "height": 111
        },
        "id": "h_i4pW6VbEfP",
        "outputId": "6fff8100-8185-4379-e5cc-a30d6fe69c49"
      },
      "source": [
        "#@title\n",
        "%%html \n",
        "<style>\n",
        "  body {background-color: #B0E0E6;}\n",
        "</style>\n",
        "<body>\n",
        "<h1 style=\"font-family: Garamond;\">Assignment </h1>\n",
        "<h3 style=\"font-family: Garamond;\">Assignment operators are used in Python to assign values to variables [3]</h3>\n",
        "<body>"
      ],
      "execution_count": 6,
      "outputs": [
        {
          "output_type": "display_data",
          "data": {
            "text/html": [
              "<style>\n",
              "  body {background-color: #B0E0E6;}\n",
              "</style>\n",
              "<body>\n",
              "<h1 style=\"font-family: Garamond;\">Assignment </h1>\n",
              "<h3 style=\"font-family: Garamond;\">Assignment operators are used in Python to assign values to variables [3]</h3>\n",
              "<body>"
            ],
            "text/plain": [
              "<IPython.core.display.HTML object>"
            ]
          },
          "metadata": {}
        }
      ]
    },
    {
      "cell_type": "code",
      "metadata": {
        "colab": {
          "base_uri": "https://localhost:8080/"
        },
        "id": "EOmNcPZF7vvj",
        "outputId": "8aa09438-b504-4e99-b977-811d32d86973"
      },
      "source": [
        "A, B, C, D, E = 0, 100, 2, 1, 2\n",
        "type (A)\n"
      ],
      "execution_count": null,
      "outputs": [
        {
          "output_type": "execute_result",
          "data": {
            "text/plain": [
              "int"
            ]
          },
          "metadata": {},
          "execution_count": 52
        }
      ]
    },
    {
      "cell_type": "code",
      "metadata": {
        "colab": {
          "base_uri": "https://localhost:8080/"
        },
        "id": "zWbTmdza798Y",
        "outputId": "cfe3f214-5a5c-4573-d364-9c7b317e984d"
      },
      "source": [
        "A += w\n",
        "A"
      ],
      "execution_count": null,
      "outputs": [
        {
          "output_type": "execute_result",
          "data": {
            "text/plain": [
              "12.0"
            ]
          },
          "metadata": {},
          "execution_count": 48
        }
      ]
    },
    {
      "cell_type": "code",
      "metadata": {
        "colab": {
          "base_uri": "https://localhost:8080/"
        },
        "id": "v0T_paH379y2",
        "outputId": "263748e8-e9e9-4cfa-8070-bce6b646365e"
      },
      "source": [
        "B -= x\n",
        "B"
      ],
      "execution_count": null,
      "outputs": [
        {
          "output_type": "execute_result",
          "data": {
            "text/plain": [
              "106.0"
            ]
          },
          "metadata": {},
          "execution_count": 50
        }
      ]
    },
    {
      "cell_type": "code",
      "metadata": {
        "colab": {
          "base_uri": "https://localhost:8080/"
        },
        "id": "GnTeIUDy8Tfk",
        "outputId": "469ce5e1-7da5-48f8-8404-fb9213d05e34"
      },
      "source": [
        "C *= w\n",
        "C"
      ],
      "execution_count": null,
      "outputs": [
        {
          "output_type": "execute_result",
          "data": {
            "text/plain": [
              "128.0"
            ]
          },
          "metadata": {},
          "execution_count": 55
        }
      ]
    },
    {
      "cell_type": "code",
      "metadata": {
        "colab": {
          "base_uri": "https://localhost:8080/"
        },
        "id": "9BpbzIlG9Xe5",
        "outputId": "f7a86f6f-66d8-44bf-95a8-e9fc38a779a3"
      },
      "source": [
        "D /= x\n",
        "D"
      ],
      "execution_count": null,
      "outputs": [
        {
          "output_type": "execute_result",
          "data": {
            "text/plain": [
              "-0.037037037037037035"
            ]
          },
          "metadata": {},
          "execution_count": 58
        }
      ]
    },
    {
      "cell_type": "code",
      "metadata": {
        "colab": {
          "base_uri": "https://localhost:8080/"
        },
        "id": "lH18q0wX9fxM",
        "outputId": "b4794ca4-6874-4555-b940-d9a1a5014fbb"
      },
      "source": [
        "E **= y\n",
        "E"
      ],
      "execution_count": null,
      "outputs": [
        {
          "output_type": "execute_result",
          "data": {
            "text/plain": [
              "256.0"
            ]
          },
          "metadata": {},
          "execution_count": 68
        }
      ]
    },
    {
      "cell_type": "code",
      "metadata": {
        "colab": {
          "base_uri": "https://localhost:8080/",
          "height": 111
        },
        "id": "K0gu0hjRbIcs",
        "outputId": "bd2aa617-2d8e-4dc7-cff1-1c6c7eb4c931"
      },
      "source": [
        "#@title\n",
        "%%html \n",
        "<style>\n",
        "  body {background-color: #B0E0E6;}\n",
        "</style>\n",
        "<body>\n",
        "<h1 style=\"font-family: Garamond;\">Comparators </h1>\n",
        "<h3 style=\"font-family: Garamond;\">These operators compare the values on either sides of them and decide the relation among them. They are also called Relational operators [4]</h3>\n",
        "<body>"
      ],
      "execution_count": 8,
      "outputs": [
        {
          "output_type": "display_data",
          "data": {
            "text/html": [
              "<style>\n",
              "  body {background-color: #B0E0E6;}\n",
              "</style>\n",
              "<body>\n",
              "<h1 style=\"font-family: Garamond;\">Comparators </h1>\n",
              "<h3 style=\"font-family: Garamond;\">These operators compare the values on either sides of them and decide the relation among them. They are also called Relational operators [4]</h3>\n",
              "<body>"
            ],
            "text/plain": [
              "<IPython.core.display.HTML object>"
            ]
          },
          "metadata": {}
        }
      ]
    },
    {
      "cell_type": "code",
      "metadata": {
        "id": "sibUSgWR9qXu"
      },
      "source": [
        "size_1, size_2, size_3 = 1, 2.0, \"1\"\n",
        "true_size = 1.0"
      ],
      "execution_count": null,
      "outputs": []
    },
    {
      "cell_type": "code",
      "metadata": {
        "colab": {
          "base_uri": "https://localhost:8080/"
        },
        "id": "x3W8_hXI-Us8",
        "outputId": "62c18281-0d9d-4a1d-9e21-4c00c7de6dd1"
      },
      "source": [
        "## Equality\n",
        "size_1 == true_size"
      ],
      "execution_count": null,
      "outputs": [
        {
          "output_type": "execute_result",
          "data": {
            "text/plain": [
              "True"
            ]
          },
          "metadata": {},
          "execution_count": 72
        }
      ]
    },
    {
      "cell_type": "code",
      "metadata": {
        "colab": {
          "base_uri": "https://localhost:8080/"
        },
        "id": "2Pg8JOby-UlV",
        "outputId": "e210889c-53bf-49f2-f81b-3682e4919795"
      },
      "source": [
        "## Non-Equality\n",
        "size_2 != true_size"
      ],
      "execution_count": null,
      "outputs": [
        {
          "output_type": "execute_result",
          "data": {
            "text/plain": [
              "True"
            ]
          },
          "metadata": {},
          "execution_count": 73
        }
      ]
    },
    {
      "cell_type": "code",
      "metadata": {
        "colab": {
          "base_uri": "https://localhost:8080/"
        },
        "id": "pQRfGwYS-UcR",
        "outputId": "813f9e91-9543-4bf5-f0d4-8e97b14b6526"
      },
      "source": [
        "## Inequality\n",
        "s1 = size_1 > size_2\n",
        "s2 = size_1 < size_2/2\n",
        "s3 = true_size >= size_1\n",
        "s4 = size_2 <= true_size\n",
        "s4"
      ],
      "execution_count": null,
      "outputs": [
        {
          "output_type": "execute_result",
          "data": {
            "text/plain": [
              "False"
            ]
          },
          "metadata": {},
          "execution_count": 80
        }
      ]
    },
    {
      "cell_type": "code",
      "metadata": {
        "colab": {
          "base_uri": "https://localhost:8080/",
          "height": 111
        },
        "id": "J8ULskiVbLum",
        "outputId": "607878bb-0fb1-48f9-bd43-cc4f355450dc"
      },
      "source": [
        "#@title\n",
        "%%html \n",
        "<style>\n",
        "  body {background-color: #B0E0E6;}\n",
        "</style>\n",
        "<body>\n",
        "<h1 style=\"font-family: Garamond;\">Logical </h1>\n",
        "<h3 style=\"font-family: Garamond;\">Logical operators are used to combine conditional statements such as \"and, or, not\". [2] </h3>\n",
        "<body>"
      ],
      "execution_count": 10,
      "outputs": [
        {
          "output_type": "display_data",
          "data": {
            "text/html": [
              "<style>\n",
              "  body {background-color: #B0E0E6;}\n",
              "</style>\n",
              "<body>\n",
              "<h1 style=\"font-family: Garamond;\">Logical </h1>\n",
              "<h3 style=\"font-family: Garamond;\">Logical operators are used to combine conditional statements such as \"and, or, not\". [2] </h3>\n",
              "<body>"
            ],
            "text/plain": [
              "<IPython.core.display.HTML object>"
            ]
          },
          "metadata": {}
        }
      ]
    },
    {
      "cell_type": "code",
      "metadata": {
        "colab": {
          "base_uri": "https://localhost:8080/"
        },
        "id": "Eqvti1FJ_Lne",
        "outputId": "54758b10-3053-4f01-c616-50afb2a83a62"
      },
      "source": [
        "size_1 == true_size"
      ],
      "execution_count": null,
      "outputs": [
        {
          "output_type": "execute_result",
          "data": {
            "text/plain": [
              "True"
            ]
          },
          "metadata": {},
          "execution_count": 83
        }
      ]
    },
    {
      "cell_type": "code",
      "metadata": {
        "colab": {
          "base_uri": "https://localhost:8080/"
        },
        "id": "25w01p_s_Lhm",
        "outputId": "c4194392-fa97-4723-867b-60f90a29604c"
      },
      "source": [
        "size_1 is true_size"
      ],
      "execution_count": null,
      "outputs": [
        {
          "output_type": "execute_result",
          "data": {
            "text/plain": [
              "False"
            ]
          },
          "metadata": {},
          "execution_count": 84
        }
      ]
    },
    {
      "cell_type": "code",
      "metadata": {
        "colab": {
          "base_uri": "https://localhost:8080/"
        },
        "id": "Pk9-_EG2_Laj",
        "outputId": "d8b4b17e-6b96-47bc-f15e-fd0ffc6ee1ab"
      },
      "source": [
        "size_1 is not true_size"
      ],
      "execution_count": null,
      "outputs": [
        {
          "output_type": "execute_result",
          "data": {
            "text/plain": [
              "True"
            ]
          },
          "metadata": {},
          "execution_count": 85
        }
      ]
    },
    {
      "cell_type": "code",
      "metadata": {
        "colab": {
          "base_uri": "https://localhost:8080/"
        },
        "id": "wIhBzQHO_LSp",
        "outputId": "c8ef35ba-3507-42b3-9eab-586fdae3d334"
      },
      "source": [
        "P, Q = True, False\n",
        "conj = P and Q\n",
        "conj"
      ],
      "execution_count": null,
      "outputs": [
        {
          "output_type": "execute_result",
          "data": {
            "text/plain": [
              "False"
            ]
          },
          "metadata": {},
          "execution_count": 89
        }
      ]
    },
    {
      "cell_type": "code",
      "metadata": {
        "colab": {
          "base_uri": "https://localhost:8080/"
        },
        "id": "rfuMBZsgAhDv",
        "outputId": "f932067e-4411-46d3-898e-216fa3b3cefa"
      },
      "source": [
        "disj = P or Q\n",
        "disj"
      ],
      "execution_count": null,
      "outputs": [
        {
          "output_type": "execute_result",
          "data": {
            "text/plain": [
              "True"
            ]
          },
          "metadata": {},
          "execution_count": 90
        }
      ]
    },
    {
      "cell_type": "code",
      "metadata": {
        "colab": {
          "base_uri": "https://localhost:8080/"
        },
        "id": "NGjeftg0Ag7D",
        "outputId": "85826d3e-a82b-4827-f1e7-24fea61b0e03"
      },
      "source": [
        "nand = not(P and Q)\n",
        "nand"
      ],
      "execution_count": null,
      "outputs": [
        {
          "output_type": "execute_result",
          "data": {
            "text/plain": [
              "True"
            ]
          },
          "metadata": {},
          "execution_count": 91
        }
      ]
    },
    {
      "cell_type": "code",
      "metadata": {
        "colab": {
          "base_uri": "https://localhost:8080/"
        },
        "id": "dfOJ1DUbAgrJ",
        "outputId": "da262724-7308-4bd3-c45c-6023caa91473"
      },
      "source": [
        "xor = (not P and Q) or (P and not Q)\n",
        "xor"
      ],
      "execution_count": null,
      "outputs": [
        {
          "output_type": "execute_result",
          "data": {
            "text/plain": [
              "True"
            ]
          },
          "metadata": {},
          "execution_count": 94
        }
      ]
    },
    {
      "cell_type": "markdown",
      "metadata": {
        "id": "xBLvHem5cB73"
      },
      "source": [
        "##Input and Output\n",
        "<aside>Any information or data sent to the computer from the user through the keyboard is called input. Output: The information produced by the computer to the user is called output. [3]"
      ]
    },
    {
      "cell_type": "code",
      "metadata": {
        "colab": {
          "base_uri": "https://localhost:8080/"
        },
        "id": "MEH1Yv3R_K-L",
        "outputId": "1c829fae-fce0-4637-dc1b-e2471ca43b1c"
      },
      "source": [
        "print(\"Hello World! Yehey\")"
      ],
      "execution_count": null,
      "outputs": [
        {
          "output_type": "stream",
          "name": "stdout",
          "text": [
            "Hello World! Yehey\n"
          ]
        }
      ]
    },
    {
      "cell_type": "code",
      "metadata": {
        "id": "XjoAWS0JB2Gf"
      },
      "source": [
        "cnt = 14000\n"
      ],
      "execution_count": null,
      "outputs": []
    },
    {
      "cell_type": "code",
      "metadata": {
        "id": "INg9oYAbcFHf"
      },
      "source": [
        ""
      ],
      "execution_count": null,
      "outputs": []
    },
    {
      "cell_type": "code",
      "metadata": {
        "colab": {
          "base_uri": "https://localhost:8080/"
        },
        "id": "IxIIJ_rdB2D2",
        "outputId": "d457ac6a-5b28-422b-a60b-4392aca690c7"
      },
      "source": [
        "string = \"Hello World!\"\n",
        "print(string, \", Current COVID count is: \", cnt)"
      ],
      "execution_count": null,
      "outputs": [
        {
          "output_type": "stream",
          "name": "stdout",
          "text": [
            "Hello World! , Current COVID count is:  14000\n"
          ]
        }
      ]
    },
    {
      "cell_type": "code",
      "metadata": {
        "colab": {
          "base_uri": "https://localhost:8080/"
        },
        "id": "DtaSdyo5B2Bs",
        "outputId": "589cfd5d-5d3d-4a99-8d0a-1548d131cee5"
      },
      "source": [
        "print(f\"{string}, current count is: {cnt}\")"
      ],
      "execution_count": null,
      "outputs": [
        {
          "output_type": "stream",
          "name": "stdout",
          "text": [
            "Hello World!, current count is: 14000\n"
          ]
        }
      ]
    },
    {
      "cell_type": "code",
      "metadata": {
        "colab": {
          "base_uri": "https://localhost:8080/"
        },
        "id": "i82FR-_HDyEr",
        "outputId": "a8181444-d9cc-43a2-9149-f33c63fae8cb"
      },
      "source": [
        "sem_grade = 86.25\n",
        "name = \"Sak\"\n",
        "print(\"hello {}, your semestral grade is: {}\".format(name, sem_grade))"
      ],
      "execution_count": null,
      "outputs": [
        {
          "output_type": "stream",
          "name": "stdout",
          "text": [
            "hello Sak, your semestral grade is: 86.25\n"
          ]
        }
      ]
    },
    {
      "cell_type": "code",
      "metadata": {
        "colab": {
          "base_uri": "https://localhost:8080/"
        },
        "id": "YoxqbMrdB18H",
        "outputId": "5b575b4e-3693-4f78-8eeb-51a7b783140a"
      },
      "source": [
        "pg, mg, fg = 0.3, 0.3, 0.4\n",
        "print(\"the weights of your semestral grades are:\\\n",
        "\\n\\t {:.2%} for Prelims\\\n",
        "\\n\\t {:.2%} for Midterms, and\\\n",
        "\\n\\t {:.2%} for Finals\".format(pg, mg, fg))"
      ],
      "execution_count": null,
      "outputs": [
        {
          "output_type": "stream",
          "name": "stdout",
          "text": [
            "the weights of your semestral grades are:\n",
            "\t 30.00% for Prelims\n",
            "\t 30.00% for Midterms, and\n",
            "\t 40.00% for Finals\n"
          ]
        }
      ]
    },
    {
      "cell_type": "code",
      "metadata": {
        "colab": {
          "base_uri": "https://localhost:8080/",
          "height": 52
        },
        "id": "iJwjBoBKB10V",
        "outputId": "e6c958f5-4d08-4eb4-fdeb-f4fc99f4399b"
      },
      "source": [
        "e = input(\"Enter a number: \")\n",
        "e"
      ],
      "execution_count": null,
      "outputs": [
        {
          "name": "stdout",
          "output_type": "stream",
          "text": [
            "Enter a number: 5\n"
          ]
        },
        {
          "output_type": "execute_result",
          "data": {
            "application/vnd.google.colaboratory.intrinsic+json": {
              "type": "string"
            },
            "text/plain": [
              "'5'"
            ]
          },
          "metadata": {},
          "execution_count": 117
        }
      ]
    },
    {
      "cell_type": "code",
      "metadata": {
        "colab": {
          "base_uri": "https://localhost:8080/"
        },
        "id": "dYAkZCdMFsdU",
        "outputId": "9a691240-0d90-4ba0-c31c-c6cb0cd4c196"
      },
      "source": [
        "name = input(\"enter your name: \")\n",
        "pg = input(\"enter prelim grade: \")\n",
        "mg = input(\"enter midterm grade: \")\n",
        "fg = input(\"enter final grade: \")\n",
        "sem_grade = None\n",
        "print(\"hello {}, your semestral grade is: {}\".format(name, sem_grade))"
      ],
      "execution_count": null,
      "outputs": [
        {
          "output_type": "stream",
          "name": "stdout",
          "text": [
            "enter your name: sak\n",
            "enter prelim grade: 50\n",
            "enter midterm grade: 70\n",
            "enter final grade: 100\n",
            "hello sak, your semestral grade is: None\n"
          ]
        }
      ]
    },
    {
      "cell_type": "code",
      "metadata": {
        "colab": {
          "base_uri": "https://localhost:8080/"
        },
        "id": "t-8djf4FIY6n",
        "outputId": "1b4a60f5-10db-4750-8294-474e26a4d478"
      },
      "source": [
        "print(\"Hello World!\")"
      ],
      "execution_count": null,
      "outputs": [
        {
          "output_type": "stream",
          "name": "stdout",
          "text": [
            "Hello World!\n"
          ]
        }
      ]
    },
    {
      "cell_type": "markdown",
      "metadata": {
        "id": "b80laG3_LiDO"
      },
      "source": [
        "##Looping Statements\n",
        "<aside>Looping statement is a series of steps or sequence of statements executed repeatedly zero or more times satisfying the given condition is satisfied"
      ]
    },
    {
      "cell_type": "markdown",
      "metadata": {
        "id": "nOv22_0acez9"
      },
      "source": [
        "![image](https://pics.me.me/now-lets-see-who-you-really-are-for-loop-while-37394831.png)"
      ]
    },
    {
      "cell_type": "code",
      "metadata": {
        "colab": {
          "base_uri": "https://localhost:8080/"
        },
        "id": "YvLFjVvILdrv",
        "outputId": "fa90e4d8-2ebf-4e81-fe9e-c0d22c5deb70"
      },
      "source": [
        "## while loops\n",
        "i, j = 0, 10\n",
        "while(i<=j):\n",
        "  print(f\"{i}\\t\\t{j}\")\n",
        "  i += 1\n",
        "  "
      ],
      "execution_count": 11,
      "outputs": [
        {
          "output_type": "stream",
          "name": "stdout",
          "text": [
            "0\t\t10\n",
            "1\t\t10\n",
            "2\t\t10\n",
            "3\t\t10\n",
            "4\t\t10\n",
            "5\t\t10\n",
            "6\t\t10\n",
            "7\t\t10\n",
            "8\t\t10\n",
            "9\t\t10\n",
            "10\t\t10\n"
          ]
        }
      ]
    },
    {
      "cell_type": "code",
      "metadata": {
        "colab": {
          "base_uri": "https://localhost:8080/"
        },
        "id": "bt2zc3_1LdlE",
        "outputId": "60976a9f-f87e-431f-c09a-f4ce8a851990"
      },
      "source": [
        "# for(int = 0; i<10; i++)\n",
        "# printf(i)\n",
        "# }\n",
        "\n",
        "i = 0\n",
        "for i in range(10):\n",
        "  print(i)"
      ],
      "execution_count": 12,
      "outputs": [
        {
          "output_type": "stream",
          "name": "stdout",
          "text": [
            "0\n",
            "1\n",
            "2\n",
            "3\n",
            "4\n",
            "5\n",
            "6\n",
            "7\n",
            "8\n",
            "9\n"
          ]
        }
      ]
    },
    {
      "cell_type": "code",
      "metadata": {
        "colab": {
          "base_uri": "https://localhost:8080/"
        },
        "id": "dgZfXAYvLdZE",
        "outputId": "cc86f22a-a1d5-41c3-bbec-cd2c3ac418ee"
      },
      "source": [
        "playlist = [\"bahay kubo\", \"magandang kanta\", \"buko\"]\n",
        "print('now playing:\\n')\n",
        "for song in playlist:\n",
        "  print(song)"
      ],
      "execution_count": 13,
      "outputs": [
        {
          "output_type": "stream",
          "name": "stdout",
          "text": [
            "now playing:\n",
            "\n",
            "bahay kubo\n",
            "magandang kanta\n",
            "buko\n"
          ]
        }
      ]
    },
    {
      "cell_type": "markdown",
      "metadata": {
        "id": "rZNO37ojNTiq"
      },
      "source": [
        "## Flow Control and Functions\n",
        "<aside>Flow control is a program's control flow is the order in which the program's code executes where the control flow of a Python program is regulated by conditional statements, loops, and function calls."
      ]
    },
    {
      "cell_type": "code",
      "metadata": {
        "colab": {
          "base_uri": "https://localhost:8080/",
          "height": 74
        },
        "id": "kgS9CTyTctyY",
        "outputId": "7929e83e-dc20-417c-c575-675c9c68c8f6"
      },
      "source": [
        "#@title\n",
        "%%html \n",
        "<style>\n",
        "  body {background-color: #B0E0E6;}\n",
        "</style>\n",
        "<body>\n",
        "<h1 style=\"font-family: Garamond;\">Conditional Statements </h1>\n",
        "<body>"
      ],
      "execution_count": null,
      "outputs": [
        {
          "output_type": "display_data",
          "data": {
            "text/html": [
              "<style>\n",
              "  body {background-color: #B0E0E6;}\n",
              "</style>\n",
              "<body>\n",
              "<h1 style=\"font-family: Garamond;\">Conditional Statements </h1>\n",
              "<body>"
            ],
            "text/plain": [
              "<IPython.core.display.HTML object>"
            ]
          },
          "metadata": {}
        }
      ]
    },
    {
      "cell_type": "code",
      "metadata": {
        "colab": {
          "base_uri": "https://localhost:8080/"
        },
        "id": "uqfzln8LNYlZ",
        "outputId": "424441c3-40ea-4416-d6c0-8c8178a50402"
      },
      "source": [
        "num_1, num_2 = 13, 12\n",
        "if(num_1 == num_2): \n",
        "  print(\"hehe\")\n",
        "elif(num_1>num_2):\n",
        "  print(\"harhar\")\n",
        "else:\n",
        "  print(\"huha\")\n",
        "\n"
      ],
      "execution_count": null,
      "outputs": [
        {
          "output_type": "stream",
          "name": "stdout",
          "text": [
            "harhar\n"
          ]
        }
      ]
    },
    {
      "cell_type": "code",
      "metadata": {
        "id": "WAXfN5fzOOTZ"
      },
      "source": [
        "# void Deleteuser (int userid){\n",
        "# delete(userid);\n",
        "# }    \n",
        "\n",
        "def delete_user (userid):\n",
        "  print(\"Successfully deleted user: {}\".format(userid))\n",
        "  "
      ],
      "execution_count": null,
      "outputs": []
    },
    {
      "cell_type": "code",
      "metadata": {
        "colab": {
          "base_uri": "https://localhost:8080/"
        },
        "id": "2XjKluruOeRa",
        "outputId": "865f9d38-3e1b-4239-d2e9-66cc0525887e"
      },
      "source": [
        "userid = 2020_13896\n",
        "delete_user(2020_13896)"
      ],
      "execution_count": null,
      "outputs": [
        {
          "output_type": "stream",
          "name": "stdout",
          "text": [
            "Successfully deleted user: 202013896\n"
          ]
        }
      ]
    },
    {
      "cell_type": "code",
      "metadata": {
        "id": "BcuuqLHPO9sW"
      },
      "source": [
        "addend1, addend2 = 5, 6"
      ],
      "execution_count": null,
      "outputs": []
    },
    {
      "cell_type": "code",
      "metadata": {
        "id": "6dUenSYpO2rN"
      },
      "source": [
        "def add(addend1, addend2):\n",
        "  sum =  addend1 + addend2\n",
        "  return sum\n",
        "  "
      ],
      "execution_count": null,
      "outputs": []
    },
    {
      "cell_type": "code",
      "metadata": {
        "colab": {
          "base_uri": "https://localhost:8080/"
        },
        "id": "dQSTzwEgPr_P",
        "outputId": "6933b5c6-909d-4b45-e7cf-075a2a6b2617"
      },
      "source": [
        "add(3, 4)"
      ],
      "execution_count": null,
      "outputs": [
        {
          "output_type": "execute_result",
          "data": {
            "text/plain": [
              "7"
            ]
          },
          "metadata": {},
          "execution_count": 140
        }
      ]
    },
    {
      "cell_type": "markdown",
      "metadata": {
        "id": "ODsgGak3Vv5N"
      },
      "source": [
        "##References:\n",
        "[1] Python Data Types and Variables. net-informations.com. Accessed on 12-09-21. Available: http://net-informations.com/python/basics/types.htm\n",
        "\n",
        "[2] Python operators, GeeksforGeeks, 07-Sep-2021. Accessed on 12-09-21. Available: https://www.geeksforgeeks.org/python-operators/.  \n",
        "\n",
        "[3] Python Operators. Parewa Labs Pvt. Ltd. Accessed on 12-09-21. Available: https://www.programiz.com/python-programming/operators\n",
        "\n",
        "[4] Python Comparators. tutorialspoint. Accessed on 12-09-21. Available: https://www.tutorialspoint.com/python/comparison_operators_example.htm\n",
        "\n",
        "[5] Python Input and Output Statements. CherCherTech. Accessed on 12-09-21. Available: https://chercher.tech/python-programming/python-inputs-and-outputs#:~:text=Input%20%3A%20Any%20information%20or%20data,the%20user%20is%20called%20output."
      ]
    }
  ]
}