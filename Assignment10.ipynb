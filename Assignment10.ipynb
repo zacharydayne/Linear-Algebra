{
  "nbformat": 4,
  "nbformat_minor": 0,
  "metadata": {
    "colab": {
      "name": "Assignment10",
      "provenance": [],
      "authorship_tag": "ABX9TyOp4qvlgB8/DhXAQ2Fce3Xa",
      "include_colab_link": true
    },
    "kernelspec": {
      "name": "python3",
      "display_name": "Python 3"
    },
    "language_info": {
      "name": "python"
    }
  },
  "cells": [
    {
      "cell_type": "markdown",
      "metadata": {
        "id": "view-in-github",
        "colab_type": "text"
      },
      "source": [
        "<a href=\"https://colab.research.google.com/github/zacharydayne/Linear-Algebra/blob/main/Assignment10.ipynb\" target=\"_parent\"><img src=\"https://colab.research.google.com/assets/colab-badge.svg\" alt=\"Open In Colab\"/></a>"
      ]
    },
    {
      "cell_type": "markdown",
      "metadata": {
        "id": "uIynlK6NTcZs"
      },
      "source": [
        "#Linear Combination"
      ]
    },
    {
      "cell_type": "markdown",
      "metadata": {
        "id": "ROfNBS0YkTwV"
      },
      "source": [
        "###Objectives\n",
        "At the end of this activity you will be able to:\n",
        "1. Be familiar with representing linear combinations in the 2-dimensional plane.\n",
        "2. Visualize spans using vector fields in Python.\n",
        "3. Perform vector fields operations using scientific programming."
      ]
    },
    {
      "cell_type": "markdown",
      "metadata": {
        "id": "J4hl2nTTkU_e"
      },
      "source": [
        "##Discussion"
      ]
    },
    {
      "cell_type": "code",
      "metadata": {
        "id": "6XAAdPVZTX-F"
      },
      "source": [
        "import numpy as np\n",
        "import matplotlib.pyplot as plt\n",
        "%matplotlib inline"
      ],
      "execution_count": 4,
      "outputs": []
    },
    {
      "cell_type": "markdown",
      "metadata": {
        "id": "Ua5Qv30akXPb"
      },
      "source": [
        "##Linear Combination\n",
        "\n",
        "It is said that a linear combination is the combination of linear scaling and addition of a vector its bases/components\n",
        "\n",
        "We will try to visualize the vectors and their linear combinations by plotting a sample of real number values for the scalars for the vectors. Let's first try the vectors below:\n"
      ]
    },
    {
      "cell_type": "markdown",
      "metadata": {
        "id": "GXUZGEgZTsQA"
      },
      "source": [
        "$$X = \\begin{bmatrix} 2\\\\5 \\\\\\end{bmatrix} , Y = \\begin{bmatrix} 7\\\\9 \\\\\\end{bmatrix} $$"
      ]
    },
    {
      "cell_type": "code",
      "metadata": {
        "id": "BLbqA8R8Tfep"
      },
      "source": [
        "vectX = np.array([2,5])\n",
        "vectY = np.array([7,9])\n",
        "#vectX\n",
        "vectY"
      ],
      "execution_count": null,
      "outputs": []
    },
    {
      "cell_type": "markdown",
      "metadata": {
        "id": "yFmjnIF9UONt"
      },
      "source": [
        "#Span of single vectors\n",
        "\n",
        "As discussed in the lecture, the span of individual vectors can be represented by a line span. Let's take vector $X$ as an example.\n",
        "\n",
        "$$X = c\\cdot \\begin{bmatrix} 2\\\\5 \\\\\\end{bmatrix} $$"
      ]
    },
    {
      "cell_type": "code",
      "metadata": {
        "colab": {
          "base_uri": "https://localhost:8080/",
          "height": 269
        },
        "id": "-lvs5qdDXRC6",
        "outputId": "c85fd727-870f-439f-fdec-91e3f5936d35"
      },
      "source": [
        "c = np.arange(-10,10,0.125)\n",
        "\n",
        "plt.scatter(vectX[0], vectX[1])\n",
        "\n",
        "plt.xlim(-10,10)\n",
        "plt.ylim(-10,10)\n",
        "plt.axhline(y=0, color='k')\n",
        "plt.axvline(x=0, color='k')\n",
        "plt.grid()\n",
        "plt.show()"
      ],
      "execution_count": null,
      "outputs": [
        {
          "output_type": "display_data",
          "data": {
            "image/png": "[encoded data removed]",
            "text/plain": [
              "<Figure size 432x288 with 1 Axes>"
            ]
          },
          "metadata": {
            "needs_background": "light"
          }
        }
      ]
    },
    {
      "cell_type": "code",
      "metadata": {
        "colab": {
          "base_uri": "https://localhost:8080/",
          "height": 269
        },
        "id": "ixBAgjm1Uc1A",
        "outputId": "f1e94150-0791-479e-9461-e86a21ef8655"
      },
      "source": [
        "c = np.arange(-10,10,0.125)\n",
        "\n",
        "plt.scatter(c*vectX[0], c*vectX[1])\n",
        "\n",
        "plt.xlim(-10,10)\n",
        "plt.ylim(-10,10)\n",
        "plt.axhline(y=0, color='k')\n",
        "plt.axvline(x=0, color='k')\n",
        "plt.grid()\n",
        "plt.show()"
      ],
      "execution_count": null,
      "outputs": [
        {
          "output_type": "display_data",
          "data": {
            "image/png": "[encoded data removed]",
            "text/plain": [
              "<Figure size 432x288 with 1 Axes>"
            ]
          },
          "metadata": {
            "needs_background": "light"
          }
        }
      ]
    },
    {
      "cell_type": "code",
      "metadata": {
        "id": "h9OyBpM1WKb0"
      },
      "source": [
        ""
      ],
      "execution_count": null,
      "outputs": []
    },
    {
      "cell_type": "markdown",
      "metadata": {
        "id": "NaZlS9l0Wfv3"
      },
      "source": [
        "#Span of single vectors\n",
        "\n",
        "$$Y = c\\cdot \\begin{bmatrix} 7\\\\9 \\\\\\end{bmatrix} $$"
      ]
    },
    {
      "cell_type": "code",
      "metadata": {
        "colab": {
          "base_uri": "https://localhost:8080/",
          "height": 269
        },
        "id": "IWaQb3CsWqj3",
        "outputId": "38452200-617c-4b18-f7d8-7a6153cdd101"
      },
      "source": [
        "c = np.arange(-15,15,1)\n",
        "\n",
        "plt.scatter(vectY[0], vectY[1])\n",
        "\n",
        "plt.xlim(-20,20)\n",
        "plt.ylim(-20,20)\n",
        "plt.axhline(y=0, color='k')\n",
        "plt.axvline(x=0, color='k')\n",
        "plt.grid()\n",
        "plt.show()"
      ],
      "execution_count": null,
      "outputs": [
        {
          "output_type": "display_data",
          "data": {
            "image/png": "[encoded data removed]",
            "text/plain": [
              "<Figure size 432x288 with 1 Axes>"
            ]
          },
          "metadata": {
            "needs_background": "light"
          }
        }
      ]
    },
    {
      "cell_type": "code",
      "metadata": {
        "colab": {
          "base_uri": "https://localhost:8080/",
          "height": 269
        },
        "id": "YjrgtbSCXOOj",
        "outputId": "71e0ab2a-681b-49f6-85ea-6d402e9d2713"
      },
      "source": [
        "c = np.arange(-15,15,1)\n",
        "\n",
        "plt.scatter(c*vectY[0], c*vectY[1])\n",
        "\n",
        "plt.xlim(-20,20)\n",
        "plt.ylim(-20,20)\n",
        "plt.axhline(y=0, color='k')\n",
        "plt.axvline(x=0, color='k')\n",
        "plt.grid()\n",
        "plt.show()"
      ],
      "execution_count": null,
      "outputs": [
        {
          "output_type": "display_data",
          "data": {
            "image/png": "[encoded data removed]",
            "text/plain": [
              "<Figure size 432x288 with 1 Axes>"
            ]
          },
          "metadata": {
            "needs_background": "light"
          }
        }
      ]
    },
    {
      "cell_type": "markdown",
      "metadata": {
        "id": "TLvItM6LX3ww"
      },
      "source": [
        "#Span of a linear combination of vectors"
      ]
    },
    {
      "cell_type": "markdown",
      "metadata": {
        "id": "yuvEbnUDX6r4"
      },
      "source": [
        "$$S = \\begin{bmatrix} 2\\\\5 \\\\\\end{bmatrix} $$"
      ]
    },
    {
      "cell_type": "code",
      "metadata": {
        "colab": {
          "base_uri": "https://localhost:8080/",
          "height": 265
        },
        "id": "5MiidAmAX6IN",
        "outputId": "c317a2df-2a4f-491c-d72e-900db873d0e5"
      },
      "source": [
        "vectA = np.array([1,0])\n",
        "vectB = np.array([1,-1])\n",
        "\n",
        "R = np.arange(-10,10,1)\n",
        "\n",
        "c1, c2 = np.meshgrid(R,R)\n",
        "vectR = vectA + vectB\n",
        "spanRx = c1*vectA[0] + c2*vectB[0]\n",
        "spanRy = c1*vectA[1] + c2*vectB[1]\n",
        "# plt.scatter(R*vectA[0], R*vectA[1])\n",
        "plt.scatter(spanRx,spanRy, s=5, alpha=0.75)\n",
        "\n",
        "plt.axhline(y=0, color='k')\n",
        "plt.axvline(x=0, color='k')\n",
        "plt.grid()\n",
        "plt.show()"
      ],
      "execution_count": null,
      "outputs": [
        {
          "output_type": "display_data",
          "data": {
            "image/png": "[encoded data removed]",
            "text/plain": [
              "<Figure size 432x288 with 1 Axes>"
            ]
          },
          "metadata": {
            "needs_background": "light"
          }
        }
      ]
    },
    {
      "cell_type": "code",
      "metadata": {
        "colab": {
          "base_uri": "https://localhost:8080/",
          "height": 265
        },
        "id": "q5gsh9Lfa4QO",
        "outputId": "bb71f1b9-9ad8-42ca-9e1d-7957c6f2ffee"
      },
      "source": [
        "vectA = np.array([1,0])\n",
        "vectB = np.array([1,-1])\n",
        "\n",
        "R = np.arange(-20,20,1)\n",
        "\n",
        "c1, c2 = np.meshgrid(R,R)\n",
        "vectR = vectA + vectB\n",
        "spanRx = c1*vectA[0] + c2*vectB[0]\n",
        "spanRy = c1*vectA[1] + c2*vectB[1]\n",
        "# plt.scatter(R*vectA[0], R*vectA[1])\n",
        "plt.scatter(spanRx,spanRy, s=5, alpha=0.75)\n",
        "\n",
        "plt.axhline(y=0, color='k')\n",
        "plt.axvline(x=0, color='k')\n",
        "plt.grid()\n",
        "plt.show()"
      ],
      "execution_count": null,
      "outputs": [
        {
          "output_type": "display_data",
          "data": {
            "image/png": "[encoded data removed]",
            "text/plain": [
              "<Figure size 432x288 with 1 Axes>"
            ]
          },
          "metadata": {
            "needs_background": "light"
          }
        }
      ]
    },
    {
      "cell_type": "code",
      "metadata": {
        "colab": {
          "base_uri": "https://localhost:8080/",
          "height": 265
        },
        "id": "XXioD0oCZ-Cf",
        "outputId": "9b358578-f7e1-416b-b0eb-59eedc679f96"
      },
      "source": [
        "plt.scatter(R*vectA[0], R*vectA[1])\n",
        "\n",
        "plt.axhline(y=0, color='k')\n",
        "plt.axvline(x=0, color='k')\n",
        "plt.grid()\n",
        "plt.show()"
      ],
      "execution_count": null,
      "outputs": [
        {
          "output_type": "display_data",
          "data": {
            "image/png": "[encoded data removed]",
            "text/plain": [
              "<Figure size 432x288 with 1 Axes>"
            ]
          },
          "metadata": {
            "needs_background": "light"
          }
        }
      ]
    },
    {
      "cell_type": "code",
      "metadata": {
        "colab": {
          "base_uri": "https://localhost:8080/",
          "height": 265
        },
        "id": "P5g7P3cfaQ7E",
        "outputId": "73c73416-1f43-401e-d2db-fffdb66d4787"
      },
      "source": [
        "plt.scatter(R*vectB[0], R*vectB[1])\n",
        "\n",
        "plt.axhline(y=0, color='k')\n",
        "plt.axvline(x=0, color='k')\n",
        "plt.grid()\n",
        "plt.show()"
      ],
      "execution_count": null,
      "outputs": [
        {
          "output_type": "display_data",
          "data": {
            "image/png": "[encoded data removed]",
            "text/plain": [
              "<Figure size 432x288 with 1 Axes>"
            ]
          },
          "metadata": {
            "needs_background": "light"
          }
        }
      ]
    },
    {
      "cell_type": "code",
      "metadata": {
        "colab": {
          "base_uri": "https://localhost:8080/"
        },
        "id": "7O_bLis5Zqvi",
        "outputId": "bd5df514-5df7-4433-bd4d-14fc38bd51de"
      },
      "source": [
        "vectA = np.array([1,0])\n",
        "vectB = np.array([1,-1])\n",
        "\n",
        "R = np.arange(-10,10,1)\n",
        "\n",
        "c1, c2 = np.meshgrid(R,R)\n",
        "vectR = vectA + vectB\n",
        "spanRx = c1*vectA[0] + c2*vectB[0]\n",
        "spanRy = c1*vectA[1] + c2*vectB[1]\n",
        "# plt.scatter(R*vectA[0], R*vectA[1])\n",
        "plt.scatter(spanRx,spanRy, s=5, alpha=0.75)\n",
        "\n",
        "plt.axhline(y=0, color='k')\n",
        "plt.axvline(x=0, color='k')\n",
        "plt.grid()\n",
        "plt.show()"
      ],
      "execution_count": null,
      "outputs": [
        {
          "output_type": "stream",
          "name": "stdout",
          "text": [
            "[array([[-10,  -9,  -8,  -7,  -6,  -5,  -4,  -3,  -2,  -1,   0,   1,   2,\n",
            "          3,   4,   5,   6,   7,   8,   9],\n",
            "       [-10,  -9,  -8,  -7,  -6,  -5,  -4,  -3,  -2,  -1,   0,   1,   2,\n",
            "          3,   4,   5,   6,   7,   8,   9],\n",
            "       [-10,  -9,  -8,  -7,  -6,  -5,  -4,  -3,  -2,  -1,   0,   1,   2,\n",
            "          3,   4,   5,   6,   7,   8,   9],\n",
            "       [-10,  -9,  -8,  -7,  -6,  -5,  -4,  -3,  -2,  -1,   0,   1,   2,\n",
            "          3,   4,   5,   6,   7,   8,   9],\n",
            "       [-10,  -9,  -8,  -7,  -6,  -5,  -4,  -3,  -2,  -1,   0,   1,   2,\n",
            "          3,   4,   5,   6,   7,   8,   9],\n",
            "       [-10,  -9,  -8,  -7,  -6,  -5,  -4,  -3,  -2,  -1,   0,   1,   2,\n",
            "          3,   4,   5,   6,   7,   8,   9],\n",
            "       [-10,  -9,  -8,  -7,  -6,  -5,  -4,  -3,  -2,  -1,   0,   1,   2,\n",
            "          3,   4,   5,   6,   7,   8,   9],\n",
            "       [-10,  -9,  -8,  -7,  -6,  -5,  -4,  -3,  -2,  -1,   0,   1,   2,\n",
            "          3,   4,   5,   6,   7,   8,   9],\n",
            "       [-10,  -9,  -8,  -7,  -6,  -5,  -4,  -3,  -2,  -1,   0,   1,   2,\n",
            "          3,   4,   5,   6,   7,   8,   9],\n",
            "       [-10,  -9,  -8,  -7,  -6,  -5,  -4,  -3,  -2,  -1,   0,   1,   2,\n",
            "          3,   4,   5,   6,   7,   8,   9],\n",
            "       [-10,  -9,  -8,  -7,  -6,  -5,  -4,  -3,  -2,  -1,   0,   1,   2,\n",
            "          3,   4,   5,   6,   7,   8,   9],\n",
            "       [-10,  -9,  -8,  -7,  -6,  -5,  -4,  -3,  -2,  -1,   0,   1,   2,\n",
            "          3,   4,   5,   6,   7,   8,   9],\n",
            "       [-10,  -9,  -8,  -7,  -6,  -5,  -4,  -3,  -2,  -1,   0,   1,   2,\n",
            "          3,   4,   5,   6,   7,   8,   9],\n",
            "       [-10,  -9,  -8,  -7,  -6,  -5,  -4,  -3,  -2,  -1,   0,   1,   2,\n",
            "          3,   4,   5,   6,   7,   8,   9],\n",
            "       [-10,  -9,  -8,  -7,  -6,  -5,  -4,  -3,  -2,  -1,   0,   1,   2,\n",
            "          3,   4,   5,   6,   7,   8,   9],\n",
            "       [-10,  -9,  -8,  -7,  -6,  -5,  -4,  -3,  -2,  -1,   0,   1,   2,\n",
            "          3,   4,   5,   6,   7,   8,   9],\n",
            "       [-10,  -9,  -8,  -7,  -6,  -5,  -4,  -3,  -2,  -1,   0,   1,   2,\n",
            "          3,   4,   5,   6,   7,   8,   9],\n",
            "       [-10,  -9,  -8,  -7,  -6,  -5,  -4,  -3,  -2,  -1,   0,   1,   2,\n",
            "          3,   4,   5,   6,   7,   8,   9],\n",
            "       [-10,  -9,  -8,  -7,  -6,  -5,  -4,  -3,  -2,  -1,   0,   1,   2,\n",
            "          3,   4,   5,   6,   7,   8,   9],\n",
            "       [-10,  -9,  -8,  -7,  -6,  -5,  -4,  -3,  -2,  -1,   0,   1,   2,\n",
            "          3,   4,   5,   6,   7,   8,   9]]), array([[-10, -10, -10, -10, -10, -10, -10, -10, -10, -10, -10, -10, -10,\n",
            "        -10, -10, -10, -10, -10, -10, -10],\n",
            "       [ -9,  -9,  -9,  -9,  -9,  -9,  -9,  -9,  -9,  -9,  -9,  -9,  -9,\n",
            "         -9,  -9,  -9,  -9,  -9,  -9,  -9],\n",
            "       [ -8,  -8,  -8,  -8,  -8,  -8,  -8,  -8,  -8,  -8,  -8,  -8,  -8,\n",
            "         -8,  -8,  -8,  -8,  -8,  -8,  -8],\n",
            "       [ -7,  -7,  -7,  -7,  -7,  -7,  -7,  -7,  -7,  -7,  -7,  -7,  -7,\n",
            "         -7,  -7,  -7,  -7,  -7,  -7,  -7],\n",
            "       [ -6,  -6,  -6,  -6,  -6,  -6,  -6,  -6,  -6,  -6,  -6,  -6,  -6,\n",
            "         -6,  -6,  -6,  -6,  -6,  -6,  -6],\n",
            "       [ -5,  -5,  -5,  -5,  -5,  -5,  -5,  -5,  -5,  -5,  -5,  -5,  -5,\n",
            "         -5,  -5,  -5,  -5,  -5,  -5,  -5],\n",
            "       [ -4,  -4,  -4,  -4,  -4,  -4,  -4,  -4,  -4,  -4,  -4,  -4,  -4,\n",
            "         -4,  -4,  -4,  -4,  -4,  -4,  -4],\n",
            "       [ -3,  -3,  -3,  -3,  -3,  -3,  -3,  -3,  -3,  -3,  -3,  -3,  -3,\n",
            "         -3,  -3,  -3,  -3,  -3,  -3,  -3],\n",
            "       [ -2,  -2,  -2,  -2,  -2,  -2,  -2,  -2,  -2,  -2,  -2,  -2,  -2,\n",
            "         -2,  -2,  -2,  -2,  -2,  -2,  -2],\n",
            "       [ -1,  -1,  -1,  -1,  -1,  -1,  -1,  -1,  -1,  -1,  -1,  -1,  -1,\n",
            "         -1,  -1,  -1,  -1,  -1,  -1,  -1],\n",
            "       [  0,   0,   0,   0,   0,   0,   0,   0,   0,   0,   0,   0,   0,\n",
            "          0,   0,   0,   0,   0,   0,   0],\n",
            "       [  1,   1,   1,   1,   1,   1,   1,   1,   1,   1,   1,   1,   1,\n",
            "          1,   1,   1,   1,   1,   1,   1],\n",
            "       [  2,   2,   2,   2,   2,   2,   2,   2,   2,   2,   2,   2,   2,\n",
            "          2,   2,   2,   2,   2,   2,   2],\n",
            "       [  3,   3,   3,   3,   3,   3,   3,   3,   3,   3,   3,   3,   3,\n",
            "          3,   3,   3,   3,   3,   3,   3],\n",
            "       [  4,   4,   4,   4,   4,   4,   4,   4,   4,   4,   4,   4,   4,\n",
            "          4,   4,   4,   4,   4,   4,   4],\n",
            "       [  5,   5,   5,   5,   5,   5,   5,   5,   5,   5,   5,   5,   5,\n",
            "          5,   5,   5,   5,   5,   5,   5],\n",
            "       [  6,   6,   6,   6,   6,   6,   6,   6,   6,   6,   6,   6,   6,\n",
            "          6,   6,   6,   6,   6,   6,   6],\n",
            "       [  7,   7,   7,   7,   7,   7,   7,   7,   7,   7,   7,   7,   7,\n",
            "          7,   7,   7,   7,   7,   7,   7],\n",
            "       [  8,   8,   8,   8,   8,   8,   8,   8,   8,   8,   8,   8,   8,\n",
            "          8,   8,   8,   8,   8,   8,   8],\n",
            "       [  9,   9,   9,   9,   9,   9,   9,   9,   9,   9,   9,   9,   9,\n",
            "          9,   9,   9,   9,   9,   9,   9]])]\n"
          ]
        }
      ]
    },
    {
      "cell_type": "code",
      "metadata": {
        "colab": {
          "base_uri": "https://localhost:8080/",
          "height": 265
        },
        "id": "LugvBOfTbBEc",
        "outputId": "634ccd30-d6d2-46c6-fd36-5d037a43b22c"
      },
      "source": [
        "vectP = np.array([2,1])\n",
        "vectQ = np.array([-1,-3])\n",
        "\n",
        "R = np.arange(-10,10,1)\n",
        "c1, c2 = np.meshgrid(R,R)\n",
        "vectR = vectP + vectQ\n",
        "spanRx = c1*vectP[0] + c2*vectQ[0]\n",
        "spanRy = c1*vectP[1] + c2*vectQ[1]\n",
        "# plt.scatter(R*vectA[0], R*vectA[1])\n",
        "plt.scatter(spanRx,spanRy, s=5, alpha=0.75)\n",
        "\n",
        "plt.axhline(y=0, color='k')\n",
        "plt.axvline(x=0, color='k')\n",
        "plt.grid()\n",
        "plt.show()"
      ],
      "execution_count": null,
      "outputs": [
        {
          "output_type": "display_data",
          "data": {
            "image/png": "[encoded data removed]",
            "text/plain": [
              "<Figure size 432x288 with 1 Axes>"
            ]
          },
          "metadata": {
            "needs_background": "light"
          }
        }
      ]
    },
    {
      "cell_type": "code",
      "metadata": {
        "colab": {
          "base_uri": "https://localhost:8080/",
          "height": 265
        },
        "id": "VJqWG6ybcMaE",
        "outputId": "789bac78-1751-492a-a5b6-294e482b30a8"
      },
      "source": [
        "vectP = np.array([2,1])\n",
        "vectQ = np.array([-4,-5])\n",
        "\n",
        "R = np.arange(-10,10,1)\n",
        "c1, c2 = np.meshgrid(R,R)\n",
        "vectR = vectP + vectQ\n",
        "spanRx = c1*vectP[0] + c2*vectQ[0]\n",
        "spanRy = c1*vectP[1] + c2*vectQ[1]\n",
        "# plt.scatter(R*vectA[0], R*vectA[1])\n",
        "plt.scatter(spanRx,spanRy, s=5, alpha=0.75)\n",
        "\n",
        "plt.axhline(y=0, color='k')\n",
        "plt.axvline(x=0, color='k')\n",
        "plt.grid()\n",
        "plt.show()"
      ],
      "execution_count": null,
      "outputs": [
        {
          "output_type": "display_data",
          "data": {
            "image/png": "[encoded data removed]",
            "text/plain": [
              "<Figure size 432x288 with 1 Axes>"
            ]
          },
          "metadata": {
            "needs_background": "light"
          }
        }
      ]
    },
    {
      "cell_type": "markdown",
      "metadata": {
        "id": "TFxl8tvVdL8O"
      },
      "source": [
        "##Activity\n",
        "\n",
        "w = 0.3P + 0.3M + 0.4f\n",
        "p,m,f\n"
      ]
    },
    {
      "cell_type": "code",
      "metadata": {
        "colab": {
          "base_uri": "https://localhost:8080/"
        },
        "id": "h2wNLTajdLqD",
        "outputId": "43dc87c1-d16f-4ce2-b0de-71b7598b9168"
      },
      "source": [
        "w = np.array([0.3, 0.3, 0.4])\n",
        "grades = np.array([95, 70, 60])\n",
        "w @ grades"
      ],
      "execution_count": null,
      "outputs": [
        {
          "output_type": "execute_result",
          "data": {
            "text/plain": [
              "73.5"
            ]
          },
          "metadata": {},
          "execution_count": 51
        }
      ]
    },
    {
      "cell_type": "markdown",
      "metadata": {
        "id": "fiZqg7zXkvq4"
      },
      "source": [
        "##Activity"
      ]
    },
    {
      "cell_type": "markdown",
      "metadata": {
        "id": "gdxqG46ykyz8"
      },
      "source": [
        "$$Zach = \\begin{Bmatrix} V_1 \\cdot\\begin{bmatrix} 10\\\\6 \\\\\\end{bmatrix}, \n",
        "V_2 \\cdot \\begin{bmatrix} 7\\\\-7 \\\\\\end{bmatrix}\\end{Bmatrix} $$"
      ]
    },
    {
      "cell_type": "code",
      "metadata": {
        "colab": {
          "base_uri": "https://localhost:8080/",
          "height": 265
        },
        "id": "CUirIFZnkxh3",
        "outputId": "31e6f0fc-656f-4254-d1f2-117d823bf4df"
      },
      "source": [
        "vectA = np.array([10,6])\n",
        "vectB = np.array([7,-10])\n",
        "\n",
        "R = np.arange(-10,10,1)\n",
        "\n",
        "V1, V2 = np.meshgrid(R,R)\n",
        "\n",
        "vectR = vectA + vectB\n",
        "spanRx = V1*vectA[0] + V2*vectB[0]\n",
        "spanRy = V1*vectA[1] + V2*vectB[1]\n",
        "\n",
        "plt.scatter(spanRx,spanRy, s=5, alpha=0.75)\n",
        "\n",
        "plt.axhline(y=0, color='k')\n",
        "plt.axvline(x=0, color='k')\n",
        "plt.grid()\n",
        "plt.show()"
      ],
      "execution_count": 5,
      "outputs": [
        {
          "output_type": "display_data",
          "data": {
            "image/png": "[encoded data removed]",
            "text/plain": [
              "<Figure size 432x288 with 1 Axes>"
            ]
          },
          "metadata": {
            "needs_background": "light"
          }
        }
      ]
    },
    {
      "cell_type": "markdown",
      "metadata": {
        "id": "HEr9XFQSlmj4"
      },
      "source": [
        "![asdasdasdasd.PNG](data:image/png;base64,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)"
      ]
    }
  ]
}