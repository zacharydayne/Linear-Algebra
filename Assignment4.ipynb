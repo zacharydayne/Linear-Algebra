{
  "nbformat": 4,
  "nbformat_minor": 0,
  "metadata": {
    "colab": {
      "name": "Assignment2.ipynb",
      "provenance": [],
      "collapsed_sections": [
        "nl7kMnl2cH-k",
        "JwtLxEeAFtpA",
        "QLi5xXsmFQfo",
        "qa2L9LdkJejr",
        "QmefwWiIKN2k",
        "J2J4kurjKpba",
        "PND1FkYLLTRf",
        "uBBN1Y3bd6k2",
        "DpSaiH1ueR5o",
        "S4D49606gb4a",
        "QQBRLWTrgofm",
        "g0XdXl2Dgxi7"
      ],
      "toc_visible": true,
      "authorship_tag": "ABX9TyMBw23K4I3wBHOpgYN8kebz",
      "include_colab_link": true
    },
    "kernelspec": {
      "name": "python3",
      "display_name": "Python 3"
    },
    "language_info": {
      "name": "python"
    }
  },
  "cells": [
    {
      "cell_type": "markdown",
      "metadata": {
        "id": "view-in-github",
        "colab_type": "text"
      },
      "source": [
        "<a href=\"https://colab.research.google.com/github/zacharydayne/Linear-Algebra/blob/main/Assignment4.ipynb\" target=\"_parent\"><img src=\"https://colab.research.google.com/assets/colab-badge.svg\" alt=\"Open In Colab\"/></a>"
      ]
    },
    {
      "cell_type": "markdown",
      "metadata": {
        "id": "s8lo8cvpYItQ"
      },
      "source": [
        "#**Linear Algebra For ECE**\n",
        "##**Laboratory 4: Matrices**"
      ]
    },
    {
      "cell_type": "code",
      "metadata": {
        "id": "7Ii_hWhF8CKy"
      },
      "source": [
        "import numpy as np\n",
        "import matplotlib.pyplot as plt\n",
        "import scipy.linalg as la\n",
        "%matplotlib inline"
      ],
      "execution_count": null,
      "outputs": []
    },
    {
      "cell_type": "markdown",
      "metadata": {
        "id": "JFASe8B08s1V"
      },
      "source": [
        "##**Matrices**\n",
        "\n",
        "The notation and use of matrices is probably one of the fundamentals of modern computing. Matrices are also handy representations of complex equations or multiple inter-related equations from 2-dimensional equations to even hundreds and thousands of them."
      ]
    },
    {
      "cell_type": "markdown",
      "metadata": {
        "id": "LSnv8esCY5BV"
      },
      "source": [
        "\n",
        "Let's say for example you have $A$ and $B$ as system of equation."
      ]
    },
    {
      "cell_type": "markdown",
      "metadata": {
        "id": "0e0pIKRY9P8A"
      },
      "source": [
        "$$\n",
        "A = \\left\\{\n",
        "    \\begin{array}\\\n",
        "        x + y \\\\ \n",
        "        4x - 10y\n",
        "    \\end{array}\n",
        "\\right. \\\\\n",
        "B = \\left\\{\n",
        "    \\begin{array}\\\n",
        "        x+y+z \\\\ \n",
        "        3x -2y -z \\\\\n",
        "        -x + 4y +2z\n",
        "    \\end{array}\n",
        "\\right. \n",
        "$$"
      ]
    },
    {
      "cell_type": "markdown",
      "metadata": {
        "id": "OQ_31i0GN1-K"
      },
      "source": [
        "\n",
        "We could see that $A$ is a system of 2 equations with 2 parameters. While $B$ is a system of 3 equations with 3 parameters. We can represent them as matrices as:"
      ]
    },
    {
      "cell_type": "markdown",
      "metadata": {
        "id": "c2X7Nh069UGf"
      },
      "source": [
        "$$\n",
        "A=\\begin{bmatrix} 1 & 1 \\\\ 4 & {-10}\\end{bmatrix} \\\\\n",
        "B=\\begin{bmatrix} 1 & 1 & 1 \\\\ 3 & -2 & -1 \\\\ -1 & 4 & 2\\end{bmatrix}\n",
        "$$"
      ]
    },
    {
      "cell_type": "markdown",
      "metadata": {
        "id": "my5jZNgYZNmI"
      },
      "source": [
        "##**Declaring Matrices**\n",
        "\n",
        "\n",
        "Just like our previous laboratory activity, we'll represent system of linear equations as a matrix. The entities or numbers in matrices are called the elements of a matrix. These elements are arranged and ordered in rows and columns which form the list/array-like structure of matrices. And just like arrays, these elements are indexed according to their position with respect to their rows and columns. This can be reprsented just like the equation below. Whereas $A$ is a matrix consisting of elements denoted by $a_{i,j}$. Denoted by $i$ is the number of rows in the matrix while $j$ stands for the number of columns.\n",
        "Do note that the $size$ of a matrix is $i\\times j$."
      ]
    },
    {
      "cell_type": "markdown",
      "metadata": {
        "id": "q4GhsiZe-PuZ"
      },
      "source": [
        "$$A=\\begin{bmatrix}\n",
        "a_{(0,0)}&a_{(0,1)}&\\dots&a_{(0,j-1)}\\\\\n",
        "a_{(1,0)}&a_{(1,1)}&\\dots&a_{(1,j-1)}\\\\\n",
        "\\vdots&\\vdots&\\ddots&\\vdots&\\\\\n",
        "a_{(i-1,0)}&a_{(i-1,1)}&\\dots&a_{(i-1,j-1)}\n",
        "\\end{bmatrix}\n",
        "$$"
      ]
    },
    {
      "cell_type": "markdown",
      "metadata": {
        "id": "6JgdX3hXMA03"
      },
      "source": [
        "We already gone over some of the types of matrices as vectors but we'll further discuss them in this laboratory activity. Since you already know how to describe vectors using shape, dimensions and size attributes, we'll use them to analyze these matrices."
      ]
    },
    {
      "cell_type": "code",
      "metadata": {
        "id": "B4NDFU2DAB5s"
      },
      "source": [
        "## Describing matrices: Creating a Function\n",
        "def describe_mat(matrix):\n",
        "    print(f'matrix:\\n{matrix}\\n\\nShape:\\t{matrix.shape}\\nRank:\\t{matrix.ndim}\\n')"
      ],
      "execution_count": null,
      "outputs": []
    },
    {
      "cell_type": "code",
      "metadata": {
        "colab": {
          "base_uri": "https://localhost:8080/"
        },
        "id": "q0Ui2zpbARbX",
        "outputId": "cf798cd1-b9f6-4b67-8cd1-d1f6cbc051ee"
      },
      "source": [
        "## Declaring a 2 x 2 matrix\n",
        "A = np.array([\n",
        "            [1, 2],\n",
        "            [3, 1]\n",
        "            ])\n",
        "describe_mat(A)"
      ],
      "execution_count": null,
      "outputs": [
        {
          "output_type": "stream",
          "name": "stdout",
          "text": [
            "matrix:\n",
            "[[1 2]\n",
            " [3 1]]\n",
            "\n",
            "Shape:\t(2, 2)\n",
            "Rank:\t2\n",
            "\n"
          ]
        }
      ]
    },
    {
      "cell_type": "code",
      "metadata": {
        "colab": {
          "base_uri": "https://localhost:8080/"
        },
        "id": "M3mmWaYgZ8cW",
        "outputId": "b92d5011-a403-4f92-d473-8efdef8b8e87"
      },
      "source": [
        "G = np.array([\n",
        "    [1,1],\n",
        "    [2,2]\n",
        "])\n",
        "describe_mat(G)"
      ],
      "execution_count": null,
      "outputs": [
        {
          "output_type": "stream",
          "name": "stdout",
          "text": [
            "matrix:\n",
            "[[1 1]\n",
            " [2 2]]\n",
            "\n",
            "Shape:\t(2, 2)\n",
            "Rank:\t2\n",
            "\n"
          ]
        }
      ]
    },
    {
      "cell_type": "code",
      "metadata": {
        "colab": {
          "base_uri": "https://localhost:8080/"
        },
        "id": "1C6PdNjnAjZI",
        "outputId": "da10753c-88e3-4255-f3ad-2fc0fde4d3c0"
      },
      "source": [
        "## Declaring a 3 x 2 matrix\n",
        "B = np.array([[\n",
        "              [1, 2],\n",
        "              [3, 1],\n",
        "              [5, 7]\n",
        "              ]])\n",
        "describe_mat(B)"
      ],
      "execution_count": null,
      "outputs": [
        {
          "output_type": "stream",
          "name": "stdout",
          "text": [
            "matrix:\n",
            "[[[1 2]\n",
            "  [3 1]\n",
            "  [5 7]]]\n",
            "\n",
            "Shape:\t(1, 3, 2)\n",
            "Rank:\t3\n",
            "\n"
          ]
        }
      ]
    },
    {
      "cell_type": "code",
      "metadata": {
        "colab": {
          "base_uri": "https://localhost:8080/"
        },
        "id": "yhNFy5bBanSz",
        "outputId": "5423bf63-4997-4544-c23f-fceed41b9ae0"
      },
      "source": [
        "H = np.array([1,2,3,4,5])\n",
        "describe_mat(H)"
      ],
      "execution_count": null,
      "outputs": [
        {
          "output_type": "stream",
          "name": "stdout",
          "text": [
            "matrix:\n",
            "[1 2 3 4 5]\n",
            "\n",
            "Shape:\t(5,)\n",
            "Rank:\t1\n",
            "\n"
          ]
        }
      ]
    },
    {
      "cell_type": "markdown",
      "metadata": {
        "id": "Zzs43v8mEEZv"
      },
      "source": [
        "##**Categorizing Matrices**\n",
        "\n",
        "There are several ways of classifying matrices. Once could be according to their **shape** and another is according to their **element values.** We'll try to go through them."
      ]
    },
    {
      "cell_type": "markdown",
      "metadata": {
        "id": "LRR0b6K3a0k5"
      },
      "source": [
        "###**According to Shape**\n"
      ]
    },
    {
      "cell_type": "markdown",
      "metadata": {
        "id": "nl7kMnl2cH-k"
      },
      "source": [
        "####**Row and Column Matrices**\n",
        "\n",
        "Row and column matrices are common in vector and matrix computations. They can also represent row and column spaces of a bigger vector space. Row and column matrices are represented by a single column or single row. So with that being, the shape of row matrices would be $1 \\times j$ and column matrices would be $i \\times 1$."
      ]
    },
    {
      "cell_type": "code",
      "metadata": {
        "colab": {
          "base_uri": "https://localhost:8080/"
        },
        "id": "Tv3C7iTSDUYn",
        "outputId": "ac22eab2-1ba0-4e7f-9efb-cd6aee2fb35a"
      },
      "source": [
        "## Declaring a Row Matrix\n",
        "\n",
        "row_mat_1D = np.array([1, 2, 3])\n",
        "  ## this is a 1-D Matrix with a shape of (3, ), it's not really considered as a row matrix\n",
        "\n",
        "row_mat_2D = np.array([[1, 2, 3]])\n",
        "  ## this is a 2-D Matrix with a shape of (1,3)\n",
        "\n",
        "describe_mat(row_mat_1D)\n",
        "describe_mat(row_mat_2D)"
      ],
      "execution_count": null,
      "outputs": [
        {
          "output_type": "stream",
          "name": "stdout",
          "text": [
            "matrix:\n",
            "[1 2 3]\n",
            "\n",
            "Shape:\t(3,)\n",
            "Rank:\t1\n",
            "\n",
            "matrix:\n",
            "[[1 2 3]]\n",
            "\n",
            "Shape:\t(1, 3)\n",
            "Rank:\t2\n",
            "\n"
          ]
        }
      ]
    },
    {
      "cell_type": "code",
      "metadata": {
        "colab": {
          "base_uri": "https://localhost:8080/"
        },
        "id": "mkMhWITgFRa9",
        "outputId": "5142e6ae-03de-4851-c81b-2b9984759f0a"
      },
      "source": [
        "## Declaring a Column Matrix\n",
        "col_mat = np.array([\n",
        "                    [1],\n",
        "                    [2],\n",
        "                    [3]\n",
        "                  ])\n",
        "  ## this is a 2-D Matrix with a shape of (3,1)    \n",
        "describe_mat(col_mat)"
      ],
      "execution_count": null,
      "outputs": [
        {
          "output_type": "stream",
          "name": "stdout",
          "text": [
            "Matrix:\n",
            "[[1]\n",
            " [2]\n",
            " [3]]\n",
            "\n",
            "Shape:\t(3, 1)\n",
            "Rank:\t2\n",
            "\n"
          ]
        }
      ]
    },
    {
      "cell_type": "markdown",
      "metadata": {
        "id": "JwtLxEeAFtpA"
      },
      "source": [
        "####**Square Matrices**"
      ]
    },
    {
      "cell_type": "code",
      "metadata": {
        "id": "vmISkrLTFvh8"
      },
      "source": [
        "def describe_mat(matrix):\n",
        "  is_square = True if matrix.shape[0] == matrix.shape[1] else False\n",
        "  print(f'Matrix:\\n{matrix}\\n\\nShape:\\t{matrix.shape}\\nRank:\\t{matrix.ndim}\\nIs Square: {is_square}\\n')"
      ],
      "execution_count": null,
      "outputs": []
    },
    {
      "cell_type": "code",
      "metadata": {
        "colab": {
          "base_uri": "https://localhost:8080/"
        },
        "id": "elLRvKGnFhHu",
        "outputId": "82a770fd-4dc5-4ddd-9ea8-458e207c40d1"
      },
      "source": [
        "##Square Matrix\n",
        "square_mat = np.array([\n",
        "                       [1, 2, 5],\n",
        "                       [6, 2, 8],\n",
        "                       [9, 1, 4]\n",
        "])\n",
        "non_square_mat = np.array([\n",
        "                           [1, 2, 5],\n",
        "                           [3, 6, 2]\n",
        "])\n",
        "describe_mat(square_mat)\n",
        "describe_mat(non_square_mat)\n"
      ],
      "execution_count": null,
      "outputs": [
        {
          "output_type": "stream",
          "name": "stdout",
          "text": [
            "Matrix:\n",
            "[[1 2 5]\n",
            " [6 2 8]\n",
            " [9 1 4]]\n",
            "\n",
            "Shape:\t(3, 3)\n",
            "Rank:\t2\n",
            "Is Square: True\n",
            "\n",
            "Matrix:\n",
            "[[1 2 5]\n",
            " [3 6 2]]\n",
            "\n",
            "Shape:\t(2, 3)\n",
            "Rank:\t2\n",
            "Is Square: False\n",
            "\n"
          ]
        }
      ]
    },
    {
      "cell_type": "markdown",
      "metadata": {
        "id": "0nl5TA9JcXVk"
      },
      "source": [
        "###**According to Element Values**"
      ]
    },
    {
      "cell_type": "markdown",
      "metadata": {
        "id": "QLi5xXsmFQfo"
      },
      "source": [
        "####**Null Matrix**\n",
        "\n",
        "A Null Matrix is a matrix that has no elements. It is always a subspace of any vector or matrix."
      ]
    },
    {
      "cell_type": "code",
      "metadata": {
        "id": "eNuHYktfI-lp"
      },
      "source": [
        "def describe_mat(matrix):\n",
        "  if matrix.size > 0:\n",
        "    is_square = True if matrix.shape[0] == matrix.shape[1] else False\n",
        "    print(f'Matrix:\\n{matrix}\\n\\nShape:\\t{matrix.shape}\\nRank:\\t{matrix.ndim}\\nIs Square: {is_square}\\n')\n",
        "  else:\n",
        "    print('Matrix is Null')"
      ],
      "execution_count": null,
      "outputs": []
    },
    {
      "cell_type": "code",
      "metadata": {
        "colab": {
          "base_uri": "https://localhost:8080/"
        },
        "id": "JXAyOBzdJY1K",
        "outputId": "5e571518-0dab-48b5-be63-5c580980d993"
      },
      "source": [
        "null_mat = np.array([])\n",
        "describe_mat(null_mat)"
      ],
      "execution_count": null,
      "outputs": [
        {
          "output_type": "stream",
          "name": "stdout",
          "text": [
            "Matrix is Null\n"
          ]
        }
      ]
    },
    {
      "cell_type": "markdown",
      "metadata": {
        "id": "qa2L9LdkJejr"
      },
      "source": [
        "####**Zero Matrix**\n",
        "\n",
        "A zero matrix can be any rectangular matrix but with all elements having a value of 0."
      ]
    },
    {
      "cell_type": "code",
      "metadata": {
        "colab": {
          "base_uri": "https://localhost:8080/"
        },
        "id": "p7aTtguuJgDI",
        "outputId": "aeb6bc5b-c3d9-47ab-e65c-b6bfc8d5e19d"
      },
      "source": [
        "zero_mat_row = np.zeros((1, 2))\n",
        "zero_mat_sqr = np.zeros((2, 2))\n",
        "zero_mat_rct = np.zeros((3, 2))\n",
        "\n",
        "print(f'Zero Row Matrix: \\n{zero_mat_row}')\n",
        "print(f'Zero Square Matrix: \\n{zero_mat_sqr}')\n",
        "print(f'Zero Rectangular Matrix: \\n{zero_mat_rct}')"
      ],
      "execution_count": null,
      "outputs": [
        {
          "output_type": "stream",
          "name": "stdout",
          "text": [
            "Zero Row Matrix: \n",
            "[[0. 0.]]\n",
            "Zero Square Matrix: \n",
            "[[0. 0.]\n",
            " [0. 0.]]\n",
            "Zero Rectangular Matrix: \n",
            "[[0. 0.]\n",
            " [0. 0.]\n",
            " [0. 0.]]\n"
          ]
        }
      ]
    },
    {
      "cell_type": "markdown",
      "metadata": {
        "id": "QmefwWiIKN2k"
      },
      "source": [
        "####**Ones Matrix**\n",
        "\n",
        "A ones matrix, just like the zero matrix, can be any rectangular matrix but all of its elements are 1s instead of 0s."
      ]
    },
    {
      "cell_type": "code",
      "metadata": {
        "colab": {
          "base_uri": "https://localhost:8080/"
        },
        "id": "AKJI1mvCKPVr",
        "outputId": "f75b556e-0e88-42c2-cc6a-e41333def46c"
      },
      "source": [
        "one_mat_row = np.ones((1, 2))\n",
        "one_mat_sqr = np.ones((2, 2))\n",
        "one_mat_rct = np.ones((3, 2))\n",
        "\n",
        "print(f'One Row Matrix: \\n{one_mat_row}')\n",
        "print(f'One Square Matrix: \\n{one_mat_sqr}')\n",
        "print(f'One Rectangular Matrix: \\n{one_mat_rct}')"
      ],
      "execution_count": null,
      "outputs": [
        {
          "output_type": "stream",
          "name": "stdout",
          "text": [
            "One Row Matrix: \n",
            "[[1. 1.]]\n",
            "One Square Matrix: \n",
            "[[1. 1.]\n",
            " [1. 1.]]\n",
            "One Rectangular Matrix: \n",
            "[[1. 1.]\n",
            " [1. 1.]\n",
            " [1. 1.]]\n"
          ]
        }
      ]
    },
    {
      "cell_type": "markdown",
      "metadata": {
        "id": "J2J4kurjKpba"
      },
      "source": [
        "####**Diagonal Matrix**\n",
        "\n",
        "\n",
        "A diagonal matrix is a square matrix that has values only at the diagonal of the matrix."
      ]
    },
    {
      "cell_type": "code",
      "metadata": {
        "id": "pMQLH_-SKqxj",
        "colab": {
          "base_uri": "https://localhost:8080/"
        },
        "outputId": "68898b6e-edf9-4799-c09d-4c780b297315"
      },
      "source": [
        "np.array([\n",
        "          [2,0,0],\n",
        "          [0,3,0],\n",
        "          [0,0,5]\n",
        "])\n",
        "# a[1,1], a[2,2], a[3,3], ... a[n-1,n-1]"
      ],
      "execution_count": null,
      "outputs": [
        {
          "output_type": "execute_result",
          "data": {
            "text/plain": [
              "array([[2, 0, 0],\n",
              "       [0, 3, 0],\n",
              "       [0, 0, 5]])"
            ]
          },
          "metadata": {},
          "execution_count": 20
        }
      ]
    },
    {
      "cell_type": "code",
      "metadata": {
        "colab": {
          "base_uri": "https://localhost:8080/"
        },
        "id": "wyLiQB6ndOgT",
        "outputId": "1a49915f-f61e-4d5a-c2c5-1529119cc9a4"
      },
      "source": [
        "d = np.diag([2,3,5,7])\n",
        "np.diag(d).shape == d.shape[0] == d.shape[1]"
      ],
      "execution_count": null,
      "outputs": [
        {
          "output_type": "execute_result",
          "data": {
            "text/plain": [
              "False"
            ]
          },
          "metadata": {},
          "execution_count": 22
        }
      ]
    },
    {
      "cell_type": "code",
      "metadata": {
        "colab": {
          "base_uri": "https://localhost:8080/"
        },
        "id": "bOh51YIuK47v",
        "outputId": "38053fa5-7e4d-4408-909d-5145cbc04067"
      },
      "source": [
        "d = np.diag([2,3,5,7,9,11])\n",
        "d"
      ],
      "execution_count": null,
      "outputs": [
        {
          "output_type": "execute_result",
          "data": {
            "text/plain": [
              "array([[ 2,  0,  0,  0,  0,  0],\n",
              "       [ 0,  3,  0,  0,  0,  0],\n",
              "       [ 0,  0,  5,  0,  0,  0],\n",
              "       [ 0,  0,  0,  7,  0,  0],\n",
              "       [ 0,  0,  0,  0,  9,  0],\n",
              "       [ 0,  0,  0,  0,  0, 11]])"
            ]
          },
          "metadata": {},
          "execution_count": 23
        }
      ]
    },
    {
      "cell_type": "markdown",
      "metadata": {
        "id": "PND1FkYLLTRf"
      },
      "source": [
        "####**Identity Matrix**\n",
        "\n",
        "An identity matrix is a special diagonal matrix in which the values at the diagonal are ones."
      ]
    },
    {
      "cell_type": "code",
      "metadata": {
        "colab": {
          "base_uri": "https://localhost:8080/"
        },
        "id": "L8L6ZDcdLU8w",
        "outputId": "8eb3f5c4-007b-4eed-daff-c72ce551d055"
      },
      "source": [
        "np.eye(5)\n"
      ],
      "execution_count": null,
      "outputs": [
        {
          "output_type": "execute_result",
          "data": {
            "text/plain": [
              "array([[1., 0., 0., 0., 0.],\n",
              "       [0., 1., 0., 0., 0.],\n",
              "       [0., 0., 1., 0., 0.],\n",
              "       [0., 0., 0., 1., 0.],\n",
              "       [0., 0., 0., 0., 1.]])"
            ]
          },
          "metadata": {},
          "execution_count": 40
        }
      ]
    },
    {
      "cell_type": "code",
      "metadata": {
        "colab": {
          "base_uri": "https://localhost:8080/"
        },
        "id": "qKnBin6pLZON",
        "outputId": "6036ca87-4d76-4c3e-ead6-5d2328730496"
      },
      "source": [
        "np.identity(5)"
      ],
      "execution_count": null,
      "outputs": [
        {
          "output_type": "execute_result",
          "data": {
            "text/plain": [
              "array([[1., 0., 0., 0., 0.],\n",
              "       [0., 1., 0., 0., 0.],\n",
              "       [0., 0., 1., 0., 0.],\n",
              "       [0., 0., 0., 1., 0.],\n",
              "       [0., 0., 0., 0., 1.]])"
            ]
          },
          "metadata": {},
          "execution_count": 41
        }
      ]
    },
    {
      "cell_type": "markdown",
      "metadata": {
        "id": "uBBN1Y3bd6k2"
      },
      "source": [
        "####**Upper Triangular Matrix**\n",
        "\n",
        "An upper triangular matrix is a matrix that has no values below the diagonal."
      ]
    },
    {
      "cell_type": "code",
      "metadata": {
        "colab": {
          "base_uri": "https://localhost:8080/"
        },
        "id": "M3Vh4cjHMd29",
        "outputId": "39bfa0f4-dc1f-4201-b26e-2e551ce86598"
      },
      "source": [
        "A=np.array([\n",
        "            [1,2,1],\n",
        "            [0,4,-1],\n",
        "            [0,0,10]\n",
        "])\n",
        "describe_mat(A)"
      ],
      "execution_count": null,
      "outputs": [
        {
          "output_type": "stream",
          "name": "stdout",
          "text": [
            "matrix:\n",
            "[[ 1  2  1]\n",
            " [ 0  4 -1]\n",
            " [ 0  0 10]]\n",
            "\n",
            "Shape:\t(3, 3)\n",
            "Rank:\t2\n",
            "\n"
          ]
        }
      ]
    },
    {
      "cell_type": "markdown",
      "metadata": {
        "id": "DpSaiH1ueR5o"
      },
      "source": [
        "####**Lower Triangular Matrix**\n",
        "\n",
        "A lower triangular matrix is a matrix that has no values above the diagonal."
      ]
    },
    {
      "cell_type": "code",
      "metadata": {
        "colab": {
          "base_uri": "https://localhost:8080/"
        },
        "id": "Z6YbbvaVeWbx",
        "outputId": "5229a859-9df9-47d1-baf8-49fed536ea9d"
      },
      "source": [
        "B=np.array([\n",
        "    [1,0,0],\n",
        "    [5,3,0],\n",
        "    [7,8,5]\n",
        "])\n",
        "describe_mat(B)"
      ],
      "execution_count": null,
      "outputs": [
        {
          "output_type": "stream",
          "name": "stdout",
          "text": [
            "matrix:\n",
            "[[1 0 0]\n",
            " [5 3 0]\n",
            " [7 8 5]]\n",
            "\n",
            "Shape:\t(3, 3)\n",
            "Rank:\t2\n",
            "\n"
          ]
        }
      ]
    },
    {
      "cell_type": "markdown",
      "metadata": {
        "id": "c1ahxp8meuPw"
      },
      "source": [
        "##"
      ]
    },
    {
      "cell_type": "markdown",
      "metadata": {
        "id": "btPv1r2jN4_Q"
      },
      "source": [
        "$$\n",
        "G = \\left\\{\n",
        "    \\begin{array}\\\n",
        "        x+7x_2+8x_3 \\\\ \n",
        "        2x +2x_2 +2x_3 \\\\\n",
        "        4x + 6x_2 +7x_3\n",
        "    \\end{array}\n",
        "\\right. \n",
        "$$"
      ]
    },
    {
      "cell_type": "markdown",
      "metadata": {
        "id": "pPLmj1dbPMt6"
      },
      "source": [
        "##**Practice**"
      ]
    },
    {
      "cell_type": "markdown",
      "metadata": {
        "id": "3d7eim0AfBV0"
      },
      "source": [
        "1.) Given the linear combination below, try to create a corresponding matrix representing it.\n",
        "\n",
        "$$\\theta = 5x + 3y - z$$\n"
      ]
    },
    {
      "cell_type": "code",
      "metadata": {
        "id": "sf4WGiRrSUBl",
        "colab": {
          "base_uri": "https://localhost:8080/"
        },
        "outputId": "0b53d107-01c4-43f8-8fab-99ab69ca3e1d"
      },
      "source": [
        "theta = np.array([\n",
        "        [5,3,-1]\n",
        "])\n",
        "describe_mat(theta)"
      ],
      "execution_count": null,
      "outputs": [
        {
          "output_type": "stream",
          "name": "stdout",
          "text": [
            "matrix:\n",
            "[[ 5  3 -1]]\n",
            "\n",
            "Shape:\t(1, 3)\n",
            "Rank:\t2\n",
            "\n"
          ]
        }
      ]
    },
    {
      "cell_type": "markdown",
      "metadata": {
        "id": "_X7_hF37fUnp"
      },
      "source": [
        "2.) Given the system of linear combinations below, try to encode it as a matrix. Also describe the matrix.\n",
        "\n",
        "$$ A = \\left\\{\\begin{array} 5x_1 + 2x_2 +x_3\\\\ 4x_2 - x_3\\\\ 10x_3 \\end{array}\\right. $$"
      ]
    },
    {
      "cell_type": "markdown",
      "metadata": {
        "id": "-Td01-tMf2wt"
      },
      "source": [
        "3.) \n",
        "Given the matrix below, express it as a linear combination in a markdown.\n",
        "\n",
        "\n",
        "$$ G=\\begin{bmatrix} 1 & 7 & 8 \\\\ 2 & 2 & 2 \\\\ 4 & 6 & 7\\end{bmatrix} \\\\ $$"
      ]
    },
    {
      "cell_type": "markdown",
      "metadata": {
        "id": "Ow1RvxikgLNA"
      },
      "source": [
        "$$\n",
        "G = \\left\\{\n",
        "    \\begin{array}\\\n",
        "        x + 7x_2 + 8x_3 \\\\\n",
        "        2x + 2x_2 + 2x_3 \\\\\n",
        "        4x + 6x_2 + 7x_3\n",
        "    \\end{array}\n",
        "\\right. \\\\\n",
        "$$"
      ]
    },
    {
      "cell_type": "markdown",
      "metadata": {
        "id": "GH2SzMQ1gPqH"
      },
      "source": [
        "##**Matrix Algebra**\n"
      ]
    },
    {
      "cell_type": "markdown",
      "metadata": {
        "id": "S4D49606gb4a"
      },
      "source": [
        "####**Addition**"
      ]
    },
    {
      "cell_type": "code",
      "metadata": {
        "colab": {
          "base_uri": "https://localhost:8080/"
        },
        "id": "bPEgTcmLf95C",
        "outputId": "bd214f9d-caa1-49a3-e098-7ea3c980d58a"
      },
      "source": [
        "A = np.array([\n",
        "    [1,2],\n",
        "    [2,3],\n",
        "    [4,1]\n",
        "])\n",
        "B = np.array([\n",
        "    [2,2],\n",
        "    [0,0],\n",
        "    [1,1]\n",
        "])\n",
        "A+B"
      ],
      "execution_count": null,
      "outputs": [
        {
          "output_type": "execute_result",
          "data": {
            "text/plain": [
              "array([[3, 4],\n",
              "       [2, 3],\n",
              "       [5, 2]])"
            ]
          },
          "metadata": {},
          "execution_count": 29
        }
      ]
    },
    {
      "cell_type": "code",
      "metadata": {
        "colab": {
          "base_uri": "https://localhost:8080/"
        },
        "id": "iHpC8apAfb3f",
        "outputId": "0b8ad510-9248-4f2e-bf55-f65ffdedca1d"
      },
      "source": [
        "\n",
        "2+A \n",
        "##Broadcasting\n",
        "# 2*np.ones(A.shape)+A"
      ],
      "execution_count": null,
      "outputs": [
        {
          "output_type": "execute_result",
          "data": {
            "text/plain": [
              "array([[3, 4],\n",
              "       [4, 5],\n",
              "       [6, 3]])"
            ]
          },
          "metadata": {},
          "execution_count": 30
        }
      ]
    },
    {
      "cell_type": "markdown",
      "metadata": {
        "id": "QQBRLWTrgofm"
      },
      "source": [
        "####**Subtraction**"
      ]
    },
    {
      "cell_type": "code",
      "metadata": {
        "colab": {
          "base_uri": "https://localhost:8080/"
        },
        "id": "xHjtA793fkeF",
        "outputId": "d8425452-ca7c-4bcf-9a65-c776879c2122"
      },
      "source": [
        "A-B"
      ],
      "execution_count": null,
      "outputs": [
        {
          "output_type": "execute_result",
          "data": {
            "text/plain": [
              "array([[-1,  0],\n",
              "       [ 2,  3],\n",
              "       [ 3,  0]])"
            ]
          },
          "metadata": {},
          "execution_count": 31
        }
      ]
    },
    {
      "cell_type": "code",
      "metadata": {
        "colab": {
          "base_uri": "https://localhost:8080/"
        },
        "id": "grLVzDBTgrtj",
        "outputId": "2a52f7e4-63db-4a5d-f2f4-06a612ea5ded"
      },
      "source": [
        "3-B == 3*np.ones(B.shape)-B"
      ],
      "execution_count": null,
      "outputs": [
        {
          "output_type": "execute_result",
          "data": {
            "text/plain": [
              "array([[ True,  True],\n",
              "       [ True,  True],\n",
              "       [ True,  True]])"
            ]
          },
          "metadata": {},
          "execution_count": 32
        }
      ]
    },
    {
      "cell_type": "markdown",
      "metadata": {
        "id": "g0XdXl2Dgxi7"
      },
      "source": [
        "####**Element-Wise Multiplication**"
      ]
    },
    {
      "cell_type": "code",
      "metadata": {
        "colab": {
          "base_uri": "https://localhost:8080/"
        },
        "id": "yKFSAjicg2ax",
        "outputId": "775563e6-6de8-40cd-a569-f1c6b7593e18"
      },
      "source": [
        "A*B\n",
        "np.multiply(A,B)"
      ],
      "execution_count": null,
      "outputs": [
        {
          "output_type": "execute_result",
          "data": {
            "text/plain": [
              "array([[2, 4],\n",
              "       [0, 0],\n",
              "       [4, 1]])"
            ]
          },
          "metadata": {},
          "execution_count": 33
        }
      ]
    },
    {
      "cell_type": "code",
      "metadata": {
        "colab": {
          "base_uri": "https://localhost:8080/"
        },
        "id": "gTyYn2APg4u4",
        "outputId": "4f55ebc2-f8ab-4d13-aa48-24840d989f22"
      },
      "source": [
        "2*A"
      ],
      "execution_count": null,
      "outputs": [
        {
          "output_type": "execute_result",
          "data": {
            "text/plain": [
              "array([[2, 4],\n",
              "       [4, 6],\n",
              "       [8, 2]])"
            ]
          },
          "metadata": {},
          "execution_count": 34
        }
      ]
    },
    {
      "cell_type": "code",
      "metadata": {
        "id": "Mbo3zV3_g62f"
      },
      "source": [
        "## A@B\n"
      ],
      "execution_count": null,
      "outputs": []
    },
    {
      "cell_type": "code",
      "metadata": {
        "colab": {
          "base_uri": "https://localhost:8080/"
        },
        "id": "z3s_tjgKhJ1E",
        "outputId": "5ee0e128-2bc2-4267-d7b7-7810ceeabebb"
      },
      "source": [
        "\n",
        "alpha=10**-10\n",
        "A/(alpha+B)"
      ],
      "execution_count": null,
      "outputs": [
        {
          "output_type": "execute_result",
          "data": {
            "text/plain": [
              "array([[5.e-01, 1.e+00],\n",
              "       [2.e+10, 3.e+10],\n",
              "       [4.e+00, 1.e+00]])"
            ]
          },
          "metadata": {},
          "execution_count": 37
        }
      ]
    },
    {
      "cell_type": "code",
      "metadata": {
        "colab": {
          "base_uri": "https://localhost:8080/"
        },
        "id": "oCumc_O9hMj5",
        "outputId": "a7d57764-022f-4378-9474-9aeff61e79fb"
      },
      "source": [
        "np.add(A,B)"
      ],
      "execution_count": null,
      "outputs": [
        {
          "output_type": "execute_result",
          "data": {
            "text/plain": [
              "array([[3, 4],\n",
              "       [2, 3],\n",
              "       [5, 2]])"
            ]
          },
          "metadata": {},
          "execution_count": 38
        }
      ]
    },
    {
      "cell_type": "markdown",
      "metadata": {
        "id": "XZO2h3q-hN0S"
      },
      "source": [
        "##**Activity**\n"
      ]
    },
    {
      "cell_type": "markdown",
      "metadata": {
        "id": "_bXF8K4LiTF3"
      },
      "source": [
        "###**Task 1**\n",
        "\n",
        "Create a function named mat_desc() that througouhly describes a matrix, it should:\n",
        "\n",
        "\n",
        "\n",
        "1.   Displays the shape, size, and rank of the matrix.\n",
        "2.   Displays whether the matrix is square or non-square.\n",
        "3.   Displays whether the matrix is an empty matrix.\n",
        "4.   Displays if the matrix is an identity, ones, or zeros matrix\n",
        "\n",
        "Use 5 sample matrices in which their shapes are not lower than $(3,3)$. In your methodology, create a flowchart discuss the functions and methods you have done. Present your results in the results section showing the description of each matrix you have declared."
      ]
    },
    {
      "cell_type": "markdown",
      "metadata": {
        "id": "QMh9rrMikK0J"
      },
      "source": [
        "####**1.) Shape, Size and Rank of the Matrix**"
      ]
    },
    {
      "cell_type": "code",
      "metadata": {
        "id": "Qj-DPG2LiXNJ"
      },
      "source": [
        "def mat_desc(matrix):\n",
        "    print(f'Matrix:\\n{matrix}\\n\\nShape:\\t{matrix.shape}\\nRank:\\t{matrix.ndim}\\n')"
      ],
      "execution_count": null,
      "outputs": []
    },
    {
      "cell_type": "code",
      "metadata": {
        "colab": {
          "base_uri": "https://localhost:8080/"
        },
        "id": "KU46eoBml2xM",
        "outputId": "e8a6d57e-ec5a-4ecf-ef97-43d7aa644048"
      },
      "source": [
        "T11 = np.array([\n",
        "      [6,9,4],\n",
        "      [2,0,6],\n",
        "      [6,6,2]\n",
        "])\n",
        "mat_desc(T11)"
      ],
      "execution_count": null,
      "outputs": [
        {
          "output_type": "stream",
          "name": "stdout",
          "text": [
            "Matrix:\n",
            "[[6 9 4]\n",
            " [2 0 6]\n",
            " [6 6 2]]\n",
            "\n",
            "Shape:\t(3, 3)\n",
            "Rank:\t2\n",
            "\n"
          ]
        }
      ]
    },
    {
      "cell_type": "markdown",
      "metadata": {
        "id": "ZHULlte1_xLp"
      },
      "source": [
        "![t1.PNG](data:image/png;base64,iVBORw0KGgoAAAANSUhEUgAAAL0AAAI0CAYAAABI9ygJAAAAAXNSR0IArs4c6QAAAARnQU1BAACxjwv8YQUAAAAJcEhZcwAADsMAAA7DAcdvqGQAADp2SURBVHhe7Z1pl93Etf79hiGLtUhe8E3yCdKv/Bm88jp3+K+s2LkMCb4hgRgbaGwGQzABg8dOgGBwjIduY7vbQ3d7wqZtMxo8Ak4cEofh3pDh1l9PqSSVVFtSndbWKfU5+7fWs04f6TnSPlWP6lRLZ1ikDH//+9+16uD2gc8++8z8VQ73fn19QOpz8fWBrtUnofdA6nPx9QEJPYF0mouvD0h9LlU+Cb0HUp+Lrw9I6Amk01x8fUDqc6nyLUpWfv3111rJ/TJx+6BPPvmEXG6Le7++Pkjqc+Xrg7pWn4SeWFeU1OfK1wd1LvRmxE8X1MHtA/Ly7OLrA1KfS5VPQu+B1Ofi6wMSegLpNBdfH5D6XKp8EnoPpD4XXx+Q0BNIp7n4+oDU51Llk9B7IPW5+PqAhJ5AOs3F1wekPpcqn4TeA6nPxdcHOhf6ZCXHSX9bvj5ILq648vVBUp+rKp+EnlhXlG99n31+VZ27ekId/mCP2nF6s3rlxLNq88xj6vmDq9TT++9TaybuUqt2/VA9d/BB9VB0i/tYjvXwwY/H4fFzl47q7VH7KkpC76rKJ9MbD6j6/vjFJ2ruyqyaOPey2nDkUfXw7h+p1eN3qhcOP6JeP71F/f7tMbX77O/Um+/tUFMfjqvpjyfV8Usz6vTVk+rctbP6FvexHOvhgx+P2x49fv3hh/X2HtmzVG2cfjTazyvqzNWj6g/RfovI9Malyieh9yCp7+qfP9bhe2zv3TqUm2YejwK+WR34YLc6FY3wCDO33rp6XG//tdOb9P7WRwfV43vvUXujOj75ywVdl4Tepconoa8BwXrt2IYo6PeoX03+IhqFN+sRmgpov3Ts0rQ+2H514Of6AHj92Mb0ACiDu118fUBCT9DF0J+4OBVNW0ajYP1CvXZqkw4aFcDQQl2vndqoDwBMg05eOmieQR6udknw9QEJPUGXGuXU5SNq9cSdauvRp9SJwCN6r8Ir0JbZtfof5NNXps0zimnaLkV8fUBCT9CFRpm7OhtNFX6iNs88oU5cniVDtVCE8GP+/8SbP9X//IL5tksZvj4goScI2SjXv/xUvRj9c7hheo06evEIGaKFqqMXD0dTtNXqxWia9ocb8WnDOnptPx8k9AShGuXoR/v16D4bhYMKzaBo9uKhaMpztzr20aR59uVwtzOQ0BOEaJRXjj+rNs8+SYZkULUpmrq9evJ50wI03O0MOhd6FAThqhmU3C8Ttw86f/48udwW134vXD6v1ozfpXadeYUMxqBr55mX1WMT96gLVz4i24ernW31s38TVfmGaqT/4n9v6FOQxy4N1ty9V2Gu//SBn6sv//aFaZkMjnYu0q/+tanyDU3ov/nH39SDO/+TDMGwasUb/67+8c98WzVtZwoJPUE/GuXR8f9a8KciuYVTm6sn7jItFNO0nSkk9ARtN8r6Qw+pyQ/2kB0/7ML7el488ohpqYXZvxRVvoEP/Y63N+l3L1IdLoqFf27fmNui22u+7VyFhJ6grUa58Kf31K8PriA7WpTXuqkH1KXPP5xXO9choSdoq1HwhjG8fFOdLMpr3/s71abp1fNq5zok9ARtNMqVP59Xz0zeT3awiBZOY166Ho/2dfj2B+hc6JOVHB/DsuXrg3ARgVpuq9f9bppeo/a99wbZuSJae9/9vdo8/XhP7UytK6qN/qXW2aryDWToP/rsPbVl9gmyY0XV2hSF/sK1D8i2tRWyf5v6BnJ6c+LjKf3WWqpT29LY8kVq0aJMy3bm142sm8z5fTTfxzXRxpnH1MkLh0xrlhOyf5v6BjL0u+d+oz9NRHVqG9KBXzyqppJlc6NqxAr+Qgr9tlMb1J4zL5nWLCdk/zb1DWToN0ejPOanVKfya1KNLnbDqQ+E5VvV1LqRdPRPPPayRYtG1OictZ3F8bof3O0+rh/a++52tWXmCdOa5YTs36a+gQz9k2/eq2ajl2iqU9tQGuIo5NT63Ii9c2nkXarGrHXx4+LQ29sIMdLPXjiontx3r2nNckL2b1PfQIb+uYMryQ5tV1vVMjMyFw+AqvDqA8YKve0LEXoI7VdHyP5t6pORvhXlA5wPrxnRnQMkXs7xD3ATxSP9ctOa5YTs36a+gQz9lr7O6THCZ9OVRNkIng+vXm7901sc6UOHHnP6rbNPmtYsJ2T/NvUNZOh3n/mt2tbvszfWdCaZ6lAjfT70ZkrUodDj7M34mZdNa5YTsn+b+gby4tTsh/v7/vlXHXxrymKHVQc9XWbP/aNXCPxjqw8CN/T5x2XL2xSubxw7f4BsW1sh+7epbyBD//G199WWIfvQN5dwRfbitezdlmUK2b9NfQM5vYG2zj6hvwmY6lgRLcznx2bX9tTOPsicnqCNRsE3DMu7LHsT3mV5+fr5ntrZBwk9QVuNsnF6tdr//i6yg0V54R2p+GGI+bRzHRJ6grYa5eKf3lfrpn5JdrIoL7wqXv48HuV7bec6JPQEbTbKjrc3D+0XO/lq55mX1K65Md1e823nKiT0BG03Cj7tL9+GQOtANP3DNDChSTuXIaEn6Eej4DvbQ/+CSNeEb3rDL5nYNG1nCgk9QT8aBd/kteKN/yA7f1j1yx3/pv71f/8yLRTTtJ0pOhf6ZCXHSX9bvj6oXxcvvvj6hnrmwP36uxypEAyL8KYy/OP6xdd/ddqIo52LkiuyhPrZKAg+fqFjeL+1+CW1dt9yMvAQVzvbkiuyBCFe/radfF5tHrIPj+ufAD31omkBGu52BjKnJwjVKMc/nlJr9t6tZqKXeyokg6KZ6Hnix+NORs+zDu52BhJ6gpCN8vlXf1QvHHlE/ygxfqaGCs1CFebueF74RfPrf73WSvv5IKEn6EKjnP3kWDTXv1dtnF7T2d+M9RVOReKH4/AJqHOfntDPb77tUoavD0joCbrUKG9fmdE/Soaf1jx2cWGFH7+OiHk7ft0cPxFq07Rdivj6gISeoGuNAt66dEj/AvdT++9T297a0NnTnKjr1bdejOr8mf4qw1OXD5tnkIerXRJ8fUBCT9DF0Cd8duOSev34Jn2a8+noAMCXSIX+vVkEHXUg6Khr+/HNUZ2XTcU03O3i6wMSeoIuhx4k9X0aHQBvvvNqFLSfqOcPPaTn//gsLr7m+uSVY2RAmwrbxfbx2VXM09cfelgHfd8729KgL5T2q4J7v1U+Cb0HVH3Xv/gs+uf3uD4INs+sUaN7lkX6sT4YXj+9SW1/e4vadfYV/a0MeLPbkY8P6H+QT189qcOMW9zHcqyHD348Do9//tAqvb3R8R/raQv2cy7a3/Uv3Vok9C5VvqH7HdlEvj7It74PL76njr47pfae3qZePbpejU0/rTYcelQ9O7lCrX3zv9Xq8TvVql0/VI+8fpe+xX0sx3r44Mfj9p56Tc2+M6m3R+2rqEFpP879VvlkpPeAuz58w0EdIevj9IGu1Seh90BC7+LrAxJ6Agm9S8j6OH1AQk8goXcJWR+nD0joCST0LiHr4/QBCT2BhN4lZH2cPiChJ5DQu4Ssj9MHJPQEEnqXkPVx+kDnQp+s5PgYli1fH4SLCNRyW9z79fVB3PUh9NQ6WyHr4/RBXatPQk+sK0pC78rXB3Uu9GbETxfUwe0DMr1xCVkfpw90bnpjblk2ZuPrAxJ6l5D1cfqAhJ5AQu8Ssj5OH5DQE0joXULWx+kDEnoCCb1LyPo4fUBCTyChdwlZH6cPSOgJJPQuIevj9AEJPYGE3iVkfZw+0LnQJys5Tvrb8vVBcnHKVcj6OH1Q5y5OJX9wbMyWrw+S0LsKWR+nD+pc6M2Iny6og9sHZHrjErI+Th/o3PTG3LJszMbXByT0LiHr4/QBCT2BhN4lZH2cPiChJ5DQu4Ssj9MHJPQEEnqXkPVx+oCEnkBC7xKyPk4fkNATSOhdQtbH6QMSegIJvUvI+jh9oHOhT1ZynPS35euD5OKUq5D1cfqgzl2cSv7g2JgtXx8koXcVsj5OH9S50JsRP11QB7cPyPTGJWR9nD7QuemNuWXZmI2vD0joXULWx+kDEnoCCb1LyPo4fUBCTyChdwlZH6cPSOgJJPQuIevj9AEJPYGE3iVkfZw+IKEnkNC7hKyP0wck9AQSepeQ9XH6gISeQELvErI+Th/oXOhREISrZlByv0zcPmjYfgcVoafW2QpZH6cPkt+RJUAhdXDv19cHOOq7ePGi1ocffqhDn9yHKPpdXwK3D3StPgm9B03rm5iYULfddpv6zne+o7797W+rb33rW/pvCMvHx8eNM6Of9dlw+4CEnmAYOu3WW2/VI3xRt9xyi3Hk6Xd9Cdw+IKEnGIZOW7Vqlbr55ptzgcf9lStXGkeefteXwO0DEnqCYem04mhfNsqDEPUBbh+Q0BMMS6fZo33VKA9C1Ae4fUBCTzBMnZaM9lWjPAhVH7cPSOgJhqnTHnjgAXXTTTdVjvIgVH3cPtC50CcrOT6GZcvXB+EiArXcFvd+fX0QZ303btxQS5YsUV999RW5PlGo+rh9UNfqG+rQrz/0kHpgxw9E8xTaj2rbojoXejPipwvq4PaBEC9/c5dn1YtHHlXnrp0VzUPj77ymfnP0KdOa1XRuemNuWTZm4+sDIRoFHYaOozpUVC8MGBg4fJDQE4RoFLw8U50p8hPar8v9W+UbytCf++SETG0aKJnadLV/QZVvKEP/0vFfydSmgZKpTVf7F1T5hjL0MrVppmRq49MfQEJP0M9GkalNM+EVEq+Uvv0BJPQE/WwUmdo0kx4wooHDtz9A50KfrOQ46W/L1wf18+KFTG2aKZna+PYHJFdkCfWrUeSCVDPZZ218+wOSK7IE/Xr5k6lNMyVTG+DbH0Dm9AT9ahSZ2jQT2i/Btz+AhJ6gH40iZ22aKTlrk+DbH0BCT9CPRpGpTTPZUxvg2x9AQk/Qj0aRqU0z2VMb4NsfQEJP0HajyNSmmYpTG+DbH0BCT9B2o8jUppmKUxvg2x9AQk/QdqPI1KaZilMb4NsfoHOhT1ZynPS35euD2rx4IRekmgmvkMkFKVu+/QHJFVlCbTaKfEKqmTBgJG8jtuXbH5BckSVo8+VPpjbNRE1tgG9/AJnTE7TVKHLWppmoszYJvv0BJPQEbTWKnLVpJuqsTYJvfwAJPUFbjVI5tZkbVSOLlqoxal1jbVXLFo2o0Tli3c6l8Re4Lt9aWIfH4Itd62saW75IjaybJNfp7S8eVVPUuh5VNrUBvv0BJPQEbTRK7dQmZOgXj7j7LltOqDL0TKqa2gDf/gASeoI2GqV2amOH3vy9LApT8jXay3Yanxk5R9N1SSgn1ehiy5cGPV4ee4ngW9vLHhsHedm6/IE4tW7EbCfblr1MBz89WKJlGOHN9tNbe1vOq0u5qqY2wLc/gISeoI1GqT1r44Q+Gz0RwDQwCE9xnQ5PWeiLfxdkwjiWCyH8US12TXq/2QGQ7bcw0muftS8r7Ah67Iu2bx0APqqa2gDf/gASegLuRvG6IOWEng5OMXzZ45qFfqoYcATaXlaQPVK7obceY9eua4yCn6uzXnVTGxCyf5v6BjL0XheknNCXBCcXItvbMPQmkPCkIc7VEW8/m95UjPR2fXX3PVQ3tQEh+7epbyB/R7Z2agP1EvriOir0ehu9hD6ZfoxmXqsOPbJbYa0c6UtDjjqWqtF0mmM8NUL7UW1rK2T/NvUN3Ejv/V6bnkKfhRuBi8NnRmITRB3KHkOfbDu9Xxp6bK/3kR6+uO7sVSWto0R4hcQrZR2h+pfDN3Ch936vTS+hX7w0+kcwCp0d0PRx8fLciJ1OTYig5UIahzkNcK4OE3StaJn1uPgAM4/LbS/b/jbrlcHddrkwYGDgqCNU/3L4Bi70XlObXlQM1YAL7dfl/uXwDVToW3mvzRCFPpnadLV/AYdvoEIv77VppmRq09X+BRy+gQo9+9RmyJRMbXz6zdcHJPQEHI3SytRmiIRXSLxS+vabrw9I6Ak4GkWmNs2kB4xo4PDtN18f6Fzok5UcH8Oy5euDcBGBWm6rbnsytWmmZGrj22++PoijfxNx+AYi9N4XpESk7LM2vv3m64M6F3oz4qcL6uD2gaYvfzK1aaZkagN8+83XB2ROT9C0UWRq00xovwTffvP1AQk9QZNGkbM2zZSctUnw7TdfH5DQEzRpFJnaNJM9tQG+/ebrAxJ6giaNIlObZrKnNsC333x9QEJPMN9GkalNMxWnNsC333x9QEJPMN9GkalNMxWnNsC333x9QEJPMN9GkalNMxWnNsC333x9oHOhT1ZynPS35euD5nPxQi5INRNeIZMLUrZ8+83XB8kVWULzaRTvT0iJSGHASN5GbMu333x9kFyRJZjPy59MbZqJmtoA337z9QGZ0xP02ihy1qaZqLM2Cb795usDEnqCXhtFzto0E3XWJsG333x9QEJP0GujyNSmmcqmNsC333x9QEJP0EujyNSmmaqmNsC333x9QEJP0EujyNSmmaqmNsC333x9QEJP0EujyNSmmaqmNsC333x9QEJP4NsockGqmeqmNiBk/3Lut8q3oC5Ojc2ulalNA2HAoC5I2QrZv5z7rfItqNC/cOhh/fK80PW9Jd8ll7et9YceItvWVsj+5dxvlW9BnrKsgtsHuOvDl6/WEbI+Th/o3PTG3LJszMbXByT0LiHr4/QBCT2BhN4lZH2cPiChJ5DQu4Ssj9MHJPQEEnqXkPVx+oCEnkBC7xKyPk4fkNATSOhdQtbH6QMSegIJvUvI+jh9QEJPIKF3CVkfpw90LvQoCMJVMyi5XyZuH9S13xktirs+hJ5aZytkfZw+SH5HlgCF1MG9X18f4K5PRnoX7v1W+ST0HkjoXXx9QEJPIKF3CVkfpw9I6Akk9C4h6+P0AQk9gYTeJWR9nD4goSeQ0LuErI/TByT0BBJ6l5D1cfqAhJ5AQu8Ssj5OH+hc6JOVHB/DsuXrg3ARgVpui3u/vj6Iuz6EnlpnK2R9nD6oa/VJ6Il1RUnoXfn6oM6F3oz46YI6uH1ApjcuIevj9IHOTW/MLcvGbHx9QELvErI+Th+Q0BNI6F1C1sfpAxJ6Agm9S8j6OH1AQk8goXcJWR+nD0joCST0LiHr4/QBCT2BhN4lZH2cPiChJ5DQu4Ssj9MHOhf6ZCXHSX9bvj5ILk65Clkfpw/q3MWp5A+Ojdny9UESelch6+P0QZ0LvRnx0wV1cPuATG9cQtbH6QOdm96YW5aN2fj6gITeJWR9nD4goSeQ0LuErI/TByT0BBJ6l5D1cfqAhJ5AQu8Ssj5OH5DQE0joXULWx+kDEnoCCb1LyPo4fUBCTyChdwlZH6cPdC70yUqOk/62fH2QXJxyFbI+Th/UuYtTyR8cG7Pl64Mk9K5C1sfpgzoXejPipwvq4PYBmd64hKyP0wc6N70xtywbs/H1AQm9S8j6OH1AQk8goXcJWR+nD0joCST0LiHr4/QBCT2BhN4lZH2cPiChJ5DQu4Ssj9MHJPQEEnqXkPVx+oCEnkBC7xKyPk4fkNATSOhdQtbH6QOdCz0KgnDVDErul4nbB8nvyLoKWR+nD5LfkSVAIXVw79fXB5rWNzExoW6//Xa1YcMG7UlGetzH8vHxcX3fpp/12XD7QNfqk9B7wFHfLbfcom677TZ1xx136NDjFvdvvvlm48jT7/oSuH1AQk8wDJ22atUqHXAEPhHur1y50jjy9Lu+BG4fkNATDEun3XrrrbnQY/QvI0R9gNsHJPQEw9Jp9mhfNcqDEPUBbh+Q0BMMU6clo33VKA9C1cftAxJ6gmHqtBUrVqibbrqpcpQHoerj9gEJPcEwdRo+zfP9739fffPNN2YJTaj6uH2gc6FPVnJ8DMuWrw/CRQRquS3u/fr6IKnPla8P6lp9rYb+gR0/EIl6EpUlWxw5bXV6gydx7tpZkchLyEsdHDmV0Is6Iwm9aOgkoRcNnST0oqGThF40dJLQi4ZOEvqi5kbVyKIRNTpHrKvQ2PJFamTdpLtu59L43Y7LtxbWbVXL9Lsgl6qx3HJXU+tGiMcbYfuLR9UUtS60dFuWPb9JNbp4kVq2k1rXrvoW+mQlx0l/W/B0PvSLR9zOL1tOqDL0XVZl6MMJeaGyZIsjpwMTeoQ7eZ96EnIdysKyVGYkHo0eZ49q2M6ydflQ2NtZlNSQvFJACH56sET3McKb7U8VA5YsT+73LDMS6xrj/eO5Zc/fDnPyqmWkD1B7Gbzx9kai2rFs2c5kpC+O+Hhc74NOL+pb6M2Iny6ooxdfv0KvQ5kESfuyzqoe6UfVWG60RsdGQbCDqsOdBUmHy/hzI732WfXZ4cbf2ocg2aHMlD+wElHPNw5jbtuRN36OJsDO35HPbr/cgWi2l7ZBfD9uP9Me0XLU1/aUB3mpgyOnAxD6QudGsoNeF/rcSJyEMxeKvOygu6G3HpNs39zXdeCVgKqlJ1FhzvZb+nztkZoIffYYO/SR9POI6raeS1uS0BdVE3pnlDRhrA29fny83dRLhILathN6OxjF+xUHUm8qhLIq9KjBrrsi9NkoXne/PUnoi6oJfVmn1Ic+Du9INEemRkIdbCu8lSN9aehRY7TtddGyxF+Q3lYuoFZIc97C8y0NfTx3z9qleqQvC3nWNtk+2pKEvqjS0BeDGXd2EnSf0KcjYnK/NPTxtnsNfRycrJ6yA9RP8wu9rrXX0MNnt1HJAcslCX1RuqPsURDKDgJ0drrc6py4s4ng50KaP1DyoTBB14qW2Y/D38n+ctsz63C/uFxvjz54/eQb+uy5x89/q/W45DnhcWWhd+tMt13YJ5ck9KJOa2y5hN4BHgn9oCp6FWhhqtO30CcrOU7624JHQi/qRcgLlSVbHDmV0Is6o76F3oz46YI6evFJ6EW9CHmpgyOnEvp5yj5LIuKRhL7jktDzS0LfFeWuD+SvC8RXKs263NkM+9y+tc6cs8c7O+N1+dN+2GbymGE8oCT0nVDhwg1CawIcB9SE1hwYsS9+TBpavc4cLHi8FWi9DbM9fSEpuYiV256teNvJgZEqd/Fr4UpC3wkVr1ZmsgNb5ctdgdWht0b39Mpm4UCJFL+SDNdoL6HvjOypShbYfCgLoTcjeiYr9PaoXAh9/jGRclOmwZeEvouyQlse+vggyUb9ipE+vV/1SmGr5OCQ6Y1DlU9CXykrsLiPkFpzep/Q597dqEOerbOnSLk5vdmGTG9cOHLa6u/IDsRIb4Iay296U/ruRmxr8VK1LBmtCyO0PgiSfQ3Z1AZCXqgs2eLIqYz0/ZQO/WBMRdpQ30Z6c8uyMRt4JPQFSegrJaEXDZ0k9KKhk4ReNHSS0DMJZ1IWzqk/3/P1XVfxWoWfJPQcwhXPBfWPo4S+Do6cdif05pL8aHqOGxd04sYrP29tQrLcOpdu+XDeO214vX18Uxd85ny7XmYel56Dxz6zC1L5i0ZWKEvO3zuy92EfgPbjqe2b9shdvU185u/cuzWt/aSvbNpnXRewL7RVKffcrDas3F5cu14e9UenQ5+s5PgYli14eg991mHxhRrTqHod1WGmoe0wpD6E1wqN2X7WEfEBlduf2Y59sIwtx4FiHxD42z0w6ClU3oftal+uFvMc9MHaQ+iLj0+8ep39N7Uf3C9Roa1zB33F9uz2y/v8hbxQWbLFkdOOhb7Q2GkH5cOTKW74LHCWD9tLOgEqbN8JlbU+23e0/eXxl7zqDkRn6uVl9RQEv11D2XIdEtQSPx+9r2J99mNSf7wuPZhw335cwZdvU09V7DfXTkndel3xvp/6Fnoz4qcL6ujF13voyzqoOvRZ41o+u7MgKkT2feqAwS1qiLwIFWrKhwsjrDXCFaSfA7HOWZ7W1kPorcdXht7y5du0XHrUTp6b/fxKt4e24wl9HRw5HdzQY3tWBzkhIu8n+8B2o3Um7HpdNOInX/Qa7ytTaZgKISldjvu6lvLQ5w6UwuNZQ5/WYt0v2W+2vWI/SOj9RHVyk9Drv63OK2w/Xp+FJTcn1ffjf3rjbUf70ffNeqLWNHS2tC+rW+8Dz0kvt7Yd7ccJD+UpCV97oa/er709/bfty438fpLQl4be/tsKieOLw5CuK2w/WxZ1qlZhXa7zC8GKpOtLHlsWQMgEoOijl+efT7aP6DnhG4/tUJXt0zP0Tp2pTNCT/e70PYisx0We4i+8+Gj4Qt+DpqIAJMGuFAJgdVJfFO1zGRmmjqmDdUroSxWNKNH82jfIGI3oEa0deR+QgdXFOiX0oqGThF40dOpb6JOVHCf9bcEjoRf1IuSFypItjpwOZejLz1xUr2um+BSpPqNROAvSdbXXJnn1LfRmxE8X1NGLbyGGvj1ZoSfXd1f9DH0dHDldcKGPOyD/HZK589npGQn7fHMkM7Jm3rgj9fYWx8vS++jgynPSmbR/+dLsfH9uBLdqsN95aG3b//nMR/H+s18Dx7L44Iu3H+9Pe3VN9Dso0zaBz1zbaOPgldCXCB2QXjQyHZB0nF5H/F0cZe1O1D4rqPa67HRn9PhcmDPpxxfqsfeTbhuhStYVQu/zfGzZB24m6gAxB126DXMQ5AJsHmfXV3hc2ibab2ptQRL6EuWDgDBnnV02GiedWBp66zH2uvhx9tsRXOUfb+8nv8/c/WLoe34+vor3mT2foqz96dBngbb3HbcJXo2oA4tPEvoS5UNZEZJk1LRUFno7FMX7dkDTZZbyfjvoqM0v9F7PZ14qHniRzIieyQq99TyLoccBgQ/45NqGWRL6EvmFpDjC5Tvf3kZ+e9T2qzs777f3Uwycdb9h6PXyXHCt8Oa8xRqKB6K1v5rQxzXm6+OWhL5EfiGJOzv1mdEt6Wx7G/ntuevix2B7dGfnH58Pma4nCZJdQ8PQ+6s69PHB00voOWoql4S+RN4hMSHTipY5HRctx/389rLtO51r/RNnPyb/+GLI4vu6hihQ6TsPg4U+e+7x8y9+z2Z96KltcqlvoU9Wcpz0twVPG6EXDa6QFypLtjhyKqEXdUZ9C70Z8dMFdfTik9CLehHyUgdHTiX0os5IQi8aOknoRUMnCb1o6CShFw2dJPSioZOEXjR0ktCLhk59C33y25ocv89pCx48CZGr7y35LrlcNAC/I+vjAyikDu79+voAd314s1cdIevj9IGu1Seh90BC7+LrAxJ6Agm9S8j6OH1AQk8goXcJWR+nD0joCST0LiHr4/QBCT2BhN4lZH2cPiChJ5DQu4Ssj9MHJPQEEnqXkPVx+kDnQp+s5PgYli1fH4SLCNRyW9z79fVB3PUh9NQ6WyHr4/RBXatPQk+sK0pC78rXB3Uu9GbETxfUwe0DMr1xCVkfpw90bnpjblk2ZuPrAxJ6l5D1cfqAhJ5AQu8Ssj5OH5DQE0joXULWx+kDEnoCCb1LyPo4fUBCTyChdwlZH6cPSOgJJPQuIevj9AEJPYGE3iVkfZw+0LnQJys5Tvrb8vVBcnHKVcj6OH1Q5y5OJX9wbMyWrw+S0LsKWR+nD+pc6M2Iny6og9sHZHrjErI+Th/o3PTG3LJszMbXByT0LiHr4/QBCT2BhN4lZH2cPiChJ5DQu4Ssj9MHJPQEEnqXkPVx+oCEnkBC7xKyPk4fkNATSOhdQtbH6QMSegIJvUvI+jh9oHOhT1ZynPS35euD5OKUq5D1cfqgzl2cSv7g2JgtXx8koXcVsj5OH9S50JsRP11QB7cPyPTGJWR9nD7QuemNuWXZmI2vD0joXULWx+kDEnoCCb1LyPo4fUBCTyChdwlZH6cPSOgJJPQuIevj9AEJPYGE3iVkfZw+IKEnkNC7hKyP0wck9AQSepeQ9XH6gISeQELvErI+Th/oXOhREISrZlByv0zcPuj8+fPkclvc+/X1Qdz1IfTUOlsh6+P0QV2rT0Z6D7jrk5HehXu/VT4JvQcSehdfH5DQE0joXULWx+kDEnoCCb1LyPo4fUBCTyChdwlZH6cPSOgJJPQuIevj9AEJPYGE3iVkfZw+IKEnkNC7hKyP0wc6F/pkJcfHsGz5+iBcRKCW2+Ler68P4q4PoafW2QpZH6cP6lp9EnpiXVESele+PqhzoTcjfrqgDm4fkOmNS8j6OH2gc9Mbc8uyMRtfH5DQu4Ssj9MHJPQEEnqXkPVx+oCEnkBC7xKyPk4fkNATSOhdQtbH6QMSegIJvUvI+jh9QEJPIKF3CVkfpw9I6Akk9C4h6+P0gc6FPlnJcdLflq8PkotTrkLWx+mDOndxKvmDY2O2fH2QhN5VyPo4fVDnQm9G/HRBHdw+INMbl5D1cfpA56Y35pZlYza+PjDonTYxMaFuv/12tWHDBu1JQo/7WD4+Pq7v2/SzPhtuH5DQEwxDp91yyy3qtttuU3fccYcOPW5x/+abbzaOPP2uL4HbByT0BMPQaatWrdIBR+AT4f7KlSuNI0+/60vg9gEJPcGwdNqtt96aCz1G/zJC1Ae4fUBCTzAsnWaP9lWjPAhRH+D2AQk9wTB1WjLaV43yIFR93D4goScYpk5bsWKFuummmypHeRCqPm4f6Fzok5UcJ/1t+fqgYbq4cuPGDbVkyRL11VdfkesThaqP2wd17uJU8gfHxmz5+qC2G+WFww+rB3b8QBRIv558MNcflJr0L6Uq38BPb6bef0O9fOI5de7aWVEAbTu1QW0/vsn0Rjnz7d8yqnwDH/qVO/+fevuTU2SHiNrXg1H7X7l6yfRGOfPt3zKqfAMd+pmPJtRvjz9DdoaofW0/vUXtmhvr3j+y5pZlYza+PtBWozyyZ6l668pxskNE7evh3UvV1998KaGnaKNRTlycUltm15KdIWpfO+Z+G430G3SfSOgJ2miUNRN3q+OXZsgOEbWv1RN3qhv/87nuEwk9AXejvHXhsNo48xjZGaL2tfvs79TvTvza9IiEnoS7UZ7ct1zNXjhIdoiofT3x5k/V9S+zPpXQE3A2ypnLx9QLh0fJzhC1r4l3t6uxo2tNb8R0LvQoCMJVUSi5XyZuH8T5O6NP7btPHf5oP9khova1dt/P1Nz5k7k+kd+RJUAhdfhs7/wfzqrnDq4kO0PUvva9v1Ntml5teiODq38Bh2+gQr/+0Co19eE42SGi9rVu8gF16U8fmN7IkNATcDQKGhuNTnWGqH1hsMGgQyGhJ+BoFLys4uWV6hBobHn2Mb1MS9UY4T13bVKNLl6klu2k1mWaWjeiFi3f6q6bG1Uji0fV1LWtatmiETU6l+3f2ebOpXEt1HYKwjZG1k32vK4fei4KPKaXFBJ6gqaN8ulfLqqn999HdkYiHbpCsEpD6ym/0McHlg7lYtdftpxS6GCXCScO1k3eb3rDRUJP0LRRcIoMp8qoDklEhV6Psjqc8ciuw6dHY2uk156lall0P351iEfudIQmR+ko7HpZtJ3l2H4S2NH0IEh90f3R3MET7zvdtq7PHGBmGYKfHiz2fevW3lbdK1ZTvXBkVL3z6UnTGy4SeoImjYKLILgYQnWGLSr02TITtELw0tBHwYqDk/f18koRh3FrPoTYdvR4ezv5OnFQZH470NpnDoj8OtSYHZjZAdCOcBFw7b7lpjdoJPQETRoFl7tx2ZvqEFs6JGakTJWGJg4zOULq0Gejsx3Q3kM/6QQc+yjfjlWH8edCbz3GXhdPr0bUSOn/LHzC2z3evjJjeoOmc6FPVnJ8DMuWrw/CRQRquS1qe9f/ek2tHr+T7IyiiiHJKx8uJ/TWiNo09NQ/ubntYH3h4CwLfRpyj/ttCG/oWzNxV65PKM23fylx+BZ06F9/60X9FlaqQ4pCCDoRer3tKOzrsu1m24n3m4U1X5cd5MqQ62nTaLwfTHOMh1t46/bR6J9Yu08odS70ZsRPF9TB7QPzefnDhxPwIQWqMyh1J/SmlmgET+6Xhl5PrXoNfXbGKHtViT2cwodzHona3weZ0xPMp1HwMTR8HI3qEEo6aMyhT0LpE/xcSPXjslGY3KbZrv047TMHCx36bYXnYW87m04l65roN8eeUYc/2GN6oxoJPUGvjfL3f36jP3BMdYaoXFPRlIoj9PigPdq/rf6tgsO3IEP/5juv6q+WoDpEVKbo1ctcM6DX+wtfqXLg3e2t9W8VHL4FGXp8gRDVGaL+CO3fZv9WweFbcKGXL28KK7zC4pW2rf6tg8O34EIvX94UVnouH/1P1Vb/1sHhW1Chx9mCtr68qXg2ZOGqeCbKiLgollvvoeTLm5L+4O5fn+1x+BbUxSmcl2/ry5uGK/Tze3vCw7t/pG589ee0P7j712d7HL4FE/rpD/byfHlT7jJ/NuLFoce7ILNz5NnjEJTkMdY6cw5/NHpsvC4fJmwzeYzXAaVrG4nCaW3LPm8fKQmzrnf50uy5pNcSCqFPrwlEz0HXPb+zOLjyjSvgSX9w96/v9jh8C2Z6g/d4NP/yJiIQJsBxQK0rmWnA4sekoTXB1AeLCWSyTm/DbE9fFEqCmNtehYo+e1/RfXubdfXqv81ByXGa0v7yJsDdv77b4/AtiNDjXXwbpzm+vKkQekt2YKt8uSubOvTW6K7Dh/uFAyWSHpnrRvtCyB1ZIS6v1/wdvWpxvcuy+OVNgLN/ge/2OHwLIvR4vzbflzfZU5UsFPlQFkJvRvRMVujtkbQQ+vxjIqUhLVH6+GxZPKJbskJP12v2Hfkw7aIP3N5U/PImwNm/wHd7HL7Ohx6fyMEnc6jOaKzCyEmHKD5IsvBUjPTp/cJB46ti6Knte4Ze/00cRL2K+vImwNW/Cb7b4/B1PvT47CXflzdZgcV9hMia0/uEPn7Tlx36bJ0elak5vdlGtv0SVYY+rqmn0Du+3oXPHuMzyEW4+jfBd3scvk6HXn9506FVZGfMWyaosbKAlYcoCXr8mNxH/vTIa31+Ng15ts10X9bUpjSIzshsgq63ER1oO7P1vqF3DvQeVPblTYCjf218t8fh63ToO//lTTr0+aB7KQr3sgajb79U9uVNgKN/bXy3x+HrbOgXxJc3zTP0XG/xbVNVX94EmvZvEd/tcfg6e3Fq45FHK7+8SdSu8J2g73162umXRE37tyjf7XH4Ohn6y9fPq6dqvrxJ1J5w4uCZA/fn+qSoJv1LyXd7HL5OTm98vrxJ1J7w/f5VX94EmvQvhe/2OHydC73vlzeJ2hEuAuKXXOqYb/+W4bs9Dl/nQu/75U2idoS3e+A3u+qYb/+W4bs9Dl+nQo83NOGNTVRniNqX/eVNdcynf6vw3R6Hr1Ohx++O+n55k4hf9pc31TGf/q3Cd3scvs6EvtcvbxLxSn95056lrfVvHdz7rfJ1JvS9fnmTiFf4GObMRxOt9W8d3Put8nUi9FeuXpIvbwoofNAeH7gHbfSvhJ5g+/FN8uVNAYWvVMFXq4A2+rdzoUdBEK6aQcn9MnH7oGf3r9BfIDQs+t6S75LLQ+m5yZVpX7TRv/I7sgQopA7u/fr6AHd9eKtwHSHr4/SBrtUnofdAQu/i6wMSegIJvUvI+jh9QEJPIKF3CVkfpw9I6Akk9C4h6+P0AQk9gYTeJWR9nD4goSeQ0LuErI/TByT0BBJ6l5D1cfpA50KfrOT4GJYtXx+EiwjUclvc+/X1Qdz1IfTUOlsh6+P0QV2rT0JPrCtKQu/K1wd1LvRmxE8X1MHtAzK9cQlZH6cPdG56Y25ZNmbj6wMSepeQ9XH6gISeQELvErI+Th+Q0BNI6F1C1sfpAxJ6Agm9S8j6OH1AQk8goXcJWR+nD0joCST0LiHr4/QBCT2BhN4lZH2cPtC50CcrOU762/L1QXJxylXI+jh9UOcuTiV/cGzMlq8PktC7Clkfpw/qXOjNiJ8uqIPbB2R64xKyPk4f6Nz0xtyybMzG1wck9C4h6+P0AQk9gYTeJWR9nD4goSeQ0LuErI/TByT0BBJ6l5D1cfqAhJ5AQu8Ssj5OH5DQE0joXULWx+kDEnoCCb1LyPo4faBzoU9Wcpz0t+Xrg+TilKuQ9XH6oM5dnEr+4NiYLV8fJKF3FbI+Th/UudCbET9dUAe3D8j0xiVkfZw+0Lnpjbll2ZiNrw9I6F1C1sfpAxJ6Agm9S8j6OH1AQk8goXcJWR+nD0joCST0LiHr4/QBCT2BhN4lZH2cPiChJ5DQu4Ssj9MHJPQEEnqXkPVx+oCEnkBC7xKyPk4f6FzoURCEq2ZQcr9M3D6oa78zWhR3fQg9tc5WyPo4fZD8jiwBCqmDe7++PsBdn4z0Ltz7rfJJ6D2Q0Lv4+oCEnkBC7xKyPk4fkNATSOhdQtbH6QMSegIJvUvI+jh9QEJPIKF3CVkfpw9I6Akk9C4h6+P0AQk9gYTeJWR9nD7QudAnKzk+hmXL1wfhIgK13Bb3fn19EHd9CD21zlbI+jh9UNfqk9AT64qS0Lvy9UGdC70Z8dMFdXD7gExvXELWx+kDnZvemFuWjdn4+oCE3iVkfZw+IKEnkNC7hKyP0wck9AQSepeQ9XH6gISeQELvErI+Th+Q0BNI6F1C1sfpAxJ6Agm9S8j6OH1AQk8goXcJWR+nD3Qu9MlKjpP+tnx9kFycchWyPk4f1LmLU8kfHBuz5euDJPSuQtbH6YM6F3oz4qcL6uD2AZneuISsj9MHOje9MbcsG7Px9YFB77SJiQl1++23qw0bNmhPEnrcx/Lx8XF936af9dlw+4CEnmAYOu2WW25Rt912m7rjjjt06HGL+zfffLNx5Ol3fQncPiChJxiGTlu1apUOOAKfCPdXrlxpHHn6XV8Ctw9I6AmGpdNuvfXWXOgx+pcRoj7A7QMSeoJh6TR7tK8a5UGI+gC3D0joCYap05LRvmqUB6Hq4/YBCT3BMHXaihUr1E033VQ5yoNQ9XH7QOdCn6zkOOlvy9cHDdPFlRs3bqglS5aor776ilyfKFR93D6ocxenkj84NmbL1wcNSqd99vlVde7qCXX4gz1qx+nN6pUTz6rNM4+p5w+uUk/vv0+tmbhLrdr1Q/XcwQfVQ9Et7mM51sMHPx6Hx89dOqq3R+2rKAm9qyqfTG88oOr74xefqLkrs2ri3Mtqw5FH1cO7f6RWj9+pXjj8iHr99Bb1+7fH1O6zv1NvvrdDTX04rqY/nlTHL82o01dPqnPXzupb3MdyrIcPfjxue/T49Ycf1tt7ZM9StXH60Wg/r6gzV4+qP0T7LSLTG5cqn4Teg6S+q3/+WIfvsb1361Bumnk8CvhmdeCD3epUNMIjzNx66+pxvf3XTm/S+1sfHVSP771H7Y3q+OQvF3RdEnqXKp+EvgYE67VjG6Kg36N+NfmLaBTerEdoKqD90rFL0/pg+9WBn+sD4PVjG9MDoAzudvH1AQk9QRdDf+LiVDRtGY2C9Qv12qlNOmhUAEMLdb12aqM+ADANOnnpoHkGebjaJcHXByT0BF1qlFOXj6jVE3eqrUefUicCj+i9Cq9AW2bX6n+QT1+ZNs8opmm7FPH1AQk9QRcaZe7qbDRV+InaPPOEOnF5lgzVQhHCj/n/E2/+VP/zC+bbLmX4+oCEniBko1z/8lP1YvTP4YbpNeroxSNkiBaqjl48HE3RVqsXo2naH27Epw3r6LX9fJDQE4RqlKMf7dej+2wUDio0g6LZi4eiKc/d6thHk+bZl8PdzkBCTxCiUV45/qzaPPskGZJB1aZo6vbqyedNC9BwtzPoXOhREISrZlByv0zcPqifvzN64fJ5tWb8LrXrzCtkMAZdO8+8rB6buEdduPIR2T5c7WxLfkeWAIXUwbHfL/73hj4FeezSYM3dexXm+k8f+Ln68m9fmJbJ4GjnIv3qX5sq39CE/pt//E09uPM/yRAMq1a88e/qH//Mt1XTdqaQ0BP0o1EeHf+vBX8qkls4tbl64i7TQjFN25lCQk/QdqOsP/SQmvxgD9nxwy68r+fFI4+YllqY/UtR5Rv40O94e5N+9yLV4aJY+Of2jbktur3m285VSOgJ2mqUC396T/364Aqyo0V5rZt6QF36/MN5tXMdEnqCthoFbxjDyzfVyaK89r2/U22aXj2vdq5DQk/QRqNc+fN59czk/WQHi2jhNOal6/FoX4dvf4DOhT5ZyfExLFu+PggXEajltnrd76bpNWrfe2+QnSuitffd36vN04/31M7UuqLa6F9qna0q30CG/qPP3lNbZp8gO1ZUrU1R6C9c+4BsW1sh+7epbyCnNyc+ntJvraU6tU2NLc++vczWyLpJ0l+qnUujxy1VY9S6lrVx5jF18sIh05rlhOzfpr6BDP3uud/oTxNRndqmdOiXbyXX9aSAod92aoPac+Yl05rlhOzfpr6BDP3maJTH/JTq1DZVHfpJNbp4kVq2HIE2rwK2d25UjZjlsSdM6Pe+u11tmXnCtGY5Ifu3qW8gQ//km/eq2eglmurUNuUT+kWLR9UU7uvRfESNzmHdVrXMmgbF06QwoZ+9cFA9ue9e05rlhOzfpr6BDP1zB1eSHdq26Dl9Euw49Nn8HkE36/Qob4W8eL/PQvvVEbJ/m/pkpGeU1/RmZ3LfCn1xDh8w9PFIv9y0Zjkh+7epbyBDv6XLc3oq9B0a6TGn3zr7pGnNckL2b1PfQIZ+95nfqm2dO3tTEfrC1CfknB5nb8bPvGxas5yQ/dvUN5AXp2Y/3B/k86/0nD6SPhCqQh9Jj+6xf2TdaLQuTOhxfePY+QNk29oK2b9NfQMZ+o+vva+2DNmHvrmEK7IXr2XvtixTyP5t6hvI6Q20dfYJ/U3AVMeKaGE+Pza7tqd29kHm9ARtNAq+YVjeZdmb8C7Ly9fP99TOPkjoCdpqlI3Tq9X+93eRHSzKC+9IxQ9DzKed65DQE7TVKBf/9L5aN/VLspNFeeFV8fLn8SjfazvXIaEnaLNRdry9eWi/2MlXO8+8pHbNjen2mm87VyGhJ2i7UfBpf/k2BFoHoukfpoEJTdq5DAk9QT8aBd/ZHvoXRLomfNMbfsnEpmk7U0joCfrRKPgmrxVv/AfZ+cOqX+74N/Wv//uXaaGYpu1M0bnQJys5Tvrb8vVB/bp48cXXN9QzB+7X3+VIhWBYhDeV4R/XL77+q9NGHO1clFyRJdTPRkHw8Qsdw/utxS+ptfuWk4GHuNrZllyRJQjx8rft5PNq85B9eFz/BOipF00L0HC3M5A5PUGoRjn+8ZRas/duNRO93FMhGRTNRM8TPx53MnqedXC3M5DQE4RslM+/+qN64cgj+keJ8TM1VGgWqjB3x/PCL5pf/+u1VtrPBwk9QRca5ewnx6K5/r1q4/Sazv5mrK9wKhI/HIdPQJ379IR+fvNtlzJ8fUBCT9ClRnn7yoz+UTL8tOaxiwsr/Ph1RMzb8evm+IlQm6btUsTXByT0BF1rFPDWpUP6F7if2n+f2vbWhs6e5kRdr771YlTnz/RXGZ66fNg8gzxc7ZLg6wMSeoIuhj7hsxuX1OvHN+nTnE9HBwC+RCr0780i6KgDQUdd249vjuq8bCqm4W4XXx+Q0BN0OfQgqe/T6AB4851Xo6D9RD1/6CE9/8dncfE11yevHCMD2lTYLraPz65inr7+0MM66Pve2ZYGfaG0XxXc+63ySeg9oOq7/sVn0T+/x/VBsHlmjRrdsyzSj/XB8PrpTWr721vUrrOv6G9lwJvdjnx8QP+DfPrqSR1m3OI+lmM9fPDjcXj884dW6e2Njv9YT1uwn3PR/q5/6dYioXep8g3d78gm8vVBvvV9ePE9dfTdKbX39Db16tH1amz6abXh0KPq2ckVau2b/61Wj9+pVu36YXT/l/oW97Ec6+GDH4/be+o1NfvOpN4eta+iBqX9OPdb5ZOR3gOpz8XXB7pWn4TeA6nPxdcHJPQE0mkuvj4g9blU+ST0Hkh9Lr4+IKEnkE5z8fUBqc+lyieh90Dqc/H1AQk9gXSai68PSH0uVT4JvQdSn4uvD3Qu9MlKjo9h2fL1QbiIQC23xb1fXx8k9bny9UFdq09CT6wrSupz5euDOhd6M+KnC+rg9gF5eXbx9QGpz6XKJ6H3QOpz8fUBCT2BdJqLrw9IfS5VPgm9B1Kfi68PSOgJpNNcfH1A6nOp8knoPZD6XHx9QEJPIJ3m4usDUp9LuU+p/w+1/kh1hn0XdAAAAABJRU5ErkJggg==)"
      ]
    },
    {
      "cell_type": "markdown",
      "metadata": {
        "id": "bcsuAQPRu06I"
      },
      "source": [
        "####**2.) Square or Non-Square**"
      ]
    },
    {
      "cell_type": "code",
      "metadata": {
        "id": "jbXiyGuhu5fs"
      },
      "source": [
        "def mat_desc(matrix):\n",
        "  square = True if matrix.shape[0] == matrix.shape[1] else False\n",
        "  print (f'Matrix:\\n{matrix}\\n\\nShape:\\t{matrix.shape}\\nRank:\\t{matrix.ndim}\\nSquare: {square}\\n')"
      ],
      "execution_count": 60,
      "outputs": []
    },
    {
      "cell_type": "code",
      "metadata": {
        "colab": {
          "base_uri": "https://localhost:8080/"
        },
        "id": "-r-8p30du8To",
        "outputId": "9f5bf172-c53f-45a1-d700-cee05de412e0"
      },
      "source": [
        "T12 = np.array([\n",
        "      [7,9,3],\n",
        "      [2,5,21],\n",
        "      [7,1,1]\n",
        "])\n",
        "\n",
        "non_T12 = np.array([\n",
        "      [7,9,3],\n",
        "      [2,5,21]\n",
        "])\n",
        "mat_desc(T12)\n",
        "mat_desc(non_T12)"
      ],
      "execution_count": 61,
      "outputs": [
        {
          "output_type": "stream",
          "name": "stdout",
          "text": [
            "Matrix:\n",
            "[[ 7  9  3]\n",
            " [ 2  5 21]\n",
            " [ 7  1  1]]\n",
            "\n",
            "Shape:\t(3, 3)\n",
            "Rank:\t2\n",
            "Square: True\n",
            "\n",
            "Matrix:\n",
            "[[ 7  9  3]\n",
            " [ 2  5 21]]\n",
            "\n",
            "Shape:\t(2, 3)\n",
            "Rank:\t2\n",
            "Square: False\n",
            "\n"
          ]
        }
      ]
    },
    {
      "cell_type": "markdown",
      "metadata": {
        "id": "g4iSO3y3_3e_"
      },
      "source": [
        "![t2.PNG](data:image/png;base64,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)"
      ]
    },
    {
      "cell_type": "markdown",
      "metadata": {
        "id": "ZHGS24yd1I6e"
      },
      "source": [
        "####**3.) Empty Matrix**"
      ]
    },
    {
      "cell_type": "code",
      "metadata": {
        "id": "NBHkFlUi1Zwg"
      },
      "source": [
        "def mat_desc(matrix):\n",
        "  if matrix.size > 0:\n",
        "    print (f'Matrix:\\n{matrix}\\n\\nShape:\\t{matrix.shape}\\nRank:\\t{matrix.ndim}\\nSquare: {square}\\n')\n",
        "  else:\n",
        "    print('Matrix is Null')"
      ],
      "execution_count": 63,
      "outputs": []
    },
    {
      "cell_type": "code",
      "metadata": {
        "colab": {
          "base_uri": "https://localhost:8080/"
        },
        "id": "egt8fq5r1iH7",
        "outputId": "59b4f2d9-6660-4f78-888b-3266b5830fa1"
      },
      "source": [
        "C = np.array([])\n",
        "mat_desc(C)"
      ],
      "execution_count": 64,
      "outputs": [
        {
          "output_type": "stream",
          "name": "stdout",
          "text": [
            "Matrix is Null\n"
          ]
        }
      ]
    },
    {
      "cell_type": "markdown",
      "metadata": {
        "id": "OYA0l0PF_9oz"
      },
      "source": [
        "![t3.PNG](data:image/png;base64,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)"
      ]
    },
    {
      "cell_type": "markdown",
      "metadata": {
        "id": "JNfozmC71IuZ"
      },
      "source": [
        "####**3.) Identities**"
      ]
    },
    {
      "cell_type": "markdown",
      "metadata": {
        "id": "NVetbe3D5a9K"
      },
      "source": [
        "######**Zeroes**"
      ]
    },
    {
      "cell_type": "code",
      "metadata": {
        "colab": {
          "base_uri": "https://localhost:8080/"
        },
        "id": "0K4OMyKl43qF",
        "outputId": "7d9ea356-2984-4665-e118-98386800d3ef"
      },
      "source": [
        "zero_mat_row = np.zeros((6,4))\n",
        "zero_mat_sqr = np.zeros((8,3))\n",
        "zero_mat_rct = np.zeros((3,3))\n",
        "\n",
        "print(f'Zero Row Matrix: \\n{zero_mat_row}')\n",
        "print(f'Zero Square Matrix: \\n{zero_mat_sqr}')\n",
        "print(f'Zero Rectangular Matrix: \\n{zero_mat_rct}')"
      ],
      "execution_count": 65,
      "outputs": [
        {
          "output_type": "stream",
          "name": "stdout",
          "text": [
            "Zero Row Matrix: \n",
            "[[0. 0. 0. 0.]\n",
            " [0. 0. 0. 0.]\n",
            " [0. 0. 0. 0.]\n",
            " [0. 0. 0. 0.]\n",
            " [0. 0. 0. 0.]\n",
            " [0. 0. 0. 0.]]\n",
            "Zero Square Matrix: \n",
            "[[0. 0. 0.]\n",
            " [0. 0. 0.]\n",
            " [0. 0. 0.]\n",
            " [0. 0. 0.]\n",
            " [0. 0. 0.]\n",
            " [0. 0. 0.]\n",
            " [0. 0. 0.]\n",
            " [0. 0. 0.]]\n",
            "Zero Rectangular Matrix: \n",
            "[[0. 0. 0.]\n",
            " [0. 0. 0.]\n",
            " [0. 0. 0.]]\n"
          ]
        }
      ]
    },
    {
      "cell_type": "markdown",
      "metadata": {
        "id": "VPBjPOXaABvS"
      },
      "source": [
        "![t4.PNG](data:image/png;base64,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)"
      ]
    },
    {
      "cell_type": "markdown",
      "metadata": {
        "id": "WS_5t53c5lHg"
      },
      "source": [
        "#####**Ones**"
      ]
    },
    {
      "cell_type": "code",
      "metadata": {
        "colab": {
          "base_uri": "https://localhost:8080/"
        },
        "id": "EhwMEQYM5moU",
        "outputId": "12216a53-b4a5-40f2-fd66-90ebc6100a8a"
      },
      "source": [
        "ones_mat_row = np.ones((9,6))\n",
        "ones_mat_sqr = np.ones((5,7))\n",
        "ones_mat_rct = np.ones((9,5))\n",
        "\n",
        "\n",
        "print(f'Ones Row Matrix: \\n{ones_mat_row}')\n",
        "print(f'Ones square Matrix: \\n{ones_mat_sqr}')\n",
        "print(f'Ones Rectangular Matrix: \\n{ones_mat_rct}')"
      ],
      "execution_count": 66,
      "outputs": [
        {
          "output_type": "stream",
          "name": "stdout",
          "text": [
            "Ones Row Matrix: \n",
            "[[1. 1. 1. 1. 1. 1.]\n",
            " [1. 1. 1. 1. 1. 1.]\n",
            " [1. 1. 1. 1. 1. 1.]\n",
            " [1. 1. 1. 1. 1. 1.]\n",
            " [1. 1. 1. 1. 1. 1.]\n",
            " [1. 1. 1. 1. 1. 1.]\n",
            " [1. 1. 1. 1. 1. 1.]\n",
            " [1. 1. 1. 1. 1. 1.]\n",
            " [1. 1. 1. 1. 1. 1.]]\n",
            "Ones square Matrix: \n",
            "[[1. 1. 1. 1. 1. 1. 1.]\n",
            " [1. 1. 1. 1. 1. 1. 1.]\n",
            " [1. 1. 1. 1. 1. 1. 1.]\n",
            " [1. 1. 1. 1. 1. 1. 1.]\n",
            " [1. 1. 1. 1. 1. 1. 1.]]\n",
            "Ones Rectangular Matrix: \n",
            "[[1. 1. 1. 1. 1.]\n",
            " [1. 1. 1. 1. 1.]\n",
            " [1. 1. 1. 1. 1.]\n",
            " [1. 1. 1. 1. 1.]\n",
            " [1. 1. 1. 1. 1.]\n",
            " [1. 1. 1. 1. 1.]\n",
            " [1. 1. 1. 1. 1.]\n",
            " [1. 1. 1. 1. 1.]\n",
            " [1. 1. 1. 1. 1.]]\n"
          ]
        }
      ]
    },
    {
      "cell_type": "markdown",
      "metadata": {
        "id": "dZgpvVuzAFhF"
      },
      "source": [
        "![t5.PNG](data:image/png;base64,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)"
      ]
    },
    {
      "cell_type": "markdown",
      "metadata": {
        "id": "AMkWfXpN6C8b"
      },
      "source": [
        "#####**Identity**"
      ]
    },
    {
      "cell_type": "code",
      "metadata": {
        "colab": {
          "base_uri": "https://localhost:8080/"
        },
        "id": "FI59B-7t6F_z",
        "outputId": "5846f469-e43f-430f-98cd-aa710d6c3a34"
      },
      "source": [
        "np.identity(8)"
      ],
      "execution_count": 67,
      "outputs": [
        {
          "output_type": "execute_result",
          "data": {
            "text/plain": [
              "array([[1., 0., 0., 0., 0., 0., 0., 0.],\n",
              "       [0., 1., 0., 0., 0., 0., 0., 0.],\n",
              "       [0., 0., 1., 0., 0., 0., 0., 0.],\n",
              "       [0., 0., 0., 1., 0., 0., 0., 0.],\n",
              "       [0., 0., 0., 0., 1., 0., 0., 0.],\n",
              "       [0., 0., 0., 0., 0., 1., 0., 0.],\n",
              "       [0., 0., 0., 0., 0., 0., 1., 0.],\n",
              "       [0., 0., 0., 0., 0., 0., 0., 1.]])"
            ]
          },
          "metadata": {},
          "execution_count": 67
        }
      ]
    },
    {
      "cell_type": "markdown",
      "metadata": {
        "id": "4A6eYB2KAKgF"
      },
      "source": [
        "![t6.PNG](data:image/png;base64,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)"
      ]
    },
    {
      "cell_type": "markdown",
      "metadata": {
        "id": "bTYcBVySugat"
      },
      "source": [
        "###**Task 2**\n",
        "\n",
        "Create a function named mat_operations() that takes in two matrices a input parameters it should:\n",
        "\n",
        "1. Determines if the matrices are viable for operation and returns your own error message if they are not viable.\n",
        "2. Returns the sum of the matrices.\n",
        "3. Returns the differen of the matrices.\n",
        "4. Returns the element-wise multiplication of the matrices.\n",
        "5. Returns the element-wise division of the matrices.\n",
        "\n",
        "Use 5 sample matrices in which their shapes are not lower than $(3,3)$. In your methodology, create a flowchart discuss the functions and methods you have done. Present your results in the results section showing the description of each matrix you have declared."
      ]
    },
    {
      "cell_type": "markdown",
      "metadata": {
        "id": "FENt2Be-qsVH"
      },
      "source": [
        "####**Addition**"
      ]
    },
    {
      "cell_type": "code",
      "metadata": {
        "id": "U6F-hZ-8rcWQ"
      },
      "source": [
        "A = np.array([\n",
        "   [9,6,6,7],\n",
        "   [1,3,3,8],\n",
        "   [8,7,2,9],\n",
        "   [3,9,7,1]         \n",
        "])\n",
        "B = np.array([\n",
        "   [6,5,4],\n",
        "   [7,6,3],\n",
        "   [5,8,9]\n",
        "])\n",
        "C = np.array([\n",
        "    [3,1,3],\n",
        "    [7,2,7],\n",
        "    [8,2,1]\n",
        "])"
      ],
      "execution_count": 71,
      "outputs": []
    },
    {
      "cell_type": "code",
      "metadata": {
        "colab": {
          "base_uri": "https://localhost:8080/",
          "height": 158
        },
        "id": "D3EbGxZit97-",
        "outputId": "21e892c7-72d9-4f3c-cfa4-23a7eef9acfc"
      },
      "source": [
        "A + B"
      ],
      "execution_count": 72,
      "outputs": [
        {
          "output_type": "error",
          "ename": "ValueError",
          "evalue": "ignored",
          "traceback": [
            "\u001b[0;31m---------------------------------------------------------------------------\u001b[0m",
            "\u001b[0;31mValueError\u001b[0m                                Traceback (most recent call last)",
            "\u001b[0;32m<ipython-input-72-151064de832d>\u001b[0m in \u001b[0;36m<module>\u001b[0;34m()\u001b[0m\n\u001b[0;32m----> 1\u001b[0;31m \u001b[0mA\u001b[0m \u001b[0;34m+\u001b[0m \u001b[0mB\u001b[0m\u001b[0;34m\u001b[0m\u001b[0;34m\u001b[0m\u001b[0m\n\u001b[0m",
            "\u001b[0;31mValueError\u001b[0m: operands could not be broadcast together with shapes (4,4) (3,3) "
          ]
        }
      ]
    },
    {
      "cell_type": "code",
      "metadata": {
        "colab": {
          "base_uri": "https://localhost:8080/"
        },
        "id": "HCy1x64w8-Hm",
        "outputId": "3bfc0628-8a7a-450a-aa31-229ad36b0557"
      },
      "source": [
        "B + C"
      ],
      "execution_count": 73,
      "outputs": [
        {
          "output_type": "execute_result",
          "data": {
            "text/plain": [
              "array([[ 9,  6,  7],\n",
              "       [14,  8, 10],\n",
              "       [13, 10, 10]])"
            ]
          },
          "metadata": {},
          "execution_count": 73
        }
      ]
    },
    {
      "cell_type": "code",
      "metadata": {
        "colab": {
          "base_uri": "https://localhost:8080/"
        },
        "id": "T3lgayYL9BzO",
        "outputId": "67716316-7432-42e9-b1f5-86f3c761c90f"
      },
      "source": [
        "B + 3"
      ],
      "execution_count": 74,
      "outputs": [
        {
          "output_type": "execute_result",
          "data": {
            "text/plain": [
              "array([[ 9,  8,  7],\n",
              "       [10,  9,  6],\n",
              "       [ 8, 11, 12]])"
            ]
          },
          "metadata": {},
          "execution_count": 74
        }
      ]
    },
    {
      "cell_type": "code",
      "metadata": {
        "colab": {
          "base_uri": "https://localhost:8080/"
        },
        "id": "Buz9eMqd9EgX",
        "outputId": "2e1f9d6a-7446-4a87-f841-d760efe58042"
      },
      "source": [
        "C + 7"
      ],
      "execution_count": 75,
      "outputs": [
        {
          "output_type": "execute_result",
          "data": {
            "text/plain": [
              "array([[10,  8, 10],\n",
              "       [14,  9, 14],\n",
              "       [15,  9,  8]])"
            ]
          },
          "metadata": {},
          "execution_count": 75
        }
      ]
    },
    {
      "cell_type": "markdown",
      "metadata": {
        "id": "wvfrSWlxAPJy"
      },
      "source": [
        "![T7.PNG](data:image/png;base64,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)"
      ]
    },
    {
      "cell_type": "markdown",
      "metadata": {
        "id": "mQ0eWB0D-e-e"
      },
      "source": [
        "####**Subtraction**"
      ]
    },
    {
      "cell_type": "code",
      "metadata": {
        "colab": {
          "base_uri": "https://localhost:8080/",
          "height": 158
        },
        "id": "E82Uf2zi-jzn",
        "outputId": "da6cacf6-205a-45d4-d5ba-7f0e2196da4c"
      },
      "source": [
        "A - B"
      ],
      "execution_count": 76,
      "outputs": [
        {
          "output_type": "error",
          "ename": "ValueError",
          "evalue": "ignored",
          "traceback": [
            "\u001b[0;31m---------------------------------------------------------------------------\u001b[0m",
            "\u001b[0;31mValueError\u001b[0m                                Traceback (most recent call last)",
            "\u001b[0;32m<ipython-input-76-cb6a01d229b4>\u001b[0m in \u001b[0;36m<module>\u001b[0;34m()\u001b[0m\n\u001b[0;32m----> 1\u001b[0;31m \u001b[0mA\u001b[0m \u001b[0;34m-\u001b[0m \u001b[0mB\u001b[0m\u001b[0;34m\u001b[0m\u001b[0;34m\u001b[0m\u001b[0m\n\u001b[0m",
            "\u001b[0;31mValueError\u001b[0m: operands could not be broadcast together with shapes (4,4) (3,3) "
          ]
        }
      ]
    },
    {
      "cell_type": "code",
      "metadata": {
        "colab": {
          "base_uri": "https://localhost:8080/"
        },
        "id": "BwsqR7CX-loN",
        "outputId": "edbad6cf-60db-4744-82a3-266650837231"
      },
      "source": [
        "B - C"
      ],
      "execution_count": 77,
      "outputs": [
        {
          "output_type": "execute_result",
          "data": {
            "text/plain": [
              "array([[ 3,  4,  1],\n",
              "       [ 0,  4, -4],\n",
              "       [-3,  6,  8]])"
            ]
          },
          "metadata": {},
          "execution_count": 77
        }
      ]
    },
    {
      "cell_type": "code",
      "metadata": {
        "colab": {
          "base_uri": "https://localhost:8080/"
        },
        "id": "1omR6qOP-oaG",
        "outputId": "7b0577e8-e13d-456e-f621-ea3b3db79643"
      },
      "source": [
        "A - 3"
      ],
      "execution_count": 78,
      "outputs": [
        {
          "output_type": "execute_result",
          "data": {
            "text/plain": [
              "array([[ 6,  3,  3,  4],\n",
              "       [-2,  0,  0,  5],\n",
              "       [ 5,  4, -1,  6],\n",
              "       [ 0,  6,  4, -2]])"
            ]
          },
          "metadata": {},
          "execution_count": 78
        }
      ]
    },
    {
      "cell_type": "code",
      "metadata": {
        "colab": {
          "base_uri": "https://localhost:8080/"
        },
        "id": "WbFK33Nm-qur",
        "outputId": "6ee42859-26fb-4c4f-ddea-b46fe0301d23"
      },
      "source": [
        "B - 5"
      ],
      "execution_count": 79,
      "outputs": [
        {
          "output_type": "execute_result",
          "data": {
            "text/plain": [
              "array([[ 1,  0, -1],\n",
              "       [ 2,  1, -2],\n",
              "       [ 0,  3,  4]])"
            ]
          },
          "metadata": {},
          "execution_count": 79
        }
      ]
    },
    {
      "cell_type": "markdown",
      "metadata": {
        "id": "EmtP4GCzAUFt"
      },
      "source": [
        "![t8.PNG](data:image/png;base64,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)"
      ]
    },
    {
      "cell_type": "markdown",
      "metadata": {
        "id": "x0VgakhE-_pm"
      },
      "source": [
        "####**Multiplication**"
      ]
    },
    {
      "cell_type": "code",
      "metadata": {
        "id": "itTm2Syn_DM5"
      },
      "source": [
        "A * B"
      ],
      "execution_count": null,
      "outputs": []
    }
  ]
}