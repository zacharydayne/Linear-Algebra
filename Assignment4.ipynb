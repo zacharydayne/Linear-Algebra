{
  "nbformat": 4,
  "nbformat_minor": 0,
  "metadata": {
    "colab": {
      "name": "Assignment2.ipynb",
      "provenance": [],
      "toc_visible": true,
      "authorship_tag": "ABX9TyPRb3OVlQFELhmP/X3EFWJx",
      "include_colab_link": true
    },
    "kernelspec": {
      "name": "python3",
      "display_name": "Python 3"
    },
    "language_info": {
      "name": "python"
    }
  },
  "cells": [
    {
      "cell_type": "markdown",
      "metadata": {
        "id": "view-in-github",
        "colab_type": "text"
      },
      "source": [
        "<a href=\"https://colab.research.google.com/github/zacharydayne/Linear-Algebra/blob/main/Assignment4.ipynb\" target=\"_parent\"><img src=\"https://colab.research.google.com/assets/colab-badge.svg\" alt=\"Open In Colab\"/></a>"
      ]
    },
    {
      "cell_type": "markdown",
      "metadata": {
        "id": "s8lo8cvpYItQ"
      },
      "source": [
        "#**Linear Algebra For ECE**\n",
        "##**Laboratory 4: Matrices**"
      ]
    },
    {
      "cell_type": "code",
      "metadata": {
        "id": "7Ii_hWhF8CKy"
      },
      "source": [
        "import numpy as np\n",
        "import matplotlib.pyplot as plt\n",
        "import scipy.linalg as la\n",
        "%matplotlib inline"
      ],
      "execution_count": 13,
      "outputs": []
    },
    {
      "cell_type": "markdown",
      "metadata": {
        "id": "JFASe8B08s1V"
      },
      "source": [
        "##**Matrices**\n",
        "\n",
        "The notation and use of matrices is probably one of the fundamentals of modern computing. Matrices are also handy representations of complex equations or multiple inter-related equations from 2-dimensional equations to even hundreds and thousands of them."
      ]
    },
    {
      "cell_type": "markdown",
      "metadata": {
        "id": "LSnv8esCY5BV"
      },
      "source": [
        "\n",
        "Let's say for example you have $A$ and $B$ as system of equation."
      ]
    },
    {
      "cell_type": "markdown",
      "metadata": {
        "id": "0e0pIKRY9P8A"
      },
      "source": [
        "$$\n",
        "A = \\left\\{\n",
        "    \\begin{array}\\\n",
        "        x + y \\\\ \n",
        "        4x - 10y\n",
        "    \\end{array}\n",
        "\\right. \\\\\n",
        "B = \\left\\{\n",
        "    \\begin{array}\\\n",
        "        x+y+z \\\\ \n",
        "        3x -2y -z \\\\\n",
        "        -x + 4y +2z\n",
        "    \\end{array}\n",
        "\\right. \n",
        "$$"
      ]
    },
    {
      "cell_type": "markdown",
      "metadata": {
        "id": "OQ_31i0GN1-K"
      },
      "source": [
        "\n",
        "We could see that $A$ is a system of 2 equations with 2 parameters. While $B$ is a system of 3 equations with 3 parameters. We can represent them as matrices as:"
      ]
    },
    {
      "cell_type": "markdown",
      "metadata": {
        "id": "c2X7Nh069UGf"
      },
      "source": [
        "$$\n",
        "A=\\begin{bmatrix} 1 & 1 \\\\ 4 & {-10}\\end{bmatrix} \\\\\n",
        "B=\\begin{bmatrix} 1 & 1 & 1 \\\\ 3 & -2 & -1 \\\\ -1 & 4 & 2\\end{bmatrix}\n",
        "$$"
      ]
    },
    {
      "cell_type": "markdown",
      "metadata": {
        "id": "my5jZNgYZNmI"
      },
      "source": [
        "##**Declaring Matrices**\n",
        "\n",
        "\n",
        "Just like our previous laboratory activity, we'll represent system of linear equations as a matrix. The entities or numbers in matrices are called the elements of a matrix. These elements are arranged and ordered in rows and columns which form the list/array-like structure of matrices. And just like arrays, these elements are indexed according to their position with respect to their rows and columns. This can be reprsented just like the equation below. Whereas $A$ is a matrix consisting of elements denoted by $a_{i,j}$. Denoted by $i$ is the number of rows in the matrix while $j$ stands for the number of columns.\n",
        "Do note that the $size$ of a matrix is $i\\times j$."
      ]
    },
    {
      "cell_type": "markdown",
      "metadata": {
        "id": "q4GhsiZe-PuZ"
      },
      "source": [
        "$$A=\\begin{bmatrix}\n",
        "a_{(0,0)}&a_{(0,1)}&\\dots&a_{(0,j-1)}\\\\\n",
        "a_{(1,0)}&a_{(1,1)}&\\dots&a_{(1,j-1)}\\\\\n",
        "\\vdots&\\vdots&\\ddots&\\vdots&\\\\\n",
        "a_{(i-1,0)}&a_{(i-1,1)}&\\dots&a_{(i-1,j-1)}\n",
        "\\end{bmatrix}\n",
        "$$"
      ]
    },
    {
      "cell_type": "markdown",
      "metadata": {
        "id": "6JgdX3hXMA03"
      },
      "source": [
        "We already gone over some of the types of matrices as vectors but we'll further discuss them in this laboratory activity. Since you already know how to describe vectors using shape, dimensions and size attributes, we'll use them to analyze these matrices."
      ]
    },
    {
      "cell_type": "code",
      "metadata": {
        "id": "B4NDFU2DAB5s"
      },
      "source": [
        "## Describing matrices: Creating a Function\n",
        "def describe_mat(matrix):\n",
        "    print(f'matrix:\\n{matrix}\\n\\nShape:\\t{matrix.shape}\\nRank:\\t{matrix.ndim}\\n')"
      ],
      "execution_count": 10,
      "outputs": []
    },
    {
      "cell_type": "code",
      "metadata": {
        "colab": {
          "base_uri": "https://localhost:8080/"
        },
        "id": "q0Ui2zpbARbX",
        "outputId": "cf798cd1-b9f6-4b67-8cd1-d1f6cbc051ee"
      },
      "source": [
        "## Declaring a 2 x 2 matrix\n",
        "A = np.array([\n",
        "            [1, 2],\n",
        "            [3, 1]\n",
        "            ])\n",
        "describe_mat(A)"
      ],
      "execution_count": 14,
      "outputs": [
        {
          "output_type": "stream",
          "name": "stdout",
          "text": [
            "matrix:\n",
            "[[1 2]\n",
            " [3 1]]\n",
            "\n",
            "Shape:\t(2, 2)\n",
            "Rank:\t2\n",
            "\n"
          ]
        }
      ]
    },
    {
      "cell_type": "code",
      "metadata": {
        "colab": {
          "base_uri": "https://localhost:8080/"
        },
        "id": "M3mmWaYgZ8cW",
        "outputId": "b92d5011-a403-4f92-d473-8efdef8b8e87"
      },
      "source": [
        "G = np.array([\n",
        "    [1,1],\n",
        "    [2,2]\n",
        "])\n",
        "describe_mat(G)"
      ],
      "execution_count": 15,
      "outputs": [
        {
          "output_type": "stream",
          "name": "stdout",
          "text": [
            "matrix:\n",
            "[[1 1]\n",
            " [2 2]]\n",
            "\n",
            "Shape:\t(2, 2)\n",
            "Rank:\t2\n",
            "\n"
          ]
        }
      ]
    },
    {
      "cell_type": "code",
      "metadata": {
        "colab": {
          "base_uri": "https://localhost:8080/"
        },
        "id": "1C6PdNjnAjZI",
        "outputId": "da10753c-88e3-4255-f3ad-2fc0fde4d3c0"
      },
      "source": [
        "## Declaring a 3 x 2 matrix\n",
        "B = np.array([[\n",
        "              [1, 2],\n",
        "              [3, 1],\n",
        "              [5, 7]\n",
        "              ]])\n",
        "describe_mat(B)"
      ],
      "execution_count": 16,
      "outputs": [
        {
          "output_type": "stream",
          "name": "stdout",
          "text": [
            "matrix:\n",
            "[[[1 2]\n",
            "  [3 1]\n",
            "  [5 7]]]\n",
            "\n",
            "Shape:\t(1, 3, 2)\n",
            "Rank:\t3\n",
            "\n"
          ]
        }
      ]
    },
    {
      "cell_type": "code",
      "metadata": {
        "colab": {
          "base_uri": "https://localhost:8080/"
        },
        "id": "yhNFy5bBanSz",
        "outputId": "5423bf63-4997-4544-c23f-fceed41b9ae0"
      },
      "source": [
        "H = np.array([1,2,3,4,5])\n",
        "describe_mat(H)"
      ],
      "execution_count": 17,
      "outputs": [
        {
          "output_type": "stream",
          "name": "stdout",
          "text": [
            "matrix:\n",
            "[1 2 3 4 5]\n",
            "\n",
            "Shape:\t(5,)\n",
            "Rank:\t1\n",
            "\n"
          ]
        }
      ]
    },
    {
      "cell_type": "markdown",
      "metadata": {
        "id": "Zzs43v8mEEZv"
      },
      "source": [
        "##**Categorizing Matrices**\n",
        "\n",
        "There are several ways of classifying matrices. Once could be according to their **shape** and another is according to their **element values.** We'll try to go through them."
      ]
    },
    {
      "cell_type": "markdown",
      "metadata": {
        "id": "LRR0b6K3a0k5"
      },
      "source": [
        "###**According to Shape**\n"
      ]
    },
    {
      "cell_type": "markdown",
      "metadata": {
        "id": "nl7kMnl2cH-k"
      },
      "source": [
        "####**Row and Column Matrices**\n",
        "\n",
        "Row and column matrices are common in vector and matrix computations. They can also represent row and column spaces of a bigger vector space. Row and column matrices are represented by a single column or single row. So with that being, the shape of row matrices would be $1 \\times j$ and column matrices would be $i \\times 1$."
      ]
    },
    {
      "cell_type": "code",
      "metadata": {
        "colab": {
          "base_uri": "https://localhost:8080/"
        },
        "id": "Tv3C7iTSDUYn",
        "outputId": "ac22eab2-1ba0-4e7f-9efb-cd6aee2fb35a"
      },
      "source": [
        "## Declaring a Row Matrix\n",
        "\n",
        "row_mat_1D = np.array([1, 2, 3])\n",
        "  ## this is a 1-D Matrix with a shape of (3, ), it's not really considered as a row matrix\n",
        "\n",
        "row_mat_2D = np.array([[1, 2, 3]])\n",
        "  ## this is a 2-D Matrix with a shape of (1,3)\n",
        "\n",
        "describe_mat(row_mat_1D)\n",
        "describe_mat(row_mat_2D)"
      ],
      "execution_count": 18,
      "outputs": [
        {
          "output_type": "stream",
          "name": "stdout",
          "text": [
            "matrix:\n",
            "[1 2 3]\n",
            "\n",
            "Shape:\t(3,)\n",
            "Rank:\t1\n",
            "\n",
            "matrix:\n",
            "[[1 2 3]]\n",
            "\n",
            "Shape:\t(1, 3)\n",
            "Rank:\t2\n",
            "\n"
          ]
        }
      ]
    },
    {
      "cell_type": "code",
      "metadata": {
        "colab": {
          "base_uri": "https://localhost:8080/"
        },
        "id": "mkMhWITgFRa9",
        "outputId": "5142e6ae-03de-4851-c81b-2b9984759f0a"
      },
      "source": [
        "## Declaring a Column Matrix\n",
        "col_mat = np.array([\n",
        "                    [1],\n",
        "                    [2],\n",
        "                    [3]\n",
        "                  ])\n",
        "  ## this is a 2-D Matrix with a shape of (3,1)    \n",
        "describe_mat(col_mat)"
      ],
      "execution_count": null,
      "outputs": [
        {
          "output_type": "stream",
          "name": "stdout",
          "text": [
            "Matrix:\n",
            "[[1]\n",
            " [2]\n",
            " [3]]\n",
            "\n",
            "Shape:\t(3, 1)\n",
            "Rank:\t2\n",
            "\n"
          ]
        }
      ]
    },
    {
      "cell_type": "markdown",
      "metadata": {
        "id": "JwtLxEeAFtpA"
      },
      "source": [
        "####**Square Matrices**"
      ]
    },
    {
      "cell_type": "code",
      "metadata": {
        "id": "vmISkrLTFvh8"
      },
      "source": [
        "def describe_mat(matrix):\n",
        "  is_square = True if matrix.shape[0] == matrix.shape[1] else False\n",
        "  print(f'Matrix:\\n{matrix}\\n\\nShape:\\t{matrix.shape}\\nRank:\\t{matrix.ndim}\\nIs Square: {is_square}\\n')"
      ],
      "execution_count": null,
      "outputs": []
    },
    {
      "cell_type": "code",
      "metadata": {
        "colab": {
          "base_uri": "https://localhost:8080/"
        },
        "id": "elLRvKGnFhHu",
        "outputId": "82a770fd-4dc5-4ddd-9ea8-458e207c40d1"
      },
      "source": [
        "##Square Matrix\n",
        "square_mat = np.array([\n",
        "                       [1, 2, 5],\n",
        "                       [6, 2, 8],\n",
        "                       [9, 1, 4]\n",
        "])\n",
        "non_square_mat = np.array([\n",
        "                           [1, 2, 5],\n",
        "                           [3, 6, 2]\n",
        "])\n",
        "describe_mat(square_mat)\n",
        "describe_mat(non_square_mat)\n"
      ],
      "execution_count": null,
      "outputs": [
        {
          "output_type": "stream",
          "name": "stdout",
          "text": [
            "Matrix:\n",
            "[[1 2 5]\n",
            " [6 2 8]\n",
            " [9 1 4]]\n",
            "\n",
            "Shape:\t(3, 3)\n",
            "Rank:\t2\n",
            "Is Square: True\n",
            "\n",
            "Matrix:\n",
            "[[1 2 5]\n",
            " [3 6 2]]\n",
            "\n",
            "Shape:\t(2, 3)\n",
            "Rank:\t2\n",
            "Is Square: False\n",
            "\n"
          ]
        }
      ]
    },
    {
      "cell_type": "markdown",
      "metadata": {
        "id": "0nl5TA9JcXVk"
      },
      "source": [
        "###**According to Element Values**"
      ]
    },
    {
      "cell_type": "markdown",
      "metadata": {
        "id": "QLi5xXsmFQfo"
      },
      "source": [
        "####**Null Matrix**\n",
        "\n",
        "A Null Matrix is a matrix that has no elements. It is always a subspace of any vector or matrix."
      ]
    },
    {
      "cell_type": "code",
      "metadata": {
        "id": "eNuHYktfI-lp"
      },
      "source": [
        "def describe_mat(matrix):\n",
        "  if matrix.size > 0:\n",
        "    is_square = True if matrix.shape[0] == matrix.shape[1] else False\n",
        "    print(f'Matrix:\\n{matrix}\\n\\nShape:\\t{matrix.shape}\\nRank:\\t{matrix.ndim}\\nIs Square: {is_square}\\n')\n",
        "  else:\n",
        "    print('Matrix is Null')"
      ],
      "execution_count": null,
      "outputs": []
    },
    {
      "cell_type": "code",
      "metadata": {
        "colab": {
          "base_uri": "https://localhost:8080/"
        },
        "id": "JXAyOBzdJY1K",
        "outputId": "5e571518-0dab-48b5-be63-5c580980d993"
      },
      "source": [
        "null_mat = np.array([])\n",
        "describe_mat(null_mat)"
      ],
      "execution_count": null,
      "outputs": [
        {
          "output_type": "stream",
          "name": "stdout",
          "text": [
            "Matrix is Null\n"
          ]
        }
      ]
    },
    {
      "cell_type": "markdown",
      "metadata": {
        "id": "qa2L9LdkJejr"
      },
      "source": [
        "####**Zero Matrix**\n",
        "\n",
        "A zero matrix can be any rectangular matrix but with all elements having a value of 0."
      ]
    },
    {
      "cell_type": "code",
      "metadata": {
        "colab": {
          "base_uri": "https://localhost:8080/"
        },
        "id": "p7aTtguuJgDI",
        "outputId": "aeb6bc5b-c3d9-47ab-e65c-b6bfc8d5e19d"
      },
      "source": [
        "zero_mat_row = np.zeros((1, 2))\n",
        "zero_mat_sqr = np.zeros((2, 2))\n",
        "zero_mat_rct = np.zeros((3, 2))\n",
        "\n",
        "print(f'Zero Row Matrix: \\n{zero_mat_row}')\n",
        "print(f'Zero Square Matrix: \\n{zero_mat_sqr}')\n",
        "print(f'Zero Rectangular Matrix: \\n{zero_mat_rct}')"
      ],
      "execution_count": null,
      "outputs": [
        {
          "output_type": "stream",
          "name": "stdout",
          "text": [
            "Zero Row Matrix: \n",
            "[[0. 0.]]\n",
            "Zero Square Matrix: \n",
            "[[0. 0.]\n",
            " [0. 0.]]\n",
            "Zero Rectangular Matrix: \n",
            "[[0. 0.]\n",
            " [0. 0.]\n",
            " [0. 0.]]\n"
          ]
        }
      ]
    },
    {
      "cell_type": "markdown",
      "metadata": {
        "id": "QmefwWiIKN2k"
      },
      "source": [
        "####**Ones Matrix**\n",
        "\n",
        "A ones matrix, just like the zero matrix, can be any rectangular matrix but all of its elements are 1s instead of 0s."
      ]
    },
    {
      "cell_type": "code",
      "metadata": {
        "colab": {
          "base_uri": "https://localhost:8080/"
        },
        "id": "AKJI1mvCKPVr",
        "outputId": "f75b556e-0e88-42c2-cc6a-e41333def46c"
      },
      "source": [
        "one_mat_row = np.ones((1, 2))\n",
        "one_mat_sqr = np.ones((2, 2))\n",
        "one_mat_rct = np.ones((3, 2))\n",
        "\n",
        "print(f'One Row Matrix: \\n{one_mat_row}')\n",
        "print(f'One Square Matrix: \\n{one_mat_sqr}')\n",
        "print(f'One Rectangular Matrix: \\n{one_mat_rct}')"
      ],
      "execution_count": null,
      "outputs": [
        {
          "output_type": "stream",
          "name": "stdout",
          "text": [
            "One Row Matrix: \n",
            "[[1. 1.]]\n",
            "One Square Matrix: \n",
            "[[1. 1.]\n",
            " [1. 1.]]\n",
            "One Rectangular Matrix: \n",
            "[[1. 1.]\n",
            " [1. 1.]\n",
            " [1. 1.]]\n"
          ]
        }
      ]
    },
    {
      "cell_type": "markdown",
      "metadata": {
        "id": "J2J4kurjKpba"
      },
      "source": [
        "####**Diagonal Matrix**\n",
        "\n",
        "\n",
        "A diagonal matrix is a square matrix that has values only at the diagonal of the matrix."
      ]
    },
    {
      "cell_type": "code",
      "metadata": {
        "id": "pMQLH_-SKqxj",
        "colab": {
          "base_uri": "https://localhost:8080/"
        },
        "outputId": "68898b6e-edf9-4799-c09d-4c780b297315"
      },
      "source": [
        "np.array([\n",
        "          [2,0,0],\n",
        "          [0,3,0],\n",
        "          [0,0,5]\n",
        "])\n",
        "# a[1,1], a[2,2], a[3,3], ... a[n-1,n-1]"
      ],
      "execution_count": 20,
      "outputs": [
        {
          "output_type": "execute_result",
          "data": {
            "text/plain": [
              "array([[2, 0, 0],\n",
              "       [0, 3, 0],\n",
              "       [0, 0, 5]])"
            ]
          },
          "metadata": {},
          "execution_count": 20
        }
      ]
    },
    {
      "cell_type": "code",
      "metadata": {
        "colab": {
          "base_uri": "https://localhost:8080/"
        },
        "id": "wyLiQB6ndOgT",
        "outputId": "1a49915f-f61e-4d5a-c2c5-1529119cc9a4"
      },
      "source": [
        "d = np.diag([2,3,5,7])\n",
        "np.diag(d).shape == d.shape[0] == d.shape[1]"
      ],
      "execution_count": 22,
      "outputs": [
        {
          "output_type": "execute_result",
          "data": {
            "text/plain": [
              "False"
            ]
          },
          "metadata": {},
          "execution_count": 22
        }
      ]
    },
    {
      "cell_type": "code",
      "metadata": {
        "colab": {
          "base_uri": "https://localhost:8080/"
        },
        "id": "bOh51YIuK47v",
        "outputId": "38053fa5-7e4d-4408-909d-5145cbc04067"
      },
      "source": [
        "d = np.diag([2,3,5,7,9,11])\n",
        "d"
      ],
      "execution_count": 23,
      "outputs": [
        {
          "output_type": "execute_result",
          "data": {
            "text/plain": [
              "array([[ 2,  0,  0,  0,  0,  0],\n",
              "       [ 0,  3,  0,  0,  0,  0],\n",
              "       [ 0,  0,  5,  0,  0,  0],\n",
              "       [ 0,  0,  0,  7,  0,  0],\n",
              "       [ 0,  0,  0,  0,  9,  0],\n",
              "       [ 0,  0,  0,  0,  0, 11]])"
            ]
          },
          "metadata": {},
          "execution_count": 23
        }
      ]
    },
    {
      "cell_type": "markdown",
      "metadata": {
        "id": "PND1FkYLLTRf"
      },
      "source": [
        "####**Identity Matrix**\n",
        "\n",
        "An identity matrix is a special diagonal matrix in which the values at the diagonal are ones."
      ]
    },
    {
      "cell_type": "code",
      "metadata": {
        "colab": {
          "base_uri": "https://localhost:8080/"
        },
        "id": "L8L6ZDcdLU8w",
        "outputId": "8eb3f5c4-007b-4eed-daff-c72ce551d055"
      },
      "source": [
        "np.eye(5)\n"
      ],
      "execution_count": null,
      "outputs": [
        {
          "output_type": "execute_result",
          "data": {
            "text/plain": [
              "array([[1., 0., 0., 0., 0.],\n",
              "       [0., 1., 0., 0., 0.],\n",
              "       [0., 0., 1., 0., 0.],\n",
              "       [0., 0., 0., 1., 0.],\n",
              "       [0., 0., 0., 0., 1.]])"
            ]
          },
          "metadata": {},
          "execution_count": 40
        }
      ]
    },
    {
      "cell_type": "code",
      "metadata": {
        "colab": {
          "base_uri": "https://localhost:8080/"
        },
        "id": "qKnBin6pLZON",
        "outputId": "6036ca87-4d76-4c3e-ead6-5d2328730496"
      },
      "source": [
        "np.identity(5)"
      ],
      "execution_count": null,
      "outputs": [
        {
          "output_type": "execute_result",
          "data": {
            "text/plain": [
              "array([[1., 0., 0., 0., 0.],\n",
              "       [0., 1., 0., 0., 0.],\n",
              "       [0., 0., 1., 0., 0.],\n",
              "       [0., 0., 0., 1., 0.],\n",
              "       [0., 0., 0., 0., 1.]])"
            ]
          },
          "metadata": {},
          "execution_count": 41
        }
      ]
    },
    {
      "cell_type": "markdown",
      "metadata": {
        "id": "uBBN1Y3bd6k2"
      },
      "source": [
        "####**Upper Triangular Matrix**\n",
        "\n",
        "An upper triangular matrix is a matrix that has no values below the diagonal."
      ]
    },
    {
      "cell_type": "code",
      "metadata": {
        "colab": {
          "base_uri": "https://localhost:8080/"
        },
        "id": "M3Vh4cjHMd29",
        "outputId": "39bfa0f4-dc1f-4201-b26e-2e551ce86598"
      },
      "source": [
        "A=np.array([\n",
        "            [1,2,1],\n",
        "            [0,4,-1],\n",
        "            [0,0,10]\n",
        "])\n",
        "describe_mat(A)"
      ],
      "execution_count": 25,
      "outputs": [
        {
          "output_type": "stream",
          "name": "stdout",
          "text": [
            "matrix:\n",
            "[[ 1  2  1]\n",
            " [ 0  4 -1]\n",
            " [ 0  0 10]]\n",
            "\n",
            "Shape:\t(3, 3)\n",
            "Rank:\t2\n",
            "\n"
          ]
        }
      ]
    },
    {
      "cell_type": "markdown",
      "metadata": {
        "id": "DpSaiH1ueR5o"
      },
      "source": [
        "####**Lower Triangular Matrix**\n",
        "\n",
        "A lower triangular matrix is a matrix that has no values above the diagonal."
      ]
    },
    {
      "cell_type": "code",
      "metadata": {
        "colab": {
          "base_uri": "https://localhost:8080/"
        },
        "id": "Z6YbbvaVeWbx",
        "outputId": "5229a859-9df9-47d1-baf8-49fed536ea9d"
      },
      "source": [
        "B=np.array([\n",
        "    [1,0,0],\n",
        "    [5,3,0],\n",
        "    [7,8,5]\n",
        "])\n",
        "describe_mat(B)"
      ],
      "execution_count": 27,
      "outputs": [
        {
          "output_type": "stream",
          "name": "stdout",
          "text": [
            "matrix:\n",
            "[[1 0 0]\n",
            " [5 3 0]\n",
            " [7 8 5]]\n",
            "\n",
            "Shape:\t(3, 3)\n",
            "Rank:\t2\n",
            "\n"
          ]
        }
      ]
    },
    {
      "cell_type": "markdown",
      "metadata": {
        "id": "c1ahxp8meuPw"
      },
      "source": [
        "##"
      ]
    },
    {
      "cell_type": "markdown",
      "metadata": {
        "id": "btPv1r2jN4_Q"
      },
      "source": [
        "$$\n",
        "G = \\left\\{\n",
        "    \\begin{array}\\\n",
        "        x+7x_2+8x_3 \\\\ \n",
        "        2x +2x_2 +2x_3 \\\\\n",
        "        4x + 6x_2 +7x_3\n",
        "    \\end{array}\n",
        "\\right. \n",
        "$$"
      ]
    },
    {
      "cell_type": "markdown",
      "metadata": {
        "id": "pPLmj1dbPMt6"
      },
      "source": [
        "##**Practice**"
      ]
    },
    {
      "cell_type": "markdown",
      "metadata": {
        "id": "3d7eim0AfBV0"
      },
      "source": [
        "1.) Given the linear combination below, try to create a corresponding matrix representing it.\n",
        "\n",
        "$$\\theta = 5x + 3y - z$$\n"
      ]
    },
    {
      "cell_type": "code",
      "metadata": {
        "id": "sf4WGiRrSUBl",
        "colab": {
          "base_uri": "https://localhost:8080/"
        },
        "outputId": "0b53d107-01c4-43f8-8fab-99ab69ca3e1d"
      },
      "source": [
        "theta = np.array([\n",
        "        [5,3,-1]\n",
        "])\n",
        "describe_mat(theta)"
      ],
      "execution_count": 28,
      "outputs": [
        {
          "output_type": "stream",
          "name": "stdout",
          "text": [
            "matrix:\n",
            "[[ 5  3 -1]]\n",
            "\n",
            "Shape:\t(1, 3)\n",
            "Rank:\t2\n",
            "\n"
          ]
        }
      ]
    },
    {
      "cell_type": "markdown",
      "metadata": {
        "id": "_X7_hF37fUnp"
      },
      "source": [
        "2.) Given the system of linear combinations below, try to encode it as a matrix. Also describe the matrix.\n",
        "\n",
        "$$ A = \\left\\{\\begin{array} 5x_1 + 2x_2 +x_3\\\\ 4x_2 - x_3\\\\ 10x_3 \\end{array}\\right. $$"
      ]
    },
    {
      "cell_type": "markdown",
      "metadata": {
        "id": "-Td01-tMf2wt"
      },
      "source": [
        "3.) \n",
        "Given the matrix below, express it as a linear combination in a markdown.\n",
        "\n",
        "\n",
        "$$ G=\\begin{bmatrix} 1 & 7 & 8 \\\\ 2 & 2 & 2 \\\\ 4 & 6 & 7\\end{bmatrix} \\\\ $$"
      ]
    },
    {
      "cell_type": "markdown",
      "metadata": {
        "id": "Ow1RvxikgLNA"
      },
      "source": [
        "$$\n",
        "G = \\left\\{\n",
        "    \\begin{array}\\\n",
        "        x + 7x_2 + 8x_3 \\\\\n",
        "        2x + 2x_2 + 2x_3 \\\\\n",
        "        4x + 6x_2 + 7x_3\n",
        "    \\end{array}\n",
        "\\right. \\\\\n",
        "$$"
      ]
    },
    {
      "cell_type": "markdown",
      "metadata": {
        "id": "GH2SzMQ1gPqH"
      },
      "source": [
        "##**Matrix Algebra**\n"
      ]
    },
    {
      "cell_type": "markdown",
      "metadata": {
        "id": "S4D49606gb4a"
      },
      "source": [
        "####**Addition**"
      ]
    },
    {
      "cell_type": "code",
      "metadata": {
        "colab": {
          "base_uri": "https://localhost:8080/"
        },
        "id": "bPEgTcmLf95C",
        "outputId": "bd214f9d-caa1-49a3-e098-7ea3c980d58a"
      },
      "source": [
        "A = np.array([\n",
        "    [1,2],\n",
        "    [2,3],\n",
        "    [4,1]\n",
        "])\n",
        "B = np.array([\n",
        "    [2,2],\n",
        "    [0,0],\n",
        "    [1,1]\n",
        "])\n",
        "A+B"
      ],
      "execution_count": 29,
      "outputs": [
        {
          "output_type": "execute_result",
          "data": {
            "text/plain": [
              "array([[3, 4],\n",
              "       [2, 3],\n",
              "       [5, 2]])"
            ]
          },
          "metadata": {},
          "execution_count": 29
        }
      ]
    },
    {
      "cell_type": "code",
      "metadata": {
        "colab": {
          "base_uri": "https://localhost:8080/"
        },
        "id": "iHpC8apAfb3f",
        "outputId": "0b8ad510-9248-4f2e-bf55-f65ffdedca1d"
      },
      "source": [
        "\n",
        "2+A \n",
        "##Broadcasting\n",
        "# 2*np.ones(A.shape)+A"
      ],
      "execution_count": 30,
      "outputs": [
        {
          "output_type": "execute_result",
          "data": {
            "text/plain": [
              "array([[3, 4],\n",
              "       [4, 5],\n",
              "       [6, 3]])"
            ]
          },
          "metadata": {},
          "execution_count": 30
        }
      ]
    },
    {
      "cell_type": "markdown",
      "metadata": {
        "id": "QQBRLWTrgofm"
      },
      "source": [
        "####**Subtraction**"
      ]
    },
    {
      "cell_type": "code",
      "metadata": {
        "colab": {
          "base_uri": "https://localhost:8080/"
        },
        "id": "xHjtA793fkeF",
        "outputId": "d8425452-ca7c-4bcf-9a65-c776879c2122"
      },
      "source": [
        "A-B"
      ],
      "execution_count": 31,
      "outputs": [
        {
          "output_type": "execute_result",
          "data": {
            "text/plain": [
              "array([[-1,  0],\n",
              "       [ 2,  3],\n",
              "       [ 3,  0]])"
            ]
          },
          "metadata": {},
          "execution_count": 31
        }
      ]
    },
    {
      "cell_type": "code",
      "metadata": {
        "colab": {
          "base_uri": "https://localhost:8080/"
        },
        "id": "grLVzDBTgrtj",
        "outputId": "2a52f7e4-63db-4a5d-f2f4-06a612ea5ded"
      },
      "source": [
        "3-B == 3*np.ones(B.shape)-B"
      ],
      "execution_count": 32,
      "outputs": [
        {
          "output_type": "execute_result",
          "data": {
            "text/plain": [
              "array([[ True,  True],\n",
              "       [ True,  True],\n",
              "       [ True,  True]])"
            ]
          },
          "metadata": {},
          "execution_count": 32
        }
      ]
    },
    {
      "cell_type": "markdown",
      "metadata": {
        "id": "g0XdXl2Dgxi7"
      },
      "source": [
        "####**Element-Wise Multiplication**"
      ]
    },
    {
      "cell_type": "code",
      "metadata": {
        "colab": {
          "base_uri": "https://localhost:8080/"
        },
        "id": "yKFSAjicg2ax",
        "outputId": "775563e6-6de8-40cd-a569-f1c6b7593e18"
      },
      "source": [
        "A*B\n",
        "np.multiply(A,B)"
      ],
      "execution_count": 33,
      "outputs": [
        {
          "output_type": "execute_result",
          "data": {
            "text/plain": [
              "array([[2, 4],\n",
              "       [0, 0],\n",
              "       [4, 1]])"
            ]
          },
          "metadata": {},
          "execution_count": 33
        }
      ]
    },
    {
      "cell_type": "code",
      "metadata": {
        "colab": {
          "base_uri": "https://localhost:8080/"
        },
        "id": "gTyYn2APg4u4",
        "outputId": "4f55ebc2-f8ab-4d13-aa48-24840d989f22"
      },
      "source": [
        "2*A"
      ],
      "execution_count": 34,
      "outputs": [
        {
          "output_type": "execute_result",
          "data": {
            "text/plain": [
              "array([[2, 4],\n",
              "       [4, 6],\n",
              "       [8, 2]])"
            ]
          },
          "metadata": {},
          "execution_count": 34
        }
      ]
    },
    {
      "cell_type": "code",
      "metadata": {
        "id": "Mbo3zV3_g62f"
      },
      "source": [
        "## A@B\n"
      ],
      "execution_count": 36,
      "outputs": []
    },
    {
      "cell_type": "code",
      "metadata": {
        "colab": {
          "base_uri": "https://localhost:8080/"
        },
        "id": "z3s_tjgKhJ1E",
        "outputId": "5ee0e128-2bc2-4267-d7b7-7810ceeabebb"
      },
      "source": [
        "\n",
        "alpha=10**-10\n",
        "A/(alpha+B)"
      ],
      "execution_count": 37,
      "outputs": [
        {
          "output_type": "execute_result",
          "data": {
            "text/plain": [
              "array([[5.e-01, 1.e+00],\n",
              "       [2.e+10, 3.e+10],\n",
              "       [4.e+00, 1.e+00]])"
            ]
          },
          "metadata": {},
          "execution_count": 37
        }
      ]
    },
    {
      "cell_type": "code",
      "metadata": {
        "colab": {
          "base_uri": "https://localhost:8080/"
        },
        "id": "oCumc_O9hMj5",
        "outputId": "a7d57764-022f-4378-9474-9aeff61e79fb"
      },
      "source": [
        "np.add(A,B)"
      ],
      "execution_count": 38,
      "outputs": [
        {
          "output_type": "execute_result",
          "data": {
            "text/plain": [
              "array([[3, 4],\n",
              "       [2, 3],\n",
              "       [5, 2]])"
            ]
          },
          "metadata": {},
          "execution_count": 38
        }
      ]
    },
    {
      "cell_type": "markdown",
      "metadata": {
        "id": "XZO2h3q-hN0S"
      },
      "source": [
        "##**Activity**\n"
      ]
    },
    {
      "cell_type": "markdown",
      "metadata": {
        "id": "_bXF8K4LiTF3"
      },
      "source": [
        "###**Task 1**\n",
        "\n",
        "Create a function named mat_desc() that througouhly describes a matrix, it should:\n",
        "\n",
        "Displays the shape, size, and rank of the matrix.\n",
        "Displays whether the matrix is square or non-square.\n",
        "Displays whether the matrix is an empty matrix.\n",
        "Displays if the matrix is an identity, ones, or zeros matrix\n",
        "Use 5 sample matrices in which their shapes are not lower than $(3,3)$. In your methodology, create a flowchart discuss the functions and methods you have done. Present your results in the results section showing the description of each matrix you have declared."
      ]
    },
    {
      "cell_type": "markdown",
      "metadata": {
        "id": "QMh9rrMikK0J"
      },
      "source": [
        "####**Shape, Size and Rank of the Matrix**"
      ]
    },
    {
      "cell_type": "code",
      "metadata": {
        "id": "Qj-DPG2LiXNJ"
      },
      "source": [
        "def mat_desc(matrix):\n",
        "    print(f'Matrix:\\n{matrix}\\n\\nShape:\\t{matrix.shape}\\nRank:\\t{matrix.ndim}\\n')"
      ],
      "execution_count": 40,
      "outputs": []
    },
    {
      "cell_type": "code",
      "metadata": {
        "colab": {
          "base_uri": "https://localhost:8080/"
        },
        "id": "KU46eoBml2xM",
        "outputId": "e8a6d57e-ec5a-4ecf-ef97-43d7aa644048"
      },
      "source": [
        "T1 = np.array([\n",
        "      [6,9,4],\n",
        "      [2,0,6],\n",
        "      [6,6,2]\n",
        "])\n",
        "mat_desc(T1)"
      ],
      "execution_count": 42,
      "outputs": [
        {
          "output_type": "stream",
          "name": "stdout",
          "text": [
            "Matrix:\n",
            "[[6 9 4]\n",
            " [2 0 6]\n",
            " [6 6 2]]\n",
            "\n",
            "Shape:\t(3, 3)\n",
            "Rank:\t2\n",
            "\n"
          ]
        }
      ]
    },
    {
      "cell_type": "markdown",
      "metadata": {
        "id": "1HTnbG4Iqgqf"
      },
      "source": [
        "![image](https://drive.google.com/file/d/1oH2lL3ncX08orjOqUi7duRqeTMt8isFc/view?usp=sharing)"
      ]
    },
    {
      "cell_type": "markdown",
      "metadata": {
        "id": "FENt2Be-qsVH"
      },
      "source": [
        ""
      ]
    },
    {
      "cell_type": "code",
      "metadata": {
        "id": "U6F-hZ-8rcWQ"
      },
      "source": [
        ""
      ],
      "execution_count": null,
      "outputs": []
    }
  ]
}