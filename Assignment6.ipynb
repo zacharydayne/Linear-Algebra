{
  "nbformat": 4,
  "nbformat_minor": 0,
  "metadata": {
    "colab": {
      "name": "Assignment6.ipynb",
      "provenance": [],
      "toc_visible": true,
      "authorship_tag": "ABX9TyOhliaD3JhXem3BL31Ukhrd",
      "include_colab_link": true
    },
    "kernelspec": {
      "display_name": "Python 3",
      "name": "python3"
    },
    "language_info": {
      "name": "python"
    }
  },
  "cells": [
    {
      "cell_type": "markdown",
      "metadata": {
        "id": "view-in-github",
        "colab_type": "text"
      },
      "source": [
        "<a href=\"https://colab.research.google.com/github/zacharydayne/Linear-Algebra/blob/main/Assignment6.ipynb\" target=\"_parent\"><img src=\"https://colab.research.google.com/assets/colab-badge.svg\" alt=\"Open In Colab\"/></a>"
      ]
    },
    {
      "cell_type": "markdown",
      "metadata": {
        "id": "vyKKjeCmrHWD"
      },
      "source": [
        "#**Linear Algebra for ECE**"
      ]
    },
    {
      "cell_type": "markdown",
      "metadata": {
        "id": "GOlsiebnrK2B"
      },
      "source": [
        "##Laboratory 7: Matrix Operations"
      ]
    },
    {
      "cell_type": "markdown",
      "metadata": {
        "id": "HFSr8_1mEiGY"
      },
      "source": [
        "###Objectives\n",
        "\n",
        "At the end of this activity you will be able to:\n",
        "1. Be familiar with the fundamental matrix operations.\n",
        "2. Apply the operations to solve intermediate equations.\n",
        "3. Apply matrix algebra in engineering solutions."
      ]
    },
    {
      "cell_type": "markdown",
      "metadata": {
        "id": "O0TPVuc-HPht"
      },
      "source": [
        "##Discussion"
      ]
    },
    {
      "cell_type": "code",
      "metadata": {
        "id": "ngyn5Ve7EclG"
      },
      "source": [
        "import numpy as np\n",
        "import matplotlib.pyplot as plt\n",
        "%matplotlib inline"
      ],
      "execution_count": 60,
      "outputs": []
    },
    {
      "cell_type": "markdown",
      "metadata": {
        "id": "c47Gs2fhHL9A"
      },
      "source": [
        "##Transposition\n",
        "\n",
        "One of the fundamental operations in matrix algebra is Transposition. The transpose of a matrix is done by flipping the values of its elements over its diagonals. With this, the rows and columns from the original matrix will be switched. So for a matrix $A$ its transpose is denoted as $A^T$. So for example:"
      ]
    },
    {
      "cell_type": "markdown",
      "metadata": {
        "id": "0r3Ni-K4Hs8p"
      },
      "source": [
        "$$A = \\begin{bmatrix} 1 & 2 & 5\\\\5 & -1 &0 \\\\ 0 & -3 & 3\\end{bmatrix} $$"
      ]
    },
    {
      "cell_type": "markdown",
      "metadata": {
        "id": "9oh1HkqUHt8P"
      },
      "source": [
        "$$A^T = \\begin{bmatrix} 1 & 2 & 5\\\\5 & -1 &0 \\\\ 0 & -3 & 3\\end{bmatrix} $$"
      ]
    },
    {
      "cell_type": "markdown",
      "metadata": {
        "id": "fwBSNy1ysLrK"
      },
      "source": [
        "This can now be achieved programmatically by using `np.transpose()` or using the `T` method."
      ]
    },
    {
      "cell_type": "code",
      "metadata": {
        "colab": {
          "base_uri": "https://localhost:8080/"
        },
        "id": "oi2MKAiwG-Yz",
        "outputId": "f2f2fd18-125b-42f3-f843-cf485a619b20"
      },
      "source": [
        "A = np.array([\n",
        "              [1,2,5],\n",
        "              [4,3,7],\n",
        "              [8,2,0]\n",
        "])\n",
        "A"
      ],
      "execution_count": 17,
      "outputs": [
        {
          "output_type": "execute_result",
          "data": {
            "text/plain": [
              "array([[1, 2, 5],\n",
              "       [4, 3, 7],\n",
              "       [8, 2, 0]])"
            ]
          },
          "metadata": {},
          "execution_count": 17
        }
      ]
    },
    {
      "cell_type": "code",
      "metadata": {
        "colab": {
          "base_uri": "https://localhost:8080/"
        },
        "id": "RXTI1JXSIa5n",
        "outputId": "8b792ba7-64d1-40cf-c2fb-4b936167554a"
      },
      "source": [
        "AT1 = np.transpose(A)\n",
        "AT1"
      ],
      "execution_count": 18,
      "outputs": [
        {
          "output_type": "execute_result",
          "data": {
            "text/plain": [
              "array([[1, 4, 8],\n",
              "       [2, 3, 2],\n",
              "       [5, 7, 0]])"
            ]
          },
          "metadata": {},
          "execution_count": 18
        }
      ]
    },
    {
      "cell_type": "code",
      "metadata": {
        "colab": {
          "base_uri": "https://localhost:8080/"
        },
        "id": "pRY2KsXWIght",
        "outputId": "9b01ed88-df99-4158-9fe0-25a5f54ca1cf"
      },
      "source": [
        "AT2 = A.T\n",
        "AT2"
      ],
      "execution_count": 19,
      "outputs": [
        {
          "output_type": "execute_result",
          "data": {
            "text/plain": [
              "array([[1, 4, 8],\n",
              "       [2, 3, 2],\n",
              "       [5, 7, 0]])"
            ]
          },
          "metadata": {},
          "execution_count": 19
        }
      ]
    },
    {
      "cell_type": "code",
      "metadata": {
        "colab": {
          "base_uri": "https://localhost:8080/"
        },
        "id": "gFpw55jNImEh",
        "outputId": "ffe587db-078f-426e-b8f0-b07cb80f015d"
      },
      "source": [
        "np.array_equiv(AT1, AT2)\n"
      ],
      "execution_count": 20,
      "outputs": [
        {
          "output_type": "execute_result",
          "data": {
            "text/plain": [
              "True"
            ]
          },
          "metadata": {},
          "execution_count": 20
        }
      ]
    },
    {
      "cell_type": "code",
      "metadata": {
        "colab": {
          "base_uri": "https://localhost:8080/"
        },
        "id": "yWYWLU3jKxWa",
        "outputId": "1d25f2a4-3bf1-474e-9718-e18f7e4e48d3"
      },
      "source": [
        "B = np.array ([\n",
        "               [1,2,3,4],\n",
        "               [1,0,2,1]\n",
        "])\n",
        "B.shape"
      ],
      "execution_count": 21,
      "outputs": [
        {
          "output_type": "execute_result",
          "data": {
            "text/plain": [
              "(2, 4)"
            ]
          },
          "metadata": {},
          "execution_count": 21
        }
      ]
    },
    {
      "cell_type": "code",
      "metadata": {
        "colab": {
          "base_uri": "https://localhost:8080/"
        },
        "id": "bVR2DEX1K0sw",
        "outputId": "d275896c-d882-412d-cee6-4bbb9c932671"
      },
      "source": [
        "np.transpose(B).shape"
      ],
      "execution_count": 22,
      "outputs": [
        {
          "output_type": "execute_result",
          "data": {
            "text/plain": [
              "(4, 2)"
            ]
          },
          "metadata": {},
          "execution_count": 22
        }
      ]
    },
    {
      "cell_type": "code",
      "metadata": {
        "colab": {
          "base_uri": "https://localhost:8080/"
        },
        "id": "gM1iwWpALHx4",
        "outputId": "e7d856d1-eeed-4349-e593-95be5c62b293"
      },
      "source": [
        "B.T.shape"
      ],
      "execution_count": 23,
      "outputs": [
        {
          "output_type": "execute_result",
          "data": {
            "text/plain": [
              "(4, 2)"
            ]
          },
          "metadata": {},
          "execution_count": 23
        }
      ]
    },
    {
      "cell_type": "markdown",
      "metadata": {
        "id": "KsUGf6OBLSs-"
      },
      "source": [
        "###Try to create your own matrix(you can try non-squares) to test transposition\n"
      ]
    },
    {
      "cell_type": "code",
      "metadata": {
        "colab": {
          "base_uri": "https://localhost:8080/"
        },
        "id": "8RzIMH3tLXxR",
        "outputId": "c6ffb792-0dcc-411c-903b-8f67887b8e43"
      },
      "source": [
        "C = np.array ([\n",
        "               [1,4],\n",
        "               [5,4],\n",
        "               [9,3],\n",
        "               [1,3],\n",
        "               [5,9]\n",
        "])\n",
        "C.shape\n"
      ],
      "execution_count": 24,
      "outputs": [
        {
          "output_type": "execute_result",
          "data": {
            "text/plain": [
              "(5, 2)"
            ]
          },
          "metadata": {},
          "execution_count": 24
        }
      ]
    },
    {
      "cell_type": "code",
      "metadata": {
        "colab": {
          "base_uri": "https://localhost:8080/"
        },
        "id": "HV7K2P95Lzch",
        "outputId": "7fcf47d8-d8e6-439c-b25d-d26c977d436f"
      },
      "source": [
        "np.transpose(C).shape"
      ],
      "execution_count": 25,
      "outputs": [
        {
          "output_type": "execute_result",
          "data": {
            "text/plain": [
              "(2, 5)"
            ]
          },
          "metadata": {},
          "execution_count": 25
        }
      ]
    },
    {
      "cell_type": "code",
      "metadata": {
        "colab": {
          "base_uri": "https://localhost:8080/"
        },
        "id": "N9gGrejIL4lU",
        "outputId": "2501923c-021b-4f88-e015-b13d8900a10b"
      },
      "source": [
        "C.T.shape"
      ],
      "execution_count": 26,
      "outputs": [
        {
          "output_type": "execute_result",
          "data": {
            "text/plain": [
              "(2, 5)"
            ]
          },
          "metadata": {},
          "execution_count": 26
        }
      ]
    },
    {
      "cell_type": "code",
      "metadata": {
        "colab": {
          "base_uri": "https://localhost:8080/"
        },
        "id": "KviwlpRtjKlC",
        "outputId": "81c82453-a346-421d-e9f6-5618cb0245c4"
      },
      "source": [
        "CT = C.T\n",
        "CT"
      ],
      "execution_count": 32,
      "outputs": [
        {
          "output_type": "execute_result",
          "data": {
            "text/plain": [
              "array([[1, 5, 9, 1, 5],\n",
              "       [4, 4, 3, 3, 9]])"
            ]
          },
          "metadata": {},
          "execution_count": 32
        }
      ]
    },
    {
      "cell_type": "code",
      "metadata": {
        "id": "EoKWsjwUN80X"
      },
      "source": [
        "Z = np.array([\n",
        "              [1,2],\n",
        "              [3,4]\n",
        "])\n",
        "L = np.array([\n",
        "              [5,6],\n",
        "              [7,8]\n",
        "])\n"
      ],
      "execution_count": 27,
      "outputs": []
    },
    {
      "cell_type": "code",
      "metadata": {
        "colab": {
          "base_uri": "https://localhost:8080/"
        },
        "id": "uGe1mGYuOLS2",
        "outputId": "3e09c970-e0b8-487a-f919-fc3a390b1c7c"
      },
      "source": [
        "np.dot(Z,L)"
      ],
      "execution_count": 28,
      "outputs": [
        {
          "output_type": "execute_result",
          "data": {
            "text/plain": [
              "array([[19, 22],\n",
              "       [43, 50]])"
            ]
          },
          "metadata": {},
          "execution_count": 28
        }
      ]
    },
    {
      "cell_type": "code",
      "metadata": {
        "colab": {
          "base_uri": "https://localhost:8080/"
        },
        "id": "6AIIM6QzOOb8",
        "outputId": "baa3c847-0f4a-40bd-b7c0-a18c1622f17b"
      },
      "source": [
        "Z.dot(L)"
      ],
      "execution_count": 33,
      "outputs": [
        {
          "output_type": "execute_result",
          "data": {
            "text/plain": [
              "array([[19, 22],\n",
              "       [43, 50]])"
            ]
          },
          "metadata": {},
          "execution_count": 33
        }
      ]
    },
    {
      "cell_type": "code",
      "metadata": {
        "colab": {
          "base_uri": "https://localhost:8080/"
        },
        "id": "h6ngUhP4ORY7",
        "outputId": "c8070626-488f-4f94-f628-084e093cb736"
      },
      "source": [
        "Z@L"
      ],
      "execution_count": 34,
      "outputs": [
        {
          "output_type": "execute_result",
          "data": {
            "text/plain": [
              "array([[19, 22],\n",
              "       [43, 50]])"
            ]
          },
          "metadata": {},
          "execution_count": 34
        }
      ]
    },
    {
      "cell_type": "code",
      "metadata": {
        "colab": {
          "base_uri": "https://localhost:8080/"
        },
        "id": "skubutw6OSmf",
        "outputId": "e141571e-2a22-4b63-bb1c-c102fc3831d9"
      },
      "source": [
        "np.matmul(Z, L)"
      ],
      "execution_count": 35,
      "outputs": [
        {
          "output_type": "execute_result",
          "data": {
            "text/plain": [
              "array([[19, 22],\n",
              "       [43, 50]])"
            ]
          },
          "metadata": {},
          "execution_count": 35
        }
      ]
    },
    {
      "cell_type": "markdown",
      "metadata": {
        "id": "xt5zz6IisP9_"
      },
      "source": [
        "## Dot Product / Inner Product"
      ]
    },
    {
      "cell_type": "markdown",
      "metadata": {
        "id": "hcJmbCiVsYGj"
      },
      "source": [
        "If you recall the dot product from laboratory activity before, we will try to implement the same operation with matrices. In matrix dot product we are going to get the sum of products of the vectors by row-column pairs. So if we have two matrices $X$ and $Y$:\n",
        "\n",
        "$$X = \\begin{bmatrix}x_{(0,0)}&x_{(0,1)}\\\\ x_{(1,0)}&x_{(1,1)}\\end{bmatrix}, Y = \\begin{bmatrix}y_{(0,0)}&y_{(0,1)}\\\\ y_{(1,0)}&y_{(1,1)}\\end{bmatrix}$$\n",
        "\n",
        "The dot product will then be computed as:\n",
        "$$X \\cdot Y= \\begin{bmatrix} x_{(0,0)}*y_{(0,0)} + x_{(0,1)}*y_{(1,0)} & x_{(0,0)}*y_{(0,1)} + x_{(0,1)}*y_{(1,1)} \\\\  x_{(1,0)}*y_{(0,0)} + x_{(1,1)}*y_{(1,0)} & x_{(1,0)}*y_{(0,1)} + x_{(1,1)}*y_{(1,1)}\n",
        "\\end{bmatrix}$$\n",
        "\n",
        "So if we assign values to $X$ and $Y$:\n",
        "$$X = \\begin{bmatrix}1&2\\\\ 0&1\\end{bmatrix}, Y = \\begin{bmatrix}-1&0\\\\ 2&2\\end{bmatrix}$$"
      ]
    },
    {
      "cell_type": "markdown",
      "metadata": {
        "id": "7AkIkqOpshva"
      },
      "source": [
        "$$X \\cdot Y= \\begin{bmatrix} 1*-1 + 2*2 & 1*0 + 2*2 \\\\  0*-1 + 1*2 & 0*0 + 1*2 \\end{bmatrix} = \\begin{bmatrix} 3 & 4 \\\\2 & 2 \\end{bmatrix}$$\n",
        "This could be achieved programmatically using `np.dot()`, `np.matmul()` or the `@` operator."
      ]
    },
    {
      "cell_type": "code",
      "metadata": {
        "id": "Ekk-gSDjsi26"
      },
      "source": [
        "X = np.array([\n",
        "    [1,2],\n",
        "    [0,1]\n",
        "])\n",
        "Y = np.array([\n",
        "    [-1,0],\n",
        "    [2,2]\n",
        "])"
      ],
      "execution_count": 36,
      "outputs": []
    },
    {
      "cell_type": "code",
      "metadata": {
        "colab": {
          "base_uri": "https://localhost:8080/"
        },
        "id": "JmWYE4h_suZU",
        "outputId": "773bef5b-a718-43b3-b8fd-91f8ea921c1a"
      },
      "source": [
        "np.array_equiv(X, Y)"
      ],
      "execution_count": 37,
      "outputs": [
        {
          "output_type": "execute_result",
          "data": {
            "text/plain": [
              "False"
            ]
          },
          "metadata": {},
          "execution_count": 37
        }
      ]
    },
    {
      "cell_type": "code",
      "metadata": {
        "colab": {
          "base_uri": "https://localhost:8080/"
        },
        "id": "2D1v8Zipsw9H",
        "outputId": "2761e9ea-e6a3-4136-80ff-c6cd22654b9d"
      },
      "source": [
        "np.dot(X,Y)"
      ],
      "execution_count": 38,
      "outputs": [
        {
          "output_type": "execute_result",
          "data": {
            "text/plain": [
              "array([[3, 4],\n",
              "       [2, 2]])"
            ]
          },
          "metadata": {},
          "execution_count": 38
        }
      ]
    },
    {
      "cell_type": "code",
      "metadata": {
        "colab": {
          "base_uri": "https://localhost:8080/"
        },
        "id": "xCZGUIkrsxPQ",
        "outputId": "b19cf0d4-2701-4568-9778-40dab4c63114"
      },
      "source": [
        "X.dot(Y)"
      ],
      "execution_count": 39,
      "outputs": [
        {
          "output_type": "execute_result",
          "data": {
            "text/plain": [
              "array([[3, 4],\n",
              "       [2, 2]])"
            ]
          },
          "metadata": {},
          "execution_count": 39
        }
      ]
    },
    {
      "cell_type": "code",
      "metadata": {
        "id": "vEPbwgTGszs0",
        "colab": {
          "base_uri": "https://localhost:8080/"
        },
        "outputId": "e0a22cec-c51d-46e2-bf14-300c35f56685"
      },
      "source": [
        "X @ Y"
      ],
      "execution_count": 40,
      "outputs": [
        {
          "output_type": "execute_result",
          "data": {
            "text/plain": [
              "array([[3, 4],\n",
              "       [2, 2]])"
            ]
          },
          "metadata": {},
          "execution_count": 40
        }
      ]
    },
    {
      "cell_type": "code",
      "metadata": {
        "colab": {
          "base_uri": "https://localhost:8080/"
        },
        "id": "objuTLvns0tQ",
        "outputId": "34e7142d-8afb-4173-b664-1f6192fb6b82"
      },
      "source": [
        "np.matmul(X,Y)"
      ],
      "execution_count": 41,
      "outputs": [
        {
          "output_type": "execute_result",
          "data": {
            "text/plain": [
              "array([[3, 4],\n",
              "       [2, 2]])"
            ]
          },
          "metadata": {},
          "execution_count": 41
        }
      ]
    },
    {
      "cell_type": "code",
      "metadata": {
        "id": "Cm0dxGY1s2P5"
      },
      "source": [
        "D = np.array([\n",
        "    [3,2,2],\n",
        "    [3,1,3],\n",
        "    [5,3,2]\n",
        "])\n",
        "E = np.array([\n",
        "    [-2,0,5],\n",
        "    [2,4,6],\n",
        "    [7,4,3]\n",
        "])"
      ],
      "execution_count": 42,
      "outputs": []
    },
    {
      "cell_type": "code",
      "metadata": {
        "colab": {
          "base_uri": "https://localhost:8080/"
        },
        "id": "3fg82ABrs21_",
        "outputId": "00c2e567-3fc9-491f-f285-053488387632"
      },
      "source": [
        "D @ E"
      ],
      "execution_count": 43,
      "outputs": [
        {
          "output_type": "execute_result",
          "data": {
            "text/plain": [
              "array([[12, 16, 33],\n",
              "       [17, 16, 30],\n",
              "       [10, 20, 49]])"
            ]
          },
          "metadata": {},
          "execution_count": 43
        }
      ]
    },
    {
      "cell_type": "code",
      "metadata": {
        "colab": {
          "base_uri": "https://localhost:8080/"
        },
        "id": "j2dlA363s3-p",
        "outputId": "e91ee3bd-6efa-4741-99bd-1ebbc6edb82a"
      },
      "source": [
        "D.dot(E)"
      ],
      "execution_count": 44,
      "outputs": [
        {
          "output_type": "execute_result",
          "data": {
            "text/plain": [
              "array([[12, 16, 33],\n",
              "       [17, 16, 30],\n",
              "       [10, 20, 49]])"
            ]
          },
          "metadata": {},
          "execution_count": 44
        }
      ]
    },
    {
      "cell_type": "code",
      "metadata": {
        "colab": {
          "base_uri": "https://localhost:8080/"
        },
        "id": "KVxD0opYs6B6",
        "outputId": "9ffa997a-755f-447d-bd88-0c127360a9f7"
      },
      "source": [
        "np.matmul(D, E)"
      ],
      "execution_count": 45,
      "outputs": [
        {
          "output_type": "execute_result",
          "data": {
            "text/plain": [
              "array([[12, 16, 33],\n",
              "       [17, 16, 30],\n",
              "       [10, 20, 49]])"
            ]
          },
          "metadata": {},
          "execution_count": 45
        }
      ]
    },
    {
      "cell_type": "code",
      "metadata": {
        "colab": {
          "base_uri": "https://localhost:8080/"
        },
        "id": "npGbyODys7Fb",
        "outputId": "db267226-0db6-4f44-efe6-e1fffe8f6f02"
      },
      "source": [
        "np.dot(D, E)"
      ],
      "execution_count": 46,
      "outputs": [
        {
          "output_type": "execute_result",
          "data": {
            "text/plain": [
              "array([[12, 16, 33],\n",
              "       [17, 16, 30],\n",
              "       [10, 20, 49]])"
            ]
          },
          "metadata": {},
          "execution_count": 46
        }
      ]
    },
    {
      "cell_type": "markdown",
      "metadata": {
        "id": "DNFBtIidtkhV"
      },
      "source": [
        "In matrix dot products there are additional rules compared with vector dot products. Since vector dot products were just in one dimension there are less restrictions. Since now we are dealing with Rank 2 vectors we need to consider some rules:\n",
        "\n",
        "### Rule 1: The inner dimensions of the two matrices in question must be the same. \n",
        "\n",
        "So given a matrix $A$ with a shape of $(a,b)$ where $a$ and $b$ are any integers. If we want to do a dot product between $A$ and another matrix $B$, then matrix $B$ should have a shape of $(b,c)$ where $b$ and $c$ are any integers. So for given the following matrices:\n",
        "\n",
        "$$A = \\begin{bmatrix}2&4\\\\5&-2\\\\0&1\\end{bmatrix}, B = \\begin{bmatrix}1&1\\\\3&3\\\\-1&-2\\end{bmatrix}, C = \\begin{bmatrix}0&1&1\\\\1&1&2\\end{bmatrix}$$\n",
        "\n",
        "So in this case $A$ has a shape of $(3,2)$, $B$ has a shape of $(3,2)$ and $C$ has a shape of $(2,3)$. So the only matrix pairs that is eligible to perform dot product is matrices $A \\cdot C$, or $B \\cdot C$.  \n"
      ]
    },
    {
      "cell_type": "code",
      "metadata": {
        "colab": {
          "base_uri": "https://localhost:8080/"
        },
        "id": "OFJtQKLKGtWC",
        "outputId": "8c83f767-515f-42dc-fb82-74bc54ca8d4e"
      },
      "source": [
        "A = np.array([\n",
        "    [2,4],\n",
        "    [5,-2],\n",
        "    [0,1]\n",
        "])\n",
        "B = np.array([\n",
        "    [1,1],\n",
        "    [3,3],\n",
        "    [-1,-2]\n",
        "])\n",
        "C = np.array([\n",
        "    [0,1,1],\n",
        "    [1,1,2]\n",
        "])\n",
        "print(A.shape)\n",
        "print(B.shape)\n",
        "print(A.shape)"
      ],
      "execution_count": 100,
      "outputs": [
        {
          "output_type": "stream",
          "name": "stdout",
          "text": [
            "(3, 2)\n",
            "(3, 2)\n",
            "(3, 2)\n"
          ]
        }
      ]
    },
    {
      "cell_type": "code",
      "metadata": {
        "colab": {
          "base_uri": "https://localhost:8080/"
        },
        "id": "wG6Sa4ZWGt54",
        "outputId": "bdfc8d37-a486-4342-8bfa-e5d5cb11f8a1"
      },
      "source": [
        "A @ C"
      ],
      "execution_count": 101,
      "outputs": [
        {
          "output_type": "execute_result",
          "data": {
            "text/plain": [
              "array([[ 4,  6, 10],\n",
              "       [-2,  3,  1],\n",
              "       [ 1,  1,  2]])"
            ]
          },
          "metadata": {},
          "execution_count": 101
        }
      ]
    },
    {
      "cell_type": "code",
      "metadata": {
        "colab": {
          "base_uri": "https://localhost:8080/"
        },
        "id": "EEcZmAc2GxsX",
        "outputId": "aced42ec-4a53-4624-ffe4-547e43ea8264"
      },
      "source": [
        "B @ C"
      ],
      "execution_count": 102,
      "outputs": [
        {
          "output_type": "execute_result",
          "data": {
            "text/plain": [
              "array([[ 1,  2,  3],\n",
              "       [ 3,  6,  9],\n",
              "       [-2, -3, -5]])"
            ]
          },
          "metadata": {},
          "execution_count": 102
        }
      ]
    },
    {
      "cell_type": "markdown",
      "metadata": {
        "id": "zAHi_lCvG2WK"
      },
      "source": [
        "If you would notice the shape of the dot product changed and its shape is not the same as any of the matrices we used. The shape of a dot product is actually derived from the shapes of the matrices used. So recall matrix $A$ with a shape of $(a,b)$ and matrix $B$ with a shape of $(b,c)$, $A \\cdot B$ should have a shape $(a,c)$."
      ]
    },
    {
      "cell_type": "code",
      "metadata": {
        "colab": {
          "base_uri": "https://localhost:8080/"
        },
        "id": "nxDueQ0-Gyyp",
        "outputId": "b2737bcb-0723-4f4b-834a-8d1a88ade264"
      },
      "source": [
        "A @ B.T"
      ],
      "execution_count": 103,
      "outputs": [
        {
          "output_type": "execute_result",
          "data": {
            "text/plain": [
              "array([[  6,  18, -10],\n",
              "       [  3,   9,  -1],\n",
              "       [  1,   3,  -2]])"
            ]
          },
          "metadata": {},
          "execution_count": 103
        }
      ]
    },
    {
      "cell_type": "code",
      "metadata": {
        "colab": {
          "base_uri": "https://localhost:8080/"
        },
        "id": "cACkmWoTG3m7",
        "outputId": "f0eb5431-c067-4be7-88a6-c6f4af42b27a"
      },
      "source": [
        "X = np.array([\n",
        "    [1,2,3,0]\n",
        "])\n",
        "Y = np.array([\n",
        "    [1,0,4,-1]\n",
        "])\n",
        "print(X.shape)\n",
        "print(Y.shape)"
      ],
      "execution_count": 104,
      "outputs": [
        {
          "output_type": "stream",
          "name": "stdout",
          "text": [
            "(1, 4)\n",
            "(1, 4)\n"
          ]
        }
      ]
    },
    {
      "cell_type": "code",
      "metadata": {
        "colab": {
          "base_uri": "https://localhost:8080/"
        },
        "id": "p2LbfV28G5wN",
        "outputId": "26597947-49b8-4880-adf1-5c85ca0039d3"
      },
      "source": [
        "Y.T @ X"
      ],
      "execution_count": 105,
      "outputs": [
        {
          "output_type": "execute_result",
          "data": {
            "text/plain": [
              "array([[ 1,  2,  3,  0],\n",
              "       [ 0,  0,  0,  0],\n",
              "       [ 4,  8, 12,  0],\n",
              "       [-1, -2, -3,  0]])"
            ]
          },
          "metadata": {},
          "execution_count": 105
        }
      ]
    },
    {
      "cell_type": "code",
      "metadata": {
        "colab": {
          "base_uri": "https://localhost:8080/"
        },
        "id": "BVmLoykBG7O7",
        "outputId": "ab1902bf-5e9d-4c21-9e55-0f0d6a958cee"
      },
      "source": [
        "X @ Y.T"
      ],
      "execution_count": 106,
      "outputs": [
        {
          "output_type": "execute_result",
          "data": {
            "text/plain": [
              "array([[13]])"
            ]
          },
          "metadata": {},
          "execution_count": 106
        }
      ]
    },
    {
      "cell_type": "markdown",
      "metadata": {
        "id": "DG3fUDU96qI7"
      },
      "source": [
        "### Rule 2: Dot Product has special properties\n",
        "\n",
        "Dot products are prevalent in matrix algebra, this implies that it has several unique properties and it should be considered when formulation solutions:\n",
        " 1. $A \\cdot B \\neq B \\cdot A$\n",
        " 2. $A \\cdot (B \\cdot C) = (A \\cdot B) \\cdot C$\n",
        " 3. $A\\cdot(B+C) = A\\cdot B + A\\cdot C$\n",
        " 4. $(B+C)\\cdot A = B\\cdot A + C\\cdot A$\n",
        " 5. $A\\cdot I = A$\n",
        " 6. $A\\cdot \\emptyset = \\emptyset$ "
      ]
    },
    {
      "cell_type": "code",
      "metadata": {
        "id": "QclFx-hYtlOW"
      },
      "source": [
        "A = np.array([\n",
        "    [3,2,1],\n",
        "    [4,5,1],\n",
        "    [1,1,1]\n",
        "])\n",
        "B = np.array([\n",
        "    [4,1,6],\n",
        "    [4,1,9],\n",
        "    [1,4,8]\n",
        "])\n",
        "C = np.array([\n",
        "    [1,1,0],\n",
        "    [0,1,1],\n",
        "    [1,0,1]\n",
        "])"
      ],
      "execution_count": 47,
      "outputs": []
    },
    {
      "cell_type": "code",
      "metadata": {
        "id": "N_AX34it7QEo",
        "colab": {
          "base_uri": "https://localhost:8080/"
        },
        "outputId": "90bee5b2-6eab-47b0-848d-3be421f1c632"
      },
      "source": [
        "np.eye(3)"
      ],
      "execution_count": 48,
      "outputs": [
        {
          "output_type": "execute_result",
          "data": {
            "text/plain": [
              "array([[1., 0., 0.],\n",
              "       [0., 1., 0.],\n",
              "       [0., 0., 1.]])"
            ]
          },
          "metadata": {},
          "execution_count": 48
        }
      ]
    },
    {
      "cell_type": "code",
      "metadata": {
        "id": "0AE_hTuR6rJR",
        "colab": {
          "base_uri": "https://localhost:8080/"
        },
        "outputId": "03ff9d55-95f2-446e-9df1-099fcf239147"
      },
      "source": [
        "A.dot(np.eye(3))"
      ],
      "execution_count": 49,
      "outputs": [
        {
          "output_type": "execute_result",
          "data": {
            "text/plain": [
              "array([[3., 2., 1.],\n",
              "       [4., 5., 1.],\n",
              "       [1., 1., 1.]])"
            ]
          },
          "metadata": {},
          "execution_count": 49
        }
      ]
    },
    {
      "cell_type": "code",
      "metadata": {
        "id": "CdGqP8oT7Ucw"
      },
      "source": [
        "np.array_equal(A@B, B@A)"
      ],
      "execution_count": null,
      "outputs": []
    },
    {
      "cell_type": "code",
      "metadata": {
        "id": "XawtzxF37U_0",
        "colab": {
          "base_uri": "https://localhost:8080/"
        },
        "outputId": "0e6fbc42-2e07-4b4b-f933-6f42db7d2d18"
      },
      "source": [
        "E = A @ (B @ C)\n",
        "E"
      ],
      "execution_count": 51,
      "outputs": [
        {
          "output_type": "execute_result",
          "data": {
            "text/plain": [
              "array([[ 65,  30,  53],\n",
              "       [114,  50,  90],\n",
              "       [ 32,  15,  29]])"
            ]
          },
          "metadata": {},
          "execution_count": 51
        }
      ]
    },
    {
      "cell_type": "code",
      "metadata": {
        "id": "4jXj1pg47U9d",
        "colab": {
          "base_uri": "https://localhost:8080/"
        },
        "outputId": "a46f84f3-78b0-4e3a-9c06-cd03f0eda206"
      },
      "source": [
        "F = (A @ B) @ C\n",
        "F"
      ],
      "execution_count": 52,
      "outputs": [
        {
          "output_type": "execute_result",
          "data": {
            "text/plain": [
              "array([[ 65,  30,  53],\n",
              "       [114,  50,  90],\n",
              "       [ 32,  15,  29]])"
            ]
          },
          "metadata": {},
          "execution_count": 52
        }
      ]
    },
    {
      "cell_type": "code",
      "metadata": {
        "id": "iIPaGUtK7U6Z",
        "colab": {
          "base_uri": "https://localhost:8080/"
        },
        "outputId": "4d6ad40c-bcad-444c-ce5b-26be25ae127f"
      },
      "source": [
        "np.array_equal(E, X)"
      ],
      "execution_count": 53,
      "outputs": [
        {
          "output_type": "execute_result",
          "data": {
            "text/plain": [
              "False"
            ]
          },
          "metadata": {},
          "execution_count": 53
        }
      ]
    },
    {
      "cell_type": "code",
      "metadata": {
        "id": "BypEVHm97U1R",
        "colab": {
          "base_uri": "https://localhost:8080/"
        },
        "outputId": "a6295052-9d78-4281-9ba1-b2c880e934ed"
      },
      "source": [
        "np.array_equiv(E, F)"
      ],
      "execution_count": 54,
      "outputs": [
        {
          "output_type": "execute_result",
          "data": {
            "text/plain": [
              "True"
            ]
          },
          "metadata": {},
          "execution_count": 54
        }
      ]
    },
    {
      "cell_type": "code",
      "metadata": {
        "colab": {
          "base_uri": "https://localhost:8080/"
        },
        "id": "tZfVLkw3kxLH",
        "outputId": "539917c5-23cb-48e0-d222-9f3d93c717cc"
      },
      "source": [
        "A @ E"
      ],
      "execution_count": 65,
      "outputs": [
        {
          "output_type": "execute_result",
          "data": {
            "text/plain": [
              "array([[455, 205, 368],\n",
              "       [862, 385, 691],\n",
              "       [211,  95, 172]])"
            ]
          },
          "metadata": {},
          "execution_count": 65
        }
      ]
    },
    {
      "cell_type": "code",
      "metadata": {
        "colab": {
          "base_uri": "https://localhost:8080/"
        },
        "id": "_1_62gzSkzrx",
        "outputId": "14073cd3-df2c-46d7-9996-614df85e441c"
      },
      "source": [
        "z_mat = np.zeros(A.shape)\n",
        "z_mat"
      ],
      "execution_count": 66,
      "outputs": [
        {
          "output_type": "execute_result",
          "data": {
            "text/plain": [
              "array([[0., 0., 0.],\n",
              "       [0., 0., 0.],\n",
              "       [0., 0., 0.]])"
            ]
          },
          "metadata": {},
          "execution_count": 66
        }
      ]
    },
    {
      "cell_type": "code",
      "metadata": {
        "colab": {
          "base_uri": "https://localhost:8080/"
        },
        "id": "BQ2HQzySk1Tc",
        "outputId": "9e924bb7-a2a9-434c-cad7-13b7a5d7d1d3"
      },
      "source": [
        "a_dot_z = A.dot(np.zeros(A.shape))\n",
        "a_dot_z"
      ],
      "execution_count": 67,
      "outputs": [
        {
          "output_type": "execute_result",
          "data": {
            "text/plain": [
              "array([[0., 0., 0.],\n",
              "       [0., 0., 0.],\n",
              "       [0., 0., 0.]])"
            ]
          },
          "metadata": {},
          "execution_count": 67
        }
      ]
    },
    {
      "cell_type": "code",
      "metadata": {
        "colab": {
          "base_uri": "https://localhost:8080/"
        },
        "id": "AkF2JQQEk3eH",
        "outputId": "d76a0130-3b5f-4b9e-8c03-9686268e98d4"
      },
      "source": [
        "np.array_equal(a_dot_z,z_mat)"
      ],
      "execution_count": 68,
      "outputs": [
        {
          "output_type": "execute_result",
          "data": {
            "text/plain": [
              "True"
            ]
          },
          "metadata": {},
          "execution_count": 68
        }
      ]
    },
    {
      "cell_type": "code",
      "metadata": {
        "colab": {
          "base_uri": "https://localhost:8080/"
        },
        "id": "I46rdKeFk5R3",
        "outputId": "91f3355e-f921-47b2-914e-770597016246"
      },
      "source": [
        "null_mat = np.empty(A.shape, dtype=float)\n",
        "null = np.array(null_mat,dtype=float)\n",
        "print(null)\n",
        "np.allclose(a_dot_z,null)"
      ],
      "execution_count": 69,
      "outputs": [
        {
          "output_type": "stream",
          "name": "stdout",
          "text": [
            "[[0. 0. 0.]\n",
            " [0. 0. 0.]\n",
            " [0. 0. 0.]]\n"
          ]
        },
        {
          "output_type": "execute_result",
          "data": {
            "text/plain": [
              "True"
            ]
          },
          "metadata": {},
          "execution_count": 69
        }
      ]
    },
    {
      "cell_type": "markdown",
      "metadata": {
        "id": "rLvG2IlqlC1z"
      },
      "source": [
        "##Determinant"
      ]
    },
    {
      "cell_type": "markdown",
      "metadata": {
        "id": "My-Pqnljk9iE"
      },
      "source": [
        "A determinant is a scalar value derived from a square matrix. The determinant is a fundamental and important value used in matrix algebra. Although it will not be evident in this laboratory on how it can be used practically, but it will be reatly used in future lessons.\n",
        "\n",
        "The determinant of some matrix $A$ is denoted as $det(A)$ or $|A|$. So let's say $A$ is represented as:\n",
        "$$A = \\begin{bmatrix}a_{(0,0)}&a_{(0,1)}\\\\a_{(1,0)}&a_{(1,1)}\\end{bmatrix}$$\n",
        "We can compute for the determinant as:\n",
        "$$|A| = a_{(0,0)}*a_{(1,1)} - a_{(1,0)}*a_{(0,1)}$$\n",
        "So if we have $A$ as:\n",
        "$$A = \\begin{bmatrix}1&4\\\\0&3\\end{bmatrix}, |A| = 3$$\n",
        "\n",
        "But you might wonder how about square matrices beyond the shape $(2,2)$? We can approach this problem by using several methods such as co-factor expansion and the minors method. This can be taught in the lecture of the laboratory but we can achieve the strenuous computation of high-dimensional matrices programmatically using Python. We can achieve this by using `np.linalg.det()`."
      ]
    },
    {
      "cell_type": "code",
      "metadata": {
        "colab": {
          "base_uri": "https://localhost:8080/"
        },
        "id": "1uwieX2qk-a8",
        "outputId": "fffc6665-9d4d-463d-f151-6332a6dae153"
      },
      "source": [
        "A = np.array([\n",
        "    [1,4],\n",
        "    [0,3]\n",
        "])\n",
        "np.linalg.det(A)"
      ],
      "execution_count": 70,
      "outputs": [
        {
          "output_type": "execute_result",
          "data": {
            "text/plain": [
              "3.0000000000000004"
            ]
          },
          "metadata": {},
          "execution_count": 70
        }
      ]
    },
    {
      "cell_type": "code",
      "metadata": {
        "colab": {
          "base_uri": "https://localhost:8080/"
        },
        "id": "Lx6EfKF2pjMm",
        "outputId": "5e5c8992-3204-4d7a-a2fd-c37ef42ebd58"
      },
      "source": [
        "B = np.array([\n",
        "    [1,5,2],\n",
        "    [3,-1,-1],\n",
        "    [0,-2,1]\n",
        "])\n",
        "np.linalg.det(B)"
      ],
      "execution_count": 71,
      "outputs": [
        {
          "output_type": "execute_result",
          "data": {
            "text/plain": [
              "-30.000000000000014"
            ]
          },
          "metadata": {},
          "execution_count": 71
        }
      ]
    },
    {
      "cell_type": "code",
      "metadata": {
        "colab": {
          "base_uri": "https://localhost:8080/"
        },
        "id": "Ws76nfn5pj7u",
        "outputId": "93e1f8ce-20ce-4041-dd7a-aee491d15c3b"
      },
      "source": [
        "## Now other mathematics classes would require you to solve this by hand, \n",
        "## and that is great for practicing your memorization and coordination skills \n",
        "## but in this class we aim for simplicity and speed so we'll use programming\n",
        "## but it's completely fine if you want to try to solve this one by hand.\n",
        "C = np.array([\n",
        "    [1,3,5,6],\n",
        "    [0,3,1,3],\n",
        "    [3,1,8,2],\n",
        "    [5,2,6,8]\n",
        "])\n",
        "np.linalg.det(C)"
      ],
      "execution_count": 72,
      "outputs": [
        {
          "output_type": "execute_result",
          "data": {
            "text/plain": [
              "-235.0000000000002"
            ]
          },
          "metadata": {},
          "execution_count": 72
        }
      ]
    },
    {
      "cell_type": "markdown",
      "metadata": {
        "id": "voOQbzk3-FAp"
      },
      "source": [
        "##Inverse"
      ]
    },
    {
      "cell_type": "markdown",
      "metadata": {
        "id": "WyfV_NUXpqPz"
      },
      "source": [
        "The inverse of a matrix is another fundamental operation in matrix algebra. Determining the inverse of a matrix let us determine if its solvability and its characteristic as a system of linear equation — we'll expand on this in the nect module. Another use of the inverse matrix is solving the problem of divisibility between matrices. Although element-wise division exists but dividing the entire concept of matrices does not exists. Inverse matrices provides a related operation that could have the same concept of \"dividing\" matrices.\n",
        "\n",
        "Now to determine the inverse of a matrix we need to perform several steps. So let's say we have a matrix $M$:\n",
        "$$M = \\begin{bmatrix}1&7\\\\-3&5\\end{bmatrix}$$\n",
        "First, we need to get the determinant of $M$.\n",
        "$$|M| = (1)(5)-(-3)(7) = 26$$\n",
        "Next, we need to reform the matrix into the inverse form:\n",
        "$$M^{-1} = \\frac{1}{|M|} \\begin{bmatrix} m_{(1,1)} & -m_{(0,1)} \\\\ -m_{(1,0)} & m_{(0,0)}\\end{bmatrix}$$\n",
        "So that will be:\n",
        "$$M^{-1} = \\frac{1}{26} \\begin{bmatrix} 5 & -7 \\\\ 3 & 1\\end{bmatrix} = \\begin{bmatrix} \\frac{5}{26} & \\frac{-7}{26} \\\\ \\frac{3}{26} & \\frac{1}{26}\\end{bmatrix}$$\n",
        "For higher-dimension matrices you might need to use co-factors, minors, adjugates, and other reduction techinques. To solve this programmatially we can use `np.linalg.inv()`."
      ]
    },
    {
      "cell_type": "code",
      "metadata": {
        "colab": {
          "base_uri": "https://localhost:8080/"
        },
        "id": "lZS5rJfxprOC",
        "outputId": "b3d9213e-3776-4de2-e1a3-2c1117109c84"
      },
      "source": [
        "M = np.array([\n",
        "    [1,7],\n",
        "    [-3, 5]\n",
        "])\n",
        "\n",
        "np.array(M @ np.linalg.inv(M), dtype=int)"
      ],
      "execution_count": 73,
      "outputs": [
        {
          "output_type": "execute_result",
          "data": {
            "text/plain": [
              "array([[1, 0],\n",
              "       [0, 1]])"
            ]
          },
          "metadata": {},
          "execution_count": 73
        }
      ]
    },
    {
      "cell_type": "code",
      "metadata": {
        "colab": {
          "base_uri": "https://localhost:8080/"
        },
        "id": "6QKOpmUOps_B",
        "outputId": "fc9de5b5-c2db-4ca9-c6b7-9ff7e1e7dd9d"
      },
      "source": [
        "P = np.array([\n",
        "              [6, 9, 0],\n",
        "              [4, 2, -1],\n",
        "              [3, 6, 7]\n",
        "])\n",
        "Q = np.linalg.inv(P)\n",
        "Q"
      ],
      "execution_count": 74,
      "outputs": [
        {
          "output_type": "execute_result",
          "data": {
            "text/plain": [
              "array([[-0.12578616,  0.39622642,  0.05660377],\n",
              "       [ 0.19496855, -0.26415094, -0.03773585],\n",
              "       [-0.11320755,  0.05660377,  0.1509434 ]])"
            ]
          },
          "metadata": {},
          "execution_count": 74
        }
      ]
    },
    {
      "cell_type": "code",
      "metadata": {
        "colab": {
          "base_uri": "https://localhost:8080/"
        },
        "id": "K55ObmkLpwuP",
        "outputId": "e8e89c7a-a18d-46b3-ffed-0625585c377d"
      },
      "source": [
        "P @ Q"
      ],
      "execution_count": 75,
      "outputs": [
        {
          "output_type": "execute_result",
          "data": {
            "text/plain": [
              "array([[ 1.00000000e+00, -5.55111512e-17, -6.93889390e-18],\n",
              "       [ 8.32667268e-17,  1.00000000e+00, -2.77555756e-17],\n",
              "       [ 2.77555756e-17, -1.38777878e-17,  1.00000000e+00]])"
            ]
          },
          "metadata": {},
          "execution_count": 75
        }
      ]
    },
    {
      "cell_type": "code",
      "metadata": {
        "colab": {
          "base_uri": "https://localhost:8080/"
        },
        "id": "0WzmucwRpyWX",
        "outputId": "bbacf5c5-c3f1-48eb-8e8c-0c8734249e0b"
      },
      "source": [
        "## And now let's test your skills in solving a matrix with high dimensions:\n",
        "N = np.array([\n",
        "    [18,5,23,1,0,33,5],\n",
        "    [0,45,0,11,2,4,2],\n",
        "    [5,9,20,0,0,0,3],\n",
        "    [1,6,4,4,8,43,1],\n",
        "    [8,6,8,7,1,6,1],\n",
        "    [-5,15,2,0,0,6,-30],\n",
        "    [-2,-5,1,2,1,20,12],\n",
        "])\n",
        "N_inv = np.linalg.inv(N)\n",
        "np.array(N @ N_inv,dtype=int)"
      ],
      "execution_count": 76,
      "outputs": [
        {
          "output_type": "execute_result",
          "data": {
            "text/plain": [
              "array([[0, 0, 0, 0, 0, 0, 0],\n",
              "       [0, 0, 0, 0, 0, 0, 0],\n",
              "       [0, 0, 1, 0, 0, 0, 0],\n",
              "       [0, 0, 0, 1, 0, 0, 0],\n",
              "       [0, 0, 0, 0, 0, 0, 0],\n",
              "       [0, 0, 0, 0, 0, 0, 0],\n",
              "       [0, 0, 0, 0, 0, 0, 1]])"
            ]
          },
          "metadata": {},
          "execution_count": 76
        }
      ]
    },
    {
      "cell_type": "markdown",
      "metadata": {
        "id": "nQHbCiIip2kv"
      },
      "source": [
        "To validate the wether if the matric that you have solved is really the inverse, we follow this dot product property for a matrix $M$:\n",
        "$$M\\cdot M^{-1} = I$$"
      ]
    },
    {
      "cell_type": "code",
      "metadata": {
        "colab": {
          "base_uri": "https://localhost:8080/"
        },
        "id": "N2XjMLnQp0Qa",
        "outputId": "5d421608-b0a4-4cdd-9cd5-867c4d1cb7b0"
      },
      "source": [
        "squad = np.array([\n",
        "    [1.0, 1.0, 0.5],\n",
        "    [0.7, 0.7, 0.9],\n",
        "    [0.3, 0.3, 1.0]\n",
        "])\n",
        "weights = np.array([\n",
        "    [0.2, 0.2, 0.6]\n",
        "])\n",
        "p_grade = squad @ weights.T\n",
        "p_grade"
      ],
      "execution_count": 77,
      "outputs": [
        {
          "output_type": "execute_result",
          "data": {
            "text/plain": [
              "array([[0.7 ],\n",
              "       [0.82],\n",
              "       [0.72]])"
            ]
          },
          "metadata": {},
          "execution_count": 77
        }
      ]
    },
    {
      "cell_type": "markdown",
      "metadata": {
        "id": "3S3asWT-9wV7"
      },
      "source": [
        "# **ACTIVITY**"
      ]
    },
    {
      "cell_type": "markdown",
      "metadata": {
        "id": "rHeMaFlg7534"
      },
      "source": [
        "## **Task 1**\n",
        "Prove and implement the remaining 6 matrix multiplication properties. You may create your own matrices in which their shapes should not be lower than  (3,3) . In your methodology, create individual flowcharts for each property and discuss the property you would then present your proofs or validity of your implementation in the results section by comparing your result to present functions from NumPy."
      ]
    },
    {
      "cell_type": "code",
      "metadata": {
        "id": "SzZXfEFO774J"
      },
      "source": [
        "A = np.array([\n",
        "    [6,9,6],\n",
        "    [4,2,0],\n",
        "    [1,8,1]\n",
        "])\n",
        "B = np.array([\n",
        "    [4,2,5],\n",
        "    [3,1,7],\n",
        "    [4,5,4]\n",
        "]) \n",
        "C = np.array([\n",
        "    [8,6,7],\n",
        "    [4,3,1],\n",
        "    [5,3,5]\n",
        "])"
      ],
      "execution_count": 78,
      "outputs": []
    },
    {
      "cell_type": "code",
      "metadata": {
        "colab": {
          "base_uri": "https://localhost:8080/"
        },
        "id": "13SKDm1P7-BZ",
        "outputId": "70db1e56-8041-49b3-9011-2fa268b8572c"
      },
      "source": [
        "#1\n",
        "A1 = A@B\n",
        "A1"
      ],
      "execution_count": 79,
      "outputs": [
        {
          "output_type": "execute_result",
          "data": {
            "text/plain": [
              "array([[ 75,  51, 117],\n",
              "       [ 22,  10,  34],\n",
              "       [ 32,  15,  65]])"
            ]
          },
          "metadata": {},
          "execution_count": 79
        }
      ]
    },
    {
      "cell_type": "code",
      "metadata": {
        "colab": {
          "base_uri": "https://localhost:8080/"
        },
        "id": "sMTeu3QF7_ij",
        "outputId": "da34a9b3-c6d7-46c1-c180-59e51a0f8add"
      },
      "source": [
        "B1 = B@A\n",
        "B1"
      ],
      "execution_count": 80,
      "outputs": [
        {
          "output_type": "execute_result",
          "data": {
            "text/plain": [
              "array([[37, 80, 29],\n",
              "       [29, 85, 25],\n",
              "       [48, 78, 28]])"
            ]
          },
          "metadata": {},
          "execution_count": 80
        }
      ]
    },
    {
      "cell_type": "code",
      "metadata": {
        "colab": {
          "base_uri": "https://localhost:8080/"
        },
        "id": "sRTEsW4M8BRE",
        "outputId": "ee7070d8-179f-4ff3-a11b-d6b38b3714f9"
      },
      "source": [
        "np.array_equal(A1,B1)"
      ],
      "execution_count": 81,
      "outputs": [
        {
          "output_type": "execute_result",
          "data": {
            "text/plain": [
              "False"
            ]
          },
          "metadata": {},
          "execution_count": 81
        }
      ]
    },
    {
      "cell_type": "markdown",
      "metadata": {
        "id": "LkUDN5cE8xGn"
      },
      "source": [
        "![Capture.PNG](data:image/png;base64,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)"
      ]
    },
    {
      "cell_type": "code",
      "metadata": {
        "colab": {
          "base_uri": "https://localhost:8080/"
        },
        "id": "GBQCAmYu8CuS",
        "outputId": "4eb374ff-dd7d-4605-831b-a81b816b9e52"
      },
      "source": [
        "#2\n",
        "A2 = A @ (B @ C)\n",
        "A2"
      ],
      "execution_count": 82,
      "outputs": [
        {
          "output_type": "execute_result",
          "data": {
            "text/plain": [
              "array([[1389,  954, 1161],\n",
              "       [ 386,  264,  334],\n",
              "       [ 641,  432,  564]])"
            ]
          },
          "metadata": {},
          "execution_count": 82
        }
      ]
    },
    {
      "cell_type": "code",
      "metadata": {
        "colab": {
          "base_uri": "https://localhost:8080/"
        },
        "id": "kV66bedL8v05",
        "outputId": "b0c0ce64-e21e-4e8b-bbe7-07129923bfab"
      },
      "source": [
        "B2 = (A @ B) @ C\n",
        "B2"
      ],
      "execution_count": 83,
      "outputs": [
        {
          "output_type": "execute_result",
          "data": {
            "text/plain": [
              "array([[1389,  954, 1161],\n",
              "       [ 386,  264,  334],\n",
              "       [ 641,  432,  564]])"
            ]
          },
          "metadata": {},
          "execution_count": 83
        }
      ]
    },
    {
      "cell_type": "code",
      "metadata": {
        "colab": {
          "base_uri": "https://localhost:8080/"
        },
        "id": "IKbMmOh78ymd",
        "outputId": "297d381a-58f6-4803-b5b4-689df76aaba8"
      },
      "source": [
        "np.array_equal(A2,B2)"
      ],
      "execution_count": 84,
      "outputs": [
        {
          "output_type": "execute_result",
          "data": {
            "text/plain": [
              "True"
            ]
          },
          "metadata": {},
          "execution_count": 84
        }
      ]
    },
    {
      "cell_type": "markdown",
      "metadata": {
        "id": "T7kd31di805y"
      },
      "source": [
        "![2.PNG](data:image/png;base64,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)"
      ]
    },
    {
      "cell_type": "code",
      "metadata": {
        "colab": {
          "base_uri": "https://localhost:8080/"
        },
        "id": "IbKKiffW83ht",
        "outputId": "347c8996-81fb-4392-ab41-c6b07de6151d"
      },
      "source": [
        "#3\n",
        "A3 = A @ (B + C)\n",
        "A3"
      ],
      "execution_count": 85,
      "outputs": [
        {
          "output_type": "execute_result",
          "data": {
            "text/plain": [
              "array([[189, 132, 198],\n",
              "       [ 62,  40,  64],\n",
              "       [ 77,  48,  85]])"
            ]
          },
          "metadata": {},
          "execution_count": 85
        }
      ]
    },
    {
      "cell_type": "code",
      "metadata": {
        "colab": {
          "base_uri": "https://localhost:8080/"
        },
        "id": "2PhonNH5845e",
        "outputId": "d323fdb9-9109-4603-8e13-a9dcb338932a"
      },
      "source": [
        "B3 = A @ B + A @ C\n",
        "B3"
      ],
      "execution_count": 86,
      "outputs": [
        {
          "output_type": "execute_result",
          "data": {
            "text/plain": [
              "array([[189, 132, 198],\n",
              "       [ 62,  40,  64],\n",
              "       [ 77,  48,  85]])"
            ]
          },
          "metadata": {},
          "execution_count": 86
        }
      ]
    },
    {
      "cell_type": "code",
      "metadata": {
        "colab": {
          "base_uri": "https://localhost:8080/"
        },
        "id": "jxJox1Rm868S",
        "outputId": "a4055c07-f153-4166-b94a-23f5297d6b36"
      },
      "source": [
        "np.array_equal(A3,B3)"
      ],
      "execution_count": 87,
      "outputs": [
        {
          "output_type": "execute_result",
          "data": {
            "text/plain": [
              "True"
            ]
          },
          "metadata": {},
          "execution_count": 87
        }
      ]
    },
    {
      "cell_type": "markdown",
      "metadata": {
        "id": "6X-bb5vK89I-"
      },
      "source": [
        "![3.PNG](data:image/png;base64,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)"
      ]
    },
    {
      "cell_type": "code",
      "metadata": {
        "colab": {
          "base_uri": "https://localhost:8080/"
        },
        "id": "B2-ZIHB99ASk",
        "outputId": "fa145570-a0ef-4e21-88d1-c3e7a6e4c612"
      },
      "source": [
        "#4\n",
        "A4 = (B + C) @ A\n",
        "A4"
      ],
      "execution_count": 88,
      "outputs": [
        {
          "output_type": "execute_result",
          "data": {
            "text/plain": [
              "array([[116, 220,  84],\n",
              "       [ 66, 135,  50],\n",
              "       [ 95, 169,  63]])"
            ]
          },
          "metadata": {},
          "execution_count": 88
        }
      ]
    },
    {
      "cell_type": "code",
      "metadata": {
        "colab": {
          "base_uri": "https://localhost:8080/"
        },
        "id": "OOThB5fS9CQc",
        "outputId": "0907b162-3c07-45c5-d823-fa25e8c1f6e1"
      },
      "source": [
        "B4 = B @ A + C @ A\n",
        "B4"
      ],
      "execution_count": 89,
      "outputs": [
        {
          "output_type": "execute_result",
          "data": {
            "text/plain": [
              "array([[116, 220,  84],\n",
              "       [ 66, 135,  50],\n",
              "       [ 95, 169,  63]])"
            ]
          },
          "metadata": {},
          "execution_count": 89
        }
      ]
    },
    {
      "cell_type": "code",
      "metadata": {
        "colab": {
          "base_uri": "https://localhost:8080/"
        },
        "id": "k1FtFiiI9D41",
        "outputId": "6f78581c-f83e-459f-91c4-36b5b51fca26"
      },
      "source": [
        "np.array_equal(A4,B4)"
      ],
      "execution_count": 90,
      "outputs": [
        {
          "output_type": "execute_result",
          "data": {
            "text/plain": [
              "True"
            ]
          },
          "metadata": {},
          "execution_count": 90
        }
      ]
    },
    {
      "cell_type": "markdown",
      "metadata": {
        "id": "d6dgZsmb9Fsv"
      },
      "source": [
        "![4.PNG](data:image/png;base64,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)"
      ]
    },
    {
      "cell_type": "code",
      "metadata": {
        "colab": {
          "base_uri": "https://localhost:8080/"
        },
        "id": "WH2QF2Fu9HYo",
        "outputId": "88da94e5-22e8-4b36-ace2-b2e9063d3c56"
      },
      "source": [
        "#5\n",
        "A5 = A @ B5\n",
        "A5"
      ],
      "execution_count": 96,
      "outputs": [
        {
          "output_type": "execute_result",
          "data": {
            "text/plain": [
              "array([[6., 9., 6.],\n",
              "       [4., 2., 0.],\n",
              "       [1., 8., 1.]])"
            ]
          },
          "metadata": {},
          "execution_count": 96
        }
      ]
    },
    {
      "cell_type": "code",
      "metadata": {
        "colab": {
          "base_uri": "https://localhost:8080/"
        },
        "id": "xyhKFZE49IiW",
        "outputId": "a82909d6-666e-4237-cd9e-db869f77bbc7"
      },
      "source": [
        "B5 = np.eye(3)\n",
        "B5"
      ],
      "execution_count": 94,
      "outputs": [
        {
          "output_type": "execute_result",
          "data": {
            "text/plain": [
              "array([[1., 0., 0.],\n",
              "       [0., 1., 0.],\n",
              "       [0., 0., 1.]])"
            ]
          },
          "metadata": {},
          "execution_count": 94
        }
      ]
    },
    {
      "cell_type": "code",
      "metadata": {
        "colab": {
          "base_uri": "https://localhost:8080/"
        },
        "id": "bQw17DLx9J90",
        "outputId": "8cbcc307-14b1-4cb9-c153-10d6b3ba5468"
      },
      "source": [
        "np.array_equal(A5,B5)"
      ],
      "execution_count": 97,
      "outputs": [
        {
          "output_type": "execute_result",
          "data": {
            "text/plain": [
              "False"
            ]
          },
          "metadata": {},
          "execution_count": 97
        }
      ]
    },
    {
      "cell_type": "markdown",
      "metadata": {
        "id": "ji3SIrkp9K3o"
      },
      "source": [
        "![5.PNG](data:image/png;base64,iVBORw0KGgoAAAANSUhEUgAAAV0AAALQCAYAAAAzTqMsAAAAAXNSR0IArs4c6QAAAARnQU1BAACxjwv8YQUAAAAJcEhZcwAADsMAAA7DAcdvqGQAAFk7SURBVHhe7Z15kBzFlYf7H3uJ2Ii1iTWHY49YezcCL+ZatICMEYhDCCFgMGADtrklDnHbHAbMDRoQYC4bbC4DNgynBFgGbA6BOAYQBglxCDQSgvUiAzYLC7Msy5H7XnblVL6czD5majo7q35fxEPdVd01H1nZv8nJrs6u/c///I9y67//+791+faZ+q//+i/vdrv+4z/+w7vdVLNjwEMWPGTBQxY8ZHWrR015+L//+z9djeAnN2PlypXZLT/NjgEPCTwk8JDAQ9KtHghdAh4SeEjgIYGHpF0PhC4BDwk8JPCQwEPSrgdCl4CHBB4SeEjgIWnXA6FLwEMCDwk8JPCQtOuB0CXgIYGHBB4SeEja9UDoEvCQwEMCDwk8JO161MwGuwYHB3X59pni68582+36z//8T+92U82OAQ9Z8JAFD1nwkNWtHghdKnjI6qTHe++9p/74xz+qF154QT3xxBPqvvvuU48++qhatGiRWrJkiXrnnXe8z+UqY3v4tpuCh6xUPTC9QMBDUpTHp59+qsPzhhtuUDNnzlTTp09Xu+++u5oyZYradNNN1dprr63WX399NWHCBDV16lS15557qpNPPlntvffeqqenR02cOFGNGzdOfe1rX1Mbb7yx2mabbdSuu+6q9ttvP3XGGWeoyy67TD300EPq3XffzX7qcHBeJPCQxPBA6BLwkIzUY/Hixaqvr0/9+Mc/VjvttJMOy912202ddtppau7cuTogn3nmGbVs2TL19ttvN/1/MXB480ctX3vtNf0zeCTMI+LzzjtP7bvvvmqjjTZSW2+9tTryyCPVVVddpUfMH3zwgX4uzosEHpIYHghdAh6SVj04BC+99FIdfGuttZbaZZdd1CmnnKJuvvlmPV3QSV5//XV19913q1mzZumR8oYbbqi23XZbdfrpp6sFCxZkj/KD/iGBh6RoD4QuAQ9Jo2PwiPOXv/ylHsHyn/uXXHJJxwO2VV599VU1e/Zs9d3vfldtscUW6vzzz1cvv/xytjcH/UMCD0nRHghdAh4S9xifffaZuvPOO9W0adP03OqZZ56pFi5cmO1NgzfeeEP94he/UDvssIOe+rjyyivVn/70J70P/UMCD0nRHghdAh4Sc4wVK1boP8956uDYY49V8+fP19tTh6+K4PngzTffXO21117q9ttvz/b4Qf+QwEPSrgdCl4CH5M9//rM69dRT1aRJk9Tvf//7bGs5eeqpp/RVFRy+zz//fLZVgv4hgYekXQ8sYk4Fj7wuvPBCfRkXX4VQJfiKh5133lkdccQReoRvtwn6hyx4yGrXAyNdAh5KX3HA7/hffPHF2ZZq8pvf/EZtttlmqre3N9uC/uECD0m7HghdosoefM3r5MmT9bW15tpWoNQ111yj57Kvv/76SvcPH/CQtOuB0CWq6sHv5p900klq+fLl+j4YDn/qja/aaERZ+0cIeEja9UDoElX0OOqoo/R1q6A5Dz74oL7S4S9/+Uu2RVLG/tEIeEja9UDoElXy+PDDD/WHGn77299mW0Ar8DW948ePV4888ki2JadM/YOBh6RoD4QuURUPXvdgvfXWw3TCKNh///3VFVdckd2rU5b+YYCHpGgPhC5RBQ++3naPPfbI7oHRwB+s4OkZQxn6hw08JEV7IHSJsnvwnOQhhxyS3QNFcPnll+vwZVLvHy7wkBTtUeMDusWL9nL59pniC4Z92+0aGBjwbjfV7BjwkDUSDx7h8uI0oHh++tOf6nV9U+4fvoKHrKI9MNIlyurBj11nnXWye2AsOOyww/Sbkin2jxDwkBTtgdAlyuqx4447epcyBMXC33DBHx1uBPqppMoeCF2ijB4/+tGPmq6eBYqBv8eNLydrBPqppMoeCF2ibB6//vWv9ZKMoHM8/PDDDT+5hn4qqbIHQpcok8fSpUvVd77znewe6CR8NcNNN92U3ZOgn0qq7IHQJcrkwV8Ced1112X3QCfh72njL8j0gX4qqbIHQpcoi8dHH32k1l133eweiMGhhx7qXfgd/VRSZQ8sYk5VFg9eC5cXIQfx4I9af/vb3x52btBPZVXZAyNdoiwe48aNU++//352D8Rizz33VH/4wx+ye3XQTyVV9kDoEmXw4K/XOeWUU7J7ICb33XefmjFjRnavDvqppMoeCF2iDB785Yp//OMfs3sgNgcddJD4wAT6qaTKHghdInUPvIHWffBI9/7778/uoZ+6VNkDoUuk7sEf9d1hhx2ye6AbOPfcc9VVV12V3UM/damyB0KXSN2DL1HiS5VA98Afkjj55JOze+inLlX2QOgSqXvwNxmYtV27lpV9qqdWUzVTvf3ZDt7Vp/J7zVip+vpaf3QsnnjiCbXXXntl99BPXarsUTMb7BocHNTl22eKrzvzbbeL15D0bTfV7BjwkBXyOOGEE9Stt96andJuhIKyp0f1WX23v7em6rnL+3pbD10ObyuwuxX+TjX+MktzjtBPZVXZA6FLlboHXxe6YMGC7OXeneQhK1nZ11Mf+fb0Ufz2q15rNNyTpTQ/podCu1abrA7fTu7rZtZff3313nvv6XOEfiqryh6YXiBS99h7773VK6+8kt3rXjh4TaDm0wvWSLe/Px/x8ohWBzHfpNA1IZvISJfZdddd9YiXQT+VVNkDoUuk7nHkkUeqe+65J7uXBnmQyukFEcxW6OYZnUbofvDBB2rDDTfM7qGfulTZA6FLpO7xk5/8RH9RYvfC0wbOvG1/77DQHRauCYfu888/r771rW9l99BPXarsgdAlUvfgb4jgb4roajgszQjWGsXSDgpd3kbBS0Gc7+9VvaEw5v1dHrz8vWn217Sjn0qq7IHQJVL34JWt9thjj+we6AZ+9rOf6VXfDOinkip7IHSJ1D3+8pe/NP2OLtBZjj32WHXHHXdk99BPXarsgdAlUvf47LPP1NSpU/WbN6A7OPjgg8Xyjuinkip7YBFzqjJ4/PjHP1Y33HBDdlpBTPhre7baaitxftBPZVXZAyNdogwevKzjlltumd0DMTn11FP1+sY26KeSKnsgdImyeKR4vW7Z4E8ebbDBBtm9HPRTSZU9ELpEWTyee+45tdtuu2X3QAwuueQSdemll2b3ctBPJVX2QOgSZfL43ve+p1e4AnHg9RZ85xH9VFJlD4QuUSaP3/3ud/qre0DnufHGG9Vpp52W3ZOgn0qq7IHQJcrmcfjhh3f9qmNlhC/b4zldH+inkip7IHSJMnpstNFG6t1339W3wdjDnwjkTwaGQD+VVNkDoUuU0YOvLdx66631bTC2nHHGGeqXv/xlds8P+qmkyh41PqBbvGgvl2+fKX5R+7bbNTAw4N1uqtkx4CGrXQ/+ni6eagBjx+zZs/WleuinecFDluuBkS5RZo/zzz9f/eIXv8jugSIx38Kccv/wAQ9J0R4IXaLsHvvtt5+65ZZbsnugKNZee+2hc5Jy/3CBh6RoD4QuUQWPH/7wh+rmm2/O7oHRsHz5cvX1r39d/e///q++X4b+YQMPSdEeCF2iKh4nnXSSOv3007N7YCTMnTtXbbfddkOBy5SlfxjgISnaA6FLVMnj17/+NRY8HyHnnXeeOvroo7N7OWXqHww8JEV7IHSJqnncd999elGWFStWZFtAMw444AB1xRVXZPckZesf8JAU7YHQJarowZ+cmjRpkpo3b162FfjgtXG/8Y1vqEceeSTbMpwy9o9GwEPSrgcWMaeqssfJJ5+s9txzT7Vo0aKsSwDm/fff13Pg++67r1q2bJloP7fK3D98BQ9Z7XpgpEtU3YPXaeAlIfki/zfeeCPbWl34CyXHjRs3dJld1fuHCzwk7XogdAl41Ln77rvVFltsoc466yz18ccfZ1urA68Sxksz8jf52qB/SOAhadcDoUvAQ3LllVfqC/9DbxyVDX5jcZttttHLMvraD/1DAg9Jux4IXQIeEnMMvkRq11131V96+eSTT+ptZeHVV1/V3/LA19zyJ/Zee+21bM9w0D8k8JC064HQJeAhsY/BX+vOn2T7/ve/rzbffHMdxEuWLMn2psU777yjrrvuOj1/ve222+qv1eGwRf+QwENStAdCl4CHJHSMP/3pT3rqYccdd9QLdvNCOs2OFZtPP/1UzZkzR+2///5q/Pjx6uyzz9bfJWeD/iGBh6RoD4QuAQ9JKx7PP/+8XsGMR7/8vWx8eRV/7fjixYvVZ599lj2y8/C6CHfddZeaOXOm9po4caI67rjjGl5ni/4hgYekaI+a2WAXXzjP5dtniq878223i9eQ9G031ewY8JDVrR58jS8HLl/zu8suu6i11lpL7bzzzvo+T0288MILWXcrFp4a4Csuzj33XLXXXnupDTfcUE8b8Ed1r7rqKvX444+r9957T7j7Cv1DFjxkFe2B0KWCh6wiPPiNtxtuuEGdeOKJqqenR9dmm22mpkyZonbffXf95Zk/+MEP9AI8F110kbr66qvVbbfdph566CE9HcBzrzznyiPW448/Xs2YMUN997vfVTvttJMevfIHOrbaait16KGH6mmORx99VF+k7nrgvMiCh6wYHpheIOAhGQuPTz75RL355pt6FX7+LjEOVw5WXoDnsssuU+ecc44OaP5oMn/bBV8rfMEFF6hrr71WfzvD/fffr5566in9Jh6/CPgNvpTbwwc8JGX1QOgS8JDE9ODpAbMQD9pDAg9Jqh4IXQIekpgeCN0w8JCk6oHQJeAhiemB0A0DD0mqHghdAh6SmB4I3TDwkKTqgdAl4CGJ6YHQDQMPSaoeCF0CHpKYHgjdMPCQpOqBRcyp4CErpgev9sWXhfFttIcseMhK1QMjXQIekpgeGOmGgYckVQ+ELgEPSUwPhG4YeEhS9UDoEvCQxPRA6IaBhyRVD4QuAQ9JTA+Ebhh4SFL1QOgS8JDE9EDohoGHJFUPhC4BD0lMD4RuGHhIUvVA6BLwkMT0QOiGgYckVQ+ELgEPSUwPhG4YeEhS9ajxAd3i9Uq5fPtM8QXDvu128dqpvu2mmh0DHrKq4MELlC9YsEDfRnvIgoesVD0w0iXgIYnpgZFuGHhIUvVA6BLwkMT0QOiGgYckVQ+ELgEPSUwPhG4YeEhS9UDoEvCQxPRA6IaBhyRVD4QuAQ9JTA+Ebhh4SFL1QOgS8JDE9EDohoGHJFUPhC4BD0lMD4RuGHhIUvXAIuZU8JAV0wOLmPv3ccFDVqoeGOkS8JDE9MBINww8JKl6IHQJeEhieiB0w8BDkqoHQpeAhySmB0I3DDwkqXogdAl4SGJ6IHTDwEOSqgdCl4CHJKYHQjcMPCSpeiB0CXhIYnogdMPAQ5KqB0KXgIckpgdCNww8JKl61MwGuwYHB3X59pni68582+3iNSR92001OwY8ZFXBY9KkSWrp0qX6NtpDFjxkpeqB0KWCh6yYHghd/z4ueMhK1QPTCwQ8JDE9ML0QBh6SVD0QugQ8JDE9ELph4CFJ1QOhS8BDEtMDoRsGHpJUPRC6BDwkMT0QumHgIUnVA6FLwEMS0wOhGwYeklQ9ELoEPCQxPRC6YeAhSdUDoUvAQxLTA6EbBh6SVD2wiDkVPGTF9MAi5v59XPCQlaoHRroEPCQxPTDSDQMPSaoeCF0CHpJOe7z11lv6X8YOXR5hNKKs7RECHpJUPRC6BDwknfY45JBD1MYbb6wefvhhHbqPPvqomj59ulp33XXVJ598oh/jo6ztEQIeklQ9ELoEPCSd9liwYIFaddVV1Ze//GX11a9+Va255prqc5/7nDrttNP0/hBlbY8Q8JCk6oHQJeAhieExefJkVavVhmq11VZT7733XrbXT5nbwwc8JKl6IHQJeEhieDz99NNq9dVX14G7yiqrqJkzZ1a6PXzAQ5KqB0KXgIcklocZ7fIo9+OPP658e7jAQ5KqB0KXgIcklgePdr/whS/oUS5T9fZwgYckVY8aH9AtXrSXy7fPFF/O49tu18DAgHe7qWbHgIessfRYtGiRuvXWW3XddNNNQ7d9dfPNN+vy7TPV7Bhc119//bBtM2bMUNdee62+HdPDrpF6PPTQQ0Pti34qq8oeGOkS8FD6k2AHHXSQDj2+hIv/DRXvb+Uxvu12mZ8XqtQ9+DK4jz76SLcv+qmkyh4IXaLqHvPmzVMHHnhgdg8Ugdum6KeSKnsgdImqexx33HFqzpw52T1QBG6bop9KquyB0CWq7rHeeuupDz/8MLsHisBtU/RTSZU9ELpElT0wtVA8vjZFP5VU2QOhS1TZA1MLxeNrU/RTSZU9ELpElT0wtVA8vjZFP5VU2QOLmFNV1ePee+/Vq3mB4uCphQMOOGBYm6OfyqqyB0a6RFU9MLVQPKE2RT+VVNkDoUtU1QNTC8UTalP0U0mVPRC6RBU9cNVC8TRqU/RTSZU9ELpEFT0wtVA8jdoU/VRSZQ+ELlFFD0wtFE+jNkU/lVTZA6FLVM3j9ttvx9RCwTSbrkE/lVTZA6FLVM3jsMMOw9RCwTSbrkE/lVTZo2Y22DU4OKjLt88UX3fm224XryHp226q2THgIasoj3XWWQdTCwXDUwuN2j6l/gEPWUV7IHSpquRx3333qWnTpmVRAYrAfCDC196m0E9lVdkD0wtElTz4z+DZs2dn90ARcJvyN0U0Av1UUmUPhC5RJQ9ctVA8ZmqhEeinkip7IHSJqnjgAxHFw23K0zXopznwkLgeCF2iKh74QETxmKkF9NMceEhcD4QuURUPTC0Uj33VQiPQTyVV9kDoElXwaH1qoV/19vSpxqbtsFL19fVnty36e1WtVlO99q6VfarH3TaMfjqex46O1+PbPoaYNi1D/7CBh6RoD4QuUQWP1qcWCg5dDlJfinJI9vSomrVvZV+P3tYwdCOEawjTpmXoHzbwkBTtgUXMqargse6667Y4tWCFrglGGn1y1cOORq49vaq3t76tVuulZ+gHi7Du7+1RfdRZ+3rs51ro8OxTvUPPrx+3j4LXhG7/0M+g0semn5Hd58eYkK7V6GfNzcOYt5vnDf1c+nlDxzI/IBtZ17ezb31zq/DUwjvvvFOK/mEXPGQV7YGRLlF2j/auWpChWw87ggNK364HaZ5bFHw6rXyhSzcajXTpAe7j+Hj1h/er/qGn8c/MHpc9T28d+tmE2a6D1PpFoG+bf+uY5+U/q33sNk29f7jAQ1K0B0KXKLtHe1ctyNAdCrWh7fURaZ6HJlRHFrp5ANIolx4vgpAeMzQ6NSNRJ3Ttx+rtvp+ng9gcJyvjPLQtO36L2G2aev9wgYekaA+ELlF2j/auWmgldAMjXTFV0Fro6v16uqL+M4eCVDwvPNIdeog4ngl/8zzbLQA9355fbobdpqn3Dxd4SIr2QOgSZfZob2qBaSV0rTndoYDjh+ejRp5r1U81o0w30IaOXQ/x4UHKQZkfr5dGzno7hyNt48d7Q5fg7fXnBeZ0refn21of6bptmnL/8AEPSdEeCF2izB7tTS20Qj10Wx8Tlg+3TVPuHz7gISnaA6FLlNmj+A9EIHTdNk25f/iAh6RoD4QuUVaP9qcWQDN8bZpq/wgBD0nRHghdoqwexU8tAF+bpto/QsBDUrRHjQ/oFi/ay+XbZ4ovGPZtt2tgYMC73VSzY8BDVrse+IaI4uE2ffXVV0Wbp9o/QgUPWUV7YKRLlNEDUwvFE2rTFPtHI+AhKdoDoUuU0QNTC8UTatMU+0cj4CEp2gOhS5TRo/irFkCoTVPsH42Ah6RoD4QuUTYPTC0UT6M2Ta1/NAMekqI9ELpE2TwwtVA8jdo0tf7RDHhIivZA6BJl88DUQvE0atPU+kcz4CEp2gOhS5TJ495778XUQsE0m65JqX/AQxLDA4uYU5XJ48gjj1SzZ8/OTi8ogmOPPVbdfPPN3vbmSql/wENWDA+MdIkyebT+DRGgVZpN16TUP+AhieGB0CXK4sF/Bk+fPj27B4qA2/SAAw7I7vlJpX8w8JDE8EDoEmXx4HfYMbVQLNymPLXQiFT6BwMPSQwPhC5RFg9ctVA83Kb85ZONSKV/MPCQxPBA6BJl8MAHIorHtCn6qQQeknY9ELpEGTzwgYjiMW2KfiqBh6RdD4QuUQYPTC0Uj2lT9FMJPCTtetTMBrsGBwd1+faZ4uvOfNvt4jUkfdtNNTsGPGSFPO677z5MLRQMTy1MmzZNty/6qSx4yGrXA6FLlbrHIYccok477TR1//33owqq/fffX9166626fdFPZcFDVrsemF4gUve45ZZbdPDOmDFDHXTQQfrfRsWB4ttuqtkxDj74YF2+faZG6vHNb35zaHtMj3POOUd99tlnun3RTyXwkLTrgdAl4CGJ6bHtttuqFStW6NtoDwk8JKl6IHQJeEhieiB0w8BDkqoHQpeAhySmB0I3DDwkqXogdAl4SGJ6IHTDwEOSqgdCl4CHJKYHQjcMPCSpeiB0CXhIYnogdMPAQ5KqBxYxp4KHrJge22yzjVqyZIm+jfaQBQ9ZqXpgpEvAQxLTAyPdMPCQpOqB0CXgIYnpgdANAw9Jqh4IXQIekpgeCN0w8JCk6oHQJeAhiemB0A0DD0mqHghdAh6SmB4I3TDwkKTqgdAl4CGJ6YHQDQMPSaoeCF0CHpKYHgjdMPCQpOqB0CXgIYnpgdANAw9Jqh41PqBbvGgvl2+fKb5g2LfdroGBAe92U82OAQ9ZVfCYOHGiWrBggb6N9pAFD1mpemCkS8BDEtMDI90w8JCk6oHQJeAhiemB0A0DD0mqHghdAh6SmB4I3TDwkKTqgdAl4CGJ6YHQDQMPSaoeCF0CHpKYHgjdMPCQpOqB0CXgIYnpgdANAw9Jqh4IXQIekpgeCN0w8JCk6oFFzKngISumBxYx9+/jgoesVD0w0iXgIYnpgZFuGHhIUvVA6BLwkMT0QOiGgYckVQ+ELgEPSUwPhG4YeEhS9UDoEvCQxPRA6IaBhyRVD4QuAQ9JTA+Ebhh4SFL1QOgS8JDE9EDohoGHJFUPhC4BD0lMD4RuGHhIUvWomQ12DQ4O6vLtM8XXnfm228VrSPq2m2p2DHjIqoLHpEmT1NKlS/VttIcseMhK1QOhSwUPWTE9ELr+fVzwkJWqB6YXCHhIYnpgeiEMPCSpeiB0CXhIYnogdMPAQ5KqB0KXgIckpgdCNww8JKl6IHQJeEhieiB0w8BDkqoHQpeAhySmB0I3DDwkqXogdAl4SGJ6IHTDwEOSqgdCl4CHJKYHQjcMPCSpemARcyp4yIrpgUXM/fu44CErVQ+MdAl4SGJ6YKQbBh6SVD0QugQ8JJ32eOutt/S/jB26PMJoRFnbIwQ8JKl6IHQJeEg67XHIIYeojTfeWD388MM6dB999FE1ffp0te6666pPPvlEP8ZHWdsjBDwkqXogdAl4SDrtsWDBArXqqquqL3/5y+qrX/2qWnPNNdXnPvc5ddppp+n9IcraHiHgIUnVA6FLwEMSw2Py5MmqVqsN1Wqrrabee++9bK+fMreHD3hIUvVA6BLwkMTwePrpp9Xqq6+uA3eVVVZRM2fOrHR7+ICHJFUPhC4BD0ksDzPa5VHuxx9/XPn2cIGHJFUPhC4BD0ksDx7tfuELX9CjXKbq7eECD0mqHjU+oFu8aC+Xb58pvpzHt92ugYEB73ZTzY4BD1khjwcffFDddddduubMmTN0O1S33HKLd7upZse48847dfn2mRqpx5FHHqn6+vr07Zgedo3Gw5xT9FNZVfbASJdI3WP8+PFqzz33VPvuu6/aZ5999L+Nau+99/ZuN9XKMZoVPPbV0yR//vOf9TlCP5VU2QOhS6TuwaFrXtyge/jGN76B0A1QZQ+ELpG6B0K3O0HohqmyB0KXSN0DodudIHTDVNkDoUuk7oHQ7U4QumGq7IHQJVL3QOh2JwjdMFX2QOgSqXsgdLsThG6YKntgEXOq1D022WQThG4XwqFrzjn6qawqe2CkS6TugZFud4KRbpgqeyB0idQ9ELrdCUI3TJU9ELpE6h4I3e4EoRumyh4IXSJ1D4Rud4LQDVNlD4QukboHQrc7QeiGqbIHQpdI3QOh250gdMNU2QOhS6TugdDtThC6YarsUTMb7BocHNTl22eKrzvzbbeL15D0bTfV7BjwkBXyQOh2Jxy6/ILlc4R+KqvKHghdqtQ9ELrdCULXv5+ryh6YXiBS9xhR6K7sUz29/dmd5qzs61PBR/f3qlpPn5L/d/2q1/p231obP2sY3uNn8P+H/XOoevrsR65UfT1yf+7i7Av9jBGC6YUwVfZA6BKpe4x96HI49QZCl/f1qN5eKvsBfPxCQixwfIbDuNajRMbqx7vBarvXj1d/Dv9iCP1/jR6EbpgqeyB0idQ9Cg1dHWTZyC/bv7KvJzwSNMdxj2cfZ1gwEvz4of1Z+XxCx7cCc8iP7nM491E758HqCd3e7P/DcfD9+NGA0A1TZQ+ELpG6R3GhK0d+HGb1P9Xd4Mrp783Dql8HXv12/lx9Z8Sj3qbH53A3D9AhmgdxfTO758Fqwlnvsp/r/L8XAUI3TJU9ELpE6h6Fha4z8tOlHxMKXWfelkrOpxo8gRb8WTbh45swtoNYPz47Rh7Ww93FL4Qh+HH2sUYPQjdMlT0QukTqHmM10s3xh+7w8Mqfb49Q5YiydRod34xk5Ug4C2X+eUMja3/o8nPE8bk98EaaBh6Soj0QukTqHiMOXWcUqcNLzMWakSUHF9+3w8s/MsyDzB6lDg/s5jQ5vglW6/+jt9e4u57GI6uhXwD2PutnjfCXhAtCN0yVPbCIOVXqHlVdxJxHtv5Arwf+0Ci2XSjIe0f6XAsOXXPO0U9lVdkDI10idY8RjXTLgjMyr9dIRtbFg5FumCp7IHSJ1D0qHbpdDEI3TJU9ELpE6h4I3e4EoRumyh4IXSJ1j9GHbqM3mwz1xxTw/lLnsa7U4DfizP/j0Jxvf+/I538bgNANU2UPhC6Rukcxodv4yoT6m1Yphq79/9aveocuC8svP2NW9vUWeo0ug9ANU2UPhC6RuseYhK75qCyTXUIlrr0dwr40LKth17ty2PXkl6iZ/TzC7KXKtntHm/YbZdkPFx6ZG+MdxVqjXIkM3fDjRg5CN0yVPRC6ROoeYzK9YAKJwygLSX/otgIHnBk5W6NoDszAyLOO3Cau0c1EhpwsT8Zs5+e4ziacZcjzLwb3l8XoQOiGqbIHQpdI3aP4kS5tyQLOHj3Wy/3AAgejvZ9qWHjJQBv66C6PdK2DyY/0Ehyk7rHrCVv3tYPWHhFnZfzd0DXIfb7QHx0I3TBV9qjxAd3iRXu5fPtM8QXDvu12DQwMeLebanYMeMgKeWy00UZjErpuWI1qpBsI3XZGujb6lwJPWZiUdka6BvH/ERgN15GORcAfWnnhhRf0OUI/lVVlD4x0idQ9OnP1ghtS7RAOXXtO1xxb/BxnBCtC1hl1c8Daj9XH4MdZ0uIx9v+M87giwEg3TJU9ELpE6h6jD91IONMLbREY2Q5n+Cjex7CpjQJA6IapsgdCl0jdo3Khm41+Wx6YNhvFjib8G4DQDVNlD4QukbpHsqFbchC6YarsgdAlUvdA6HYnCN0wVfZA6BKpeyB0uxOEbpgqeyB0idQ9ELrdCUI3TJU9sIg5VeoeVV3EvNvh0DXnHP1UVpU9MNIlUvfASLc7wUg3TJU9ELpE6h4I3e4EoRumyh4IXSJ1D4Rud4LQDVNlD4QukboHQrc7QeiGqbIHQpdI3QOh250gdMNU2QOhS6TugdDtThC6YarsgdAlUvdA6HYnCN0wVfaomQ12DQ4O6vLtM8XXnfm228VrSPq2m2p2DHjICnkgdLsTDl1+wfI5Qj+VVWUPhC5V6h4cuvfcc496/PHHUV1U66yzDkI3UFX2wPQCkbrHWWedpfbdd19de+2119DtUO25557e7aaaHWOfffbR5dtnaqQe48aNG9oe08Ou0Xh88MEH+hyhn0qq7IHQJeAhiemx7bbbqhUrVujbaA8JPCSpeiB0CXhIYnogdMPAQ5KqB0KXgIckpgdCNww8JKl6IHQJeEhieiB0w8BDkqoHQpeAhySmB0I3DDwkqXogdAl4SGJ6IHTDwEOSqgcWMaeCh6yYHttss41asmSJvo32kAUPWal6YKRLwEMS0wMj3TDwkKTqgdAl4CGJ6YHQDQMPSaoeCF0CHpKYHgjdMPCQpOqB0CXgIYnpgdANAw9Jqh4IXQIekpgeCN0w8JCk6oHQJeAhiemB0A0DD0mqHghdAh6SmB4I3TDwkKTqgdAl4CGJ6YHQDQMPSaoeNT6gW7xoL5dvnym+YNi33a6BgQHvdlPNjgEPWVXwmDhxolqwYIG+jfaQBQ9ZqXpgpEvAQxLTAyPdMPCQpOqB0CXgIYnpgdANAw9Jqh4IXQIekpgeCN0w8JCk6oHQJeAhiemB0A0DD0mqHghdAh6SmB4I3TDwkKTqgdAl4CGJ6YHQDQMPSaoeCF0CHpKYHgjdMPCQpOqBRcyp4CErpgcWMffv44KHrFQ9MNIl4CGJ6YGRbhh4SFL1QOgS8JDE9EDohoGHJFUPhC4BD0lMD4RuGHhIUvVA6BLwkMT0QOiGgYckVQ+ELgEPSUwPhG4YeEhS9UDoEvCQxPRA6IaBhyRVD4QuAQ9JTA+Ebhh4SFL1qJkNdg0ODury7TPF1535ttvFa0j6tptqdgx4yKqCx6RJk9TSpUv1bbSHLHjIStUDoUsFD1kxPRC6/n1c8JCVqgemFwh4SGJ6YHohDDwkqXogdAl4SGJ6IHTDwEOSqgdCl4CHJKYHQjcMPCSpeiB0CXhIYnogdMPAQ5KqB0KXgIckpgdCNww8JKl6IHQJeEhieiB0w8BDkqoHQpeAhySmB0I3DDwkqXpgEXMqeMiK6YFFzP37uOAhK1UPjHQJeEhiemCkGwYeklQ9ELoEPCQxPRC6YeAhSdUDoUvAQxLTA6EbBh6SVD0QugQ8JDE9ELph4CFJ1QOhS8BDEtMDoRsGHpJUPRC6BDwkMT0QumHgIUnVA6FLwEMS0wOhGwYeklQ9ELoEPCQxPRC6YeAhSdWjxgd0ixft5fLtM8UXDPu22zUwMODdbqrZMeAhqwoeEydOVAsWLNC30R6y4CErVQ+MdAl4SGJ6YKQbBh6SVD0QugQ8JJ32+NWvfqXmz5+vb5vQ5brgggvU+++/r7f7KGt7hICHJFUPhC4BD0mnPc4880y16qqrqi222EKNHz9e7bHHHmq11VZT48aN0/tDlLU9QsBDkqoHQpeAhySGx5e+9CVVq9V0+PK/a665pnrggQeyvX7K3B4+4CFJ1QOhS8BDEsPj/PPPV6ussooOXK6tttqq0u3hAx6SVD0QugQ8JLE8zGh3jTXWUI899ljl28MFHpJUPRC6BDwksTx4tPv5z39ebb311vp+1dvDBR6SVD2wiDkVPGTF9PjKV76innrqKX0b7SELHrJS9cBIl4CHJJbHJ598oq666ir15ptv6vtVbw8XeEhS9UDoEvCQxPI44ogj1B133KE22GADfb/q7eECD0mqHghdAh6SGB4cuPfcc4++PTg4qIO3yu3hAx6SVD0QugQ8JJ32sAPXwMG7/vrrZ/f8lLU9QsBDkqoHQpeAh6STHr7ANXzwwQdDUw0+ytgejYCHJFUPhC4BD0mnPKZPnx4MXIOZavBRtvaAh6SsHghdAh6STnjwCPe3v/1tdq8xoeAtU3sw8JCU1aNmNtjFnZzLt88UX3fm224XryHp226q2THgIassHocddpi6++67sy7YGmaqwT5OWdrDFDxkldUDoUsFD1lj6TGSwDW4wVuG9rALHrLK6oHpBQIekrHyaPSmWatw5zVTDam3hws8JGX1QOgS8JCMhUcRgWswwZtye/iAh6SsHghdAh6Soj2KDFyDHbyNwHmRwEMSwwOhS8BDUqTHWASuodl1vAzOiwQekhgeCF0CHpKiPMYycA3NghfnRQIPSQwPhC4BD0kRHoceeuiYB67BfnPNBedFAg9JDA+ELgEPyWg9eIQ70svCRkooeHFeJPCQxPDAIuZU8JA1Gg8e4XY6cA081cCL5Ng+OC+y4CErhgdGugQ8JCP16MQcbjPcES/OiwQekhgeCF0CHpKReHRD4Brs4K36eXGBhySGB0KXgIekXY9uClyDCd4qnxcf8JDE8EDoEvCQtOPRjYFr4OBtthA6g/4hgYekaA+ELgEPSase3Ry4hlY+QIH+IYGHpGgPhC4BD0krHrxaWLcHriF0OZkB/UMCD0nRHghdAh6SZscYzfKMsWgUvOgfEnhIivZA6BLwkDQ6Bk8ppBa4hlDwon9I4CEp2qPGB3SLF+3l8u0zxRcM+7bbNTAw4N1uqtkx4CErtgd/p1mrX7HTrfAc77rrriv+v9A/ZMFDVtEeGOkS8JD4jpHCm2at4o540T8k8JAU7YHQJeAhcY9RpsA12MGL/iGBh6RoD4QuAQ+JfYwyBq7BBC/6hwQekqI9ELoEPCTmGGUOXAMHL8/xNgL9QwIPSbseCF0CHhI+RhUC1zDahdCr2D8aAQ+J64HQJeAh8S5AvrJP9fT2Z3daYaXq66kp9ykr+3pUrVbLqkf1NVbxsmjWv6n1N7Bqxp3q7Wzf23fOsPbNUHfqHW+rO2fkjz+kvlEQupyMQf+QwEPSrgdCl4BHDo9wvdfhthu6/b2q1turenv6KH5z+nuHB3G7LJplwrQOh/CsRcNvGziI86BdpGYNhbEkFLzoHxJ4SNr1wCLmVPCoV8MFyK3Q5eAcGq0GErS/tz6KNf/WqY9+Gz1XHFvX8NHw8NA9j6KUkSPa9d301XDomscPZyQLoVelf5iCh6x2PSo70v3lL3+pdthhB7XzzjurHXfcUf8bqp122kmXb5+pZsfg2m677bzbTcXy6OnpUZMnT1bPPPNM1joehkK3f9jodRj8WPMYMUKm59Z66b/ZvRGOeodNLwyNXGWgDhv1LjqPHhsOXMNHH32k23HKlCm6fareP9xqxWPq1KnqwgsvzFp0OKnnh027HpUNXe4U/OmqF198UT377LP631A999xzunz7TDU7Btf8+fO9203F9OBP3TR6M8kOTzEv60lNOW/LlQetDT+uxxnGjmSkq8PUM6qV0wo8CvZPK7jwFMvtt98+1DboH7Ja8Zg3b57adNNNsxYdTur5YdOuR2VDl0d3L730kr4d08MmtkejN5PkiNXA0wVuKMrRLDMUrvYI2Pvc1vCFrg7Xt+9Uhwy9qdZ6yNr4rtpA/5C04sF/km+++ebZluFUrT1sD4QuEdPDphs8gsE7FLocqtZI1A1i/QaaG855ENujYHeU2yqtXr0gr1JoHsKhy+TQPySteCB0c1wPhC4R08OmWzz+/Oc/N55qKCGNrktG/5C04oHQzXE9ELpETA+bbvJoONVQMpotyI7+IWnFA6Gb43ogdImYHjbd5lGF4OUR7o033pjd84P+IWnFA6Gb43rUzAa7+MXG5dtniq878223i9eQ9G031ewYY+nBl70sXrxY347pYVc3erz77rulDV4O3N/85jdJnhdfdZPH8uXL1YQJE7z7uarWHrYHQpdux/Swq1s9yhi8JnD5/y/V8+JWN3kgdPNyPTC9QMT0sOlmD+40ZQle902zlM+LTTd5YHohx/WobOjyp2aWLFmib8f0sOl2jzIEr+8qhdTPi6GbPBC6Oa4HQpeI6WGTgkfKwesLXKYM54XpJg+Ebo7rgdAlYnrYpOKR4hxvKHCZspyXbvJA6Oa4HghdIqaHTUoeKQVvo8BlynReusUDoZvjeiB0iZgeNql5pDDVcPjhhzcMXKZs56URnfJA6Oa4HghdIqaHTYoe3Ry8PMK94447snthynheQnTKA6Gb43pUdhFzXtpx0aJF+nZMD7tS9ejGtRp4hMuBW+Xz4qtOefBSoZtttpl3P1fV2sP2wEiXiOlhk7JHN4147Tncqp8Xl055cFBhpFvH9UDoEjE9bFL36Ibgdd80w3mRdMoDoZvjelQ2dPljwC+//LK+HdPDpgweMYPXd5UCzoukUx4I3RzXA6FLxPSwKYtHjOANXRaG8yLplAdCN8f1QOgSMT1syuTRyTfXQoHL4LxIOuWB0M1xPRC6REwPm7J5dGLE2yhwGZwXSac8ELo5rgdCl4jpYVNGj7EMXg5cXp6xETgvkk55IHRzXA+ELhHTw6asHmMRvCZwcV5yuskDoZvjetT4gG7xor1cvn2muFF92+3iC6R92001O8ZYekyaNEk99thj+nZMD7vK7LFs2TK13nrrZd1udPB3mvFX7KTcHr4qk8fChQvV+PHjvfu5qtYetgdGukRMD5uyexQx4rXncFNvD5cyeXAQYaRbx/VA6BIxPWyq4DGa4HXfNCtDe9iUyQOhm+N6VDp0X3nlFX07podNVTxGEry+qxTK0h6GMnkgdHNcD4QuEdPDpkoeHLytzvH6ApcpU3swZfJA6Oa4HghdIqaHTdU8+M21ZiPeUOAyZWuPMnkgdHNcD4QuEdPDpooejaYami1AXsb2aERKHgjdHNcDoUvE9LCpqocveHmE22wB8rK2R4iUPBC6Oa5HZRcx33777dVzzz2nb8f0sKvKHvZaDa0uQF7m9vBVSh58bSsWMa+X64GRLhHTw6bqHh999JH+0Mozzzyj71e9PVxS8uCgwki3juuB0CVietjAQwIPSUoeCN0c1wOhS8T0sIGHBB6SlDwQujmuR2VDd4cddkDoBoCHBB6SVjwQujmuB0KXiOlhAw8JPCQpeSB0c1wPhC4R08MGHhJ4SFLyQOjmuB4IXSKmhw08JPCQpOSB0M1xPWpmg118sTqXb58pvu7Mt90uXkPSt91Us2OMpQdfp/viiy/q2zE97IKHLHjISslj+fLlasKECd79XFVrD9sDoUu3Y3rYBQ9Z8JCVkgdCNy/XA9MLREwPG3hI4CFJyQPTCzmuB0KXiOlhAw8JPCQpeSB0c1wPhC4R08MGHhJ4SFLyQOjmuB6VDd2pU6eqpUuX6tsxPWzgIYGHJCUPhG6O64HQJWJ62MBDAg9JSh4I3RzXA6FLxPSwgYcEHpKUPBC6Oa4HQpeI6WEDDwk8JCl5IHRzXI/KLmK+3XbbqcWLF+vbMT3sgocseMhKyQOLmOflemCkS8T0sIGHBB6SlDw4qDDSreN6IHSJmB428JDAQ5KSB0I3x/VA6BIxPWzgIYGHJCUPhG6O64HQJWJ62MBDAg9JSh4I3RzXA6FLxPSwgYcEHpKUPBC6Oa5HZUOXVxnjd1iZmB428JDAQ5KSB0I3x/VA6BIxPWzgIYGHJCUPhG6O64HQJWJ62MBDAg9JSh4I3RzXo8YHdIsX7eXy7TPFjerbbheHmm+7qWbHGEuPrbfeWvX39+vbMT3sgocseMhKyWPhwoVq/Pjx3v1cVWsP2wMjXSKmhw08JPCQpOTBQYSRbh3XA6FLxPSwgYcEHpKUPBC6Oa4HQpeI6WEDDwk8JCl5IHRzXA+ELhHTwwYeEnhIUvJA6Oa4HghdIqaHDTwk8JCk5IHQzXE9Khu6U6ZMUcuWLdO3Y3rYwEMCD0lKHgjdHNcDoUvE9LCBhwQekpQ8ELo5rkdlFzHfdttt1QsvvKBvx/SwCx6y4CErJQ+eusMi5vVyPTDSJWJ62MBDAg9JSh4cVBjp1nE9ELpETA8beEjgIUnJA6Gb43ogdImYHjbwkMBDkpIHQjfH9ahs6PIXUy5fvlzfjulhAw8JPCQpeSB0c1wPhC4R08MGHhJ4SFLyQOjmuB4IXSKmhw08JPCQpOSB0M1xPRC6REwPG3hI4CFJyQOhm+N61MwGuwYHB3X59pni68582+3iNSR92001O8ZYevB1uq+88oq+HdPDLnjIgoeslDx4QDNhwgTvfq6qtYftUenQ5S+m5NsxPeyChyx4yErJA6Gbl+tR6emFV199Vd+O6WEDDwk8JCl5YHohx/VA6BIxPWzgIYGHJCUPhG6O64HQJWJ62MBDAg9JSh4I3RzXA6FLxPSwgYcEHpKUPBC6Oa4HQpeI6WEDDwk8JCl5IHRzXA+ELhHTwwYeEnhIUvJA6Oa4HpUN3cmTJyN0A8BDAg9JKx4I3RzXo7KLmG+zzTbqpZde0rdjetgFD1nwkJWSBxYxz8v1wEiXiOlhAw8JPCQpeXBQYaRbx/VA6BIxPWzgIYGHJCUPhG6O64HQJWJ62MBDAg9JSh4I3RzXA6FLxPSwgYcEHpKUPBC6Oa4HQpeI6WEDDwk8JCl5IHRzXI/Khi6vMrZixQp9O6aHDTwk8JCk5IHQzXE9ELpETA8beEjgIUnJA6Gb43ogdImYHjbwkMBDkpIHQjfH9ajxAd3iRXu5fPtMcaP6ttvFF0j7tptqdoyx9Nhiiy3UggUL9O2YHnbBQxY8ZKXksXDhQjV+/Hjvfq6qtYftgZEuEdPDBh4SeEhS8uAgwki3jutRqdC98cYb1UMPPaRvm9DluuCCC9T777+vt/soa3uEgIcEHpLQMT744AP1s5/9TC1ZskSE7mOPPaauvfZa9dlnn+n7TBXaw+B6VCp0zzrrLLXqqqvqqQX+02ePPfZQq622mho3bpzeH6Ks7RECHhJ4SBodY9NNN1Vf+tKX1He+8x31b//2b2qrrbbSr7mTTjope0SdqrQH43pUbnqBQ7ZWq+mOwP+uueaa6oEHHsj2+ilze/iAhwQekkbH4PdJVl99df3a+uIXv6j/5dec61WV9mBcj8qFLk8lrLLKKrozcPFv4hgePuAhgYckFQ+eujOvL36tnX322dmenCq1h+tRyTfSzGh3jTXW0PNNsTxc4CGBhyQVjyeeeGLoNcb/fvzxx9menCq1h+tRydA9//zz1ec//3m19dZb6/uxPFzgIYGHJCUPHu3ya2zmzJnZVknV2sP2qOwi5l/5ylfUk08+qW/H9LALHrLgISslj2eeeUb90z/9k74qyPeYqrWH7dHxke7Pf/5zNXXqVLXzzjurnXbaSf8bqp6eHl2+faaaHYNr++239243lbrHUUcdpd577z3dviM9LzbNjjGW/cMGHpJWPD788EN15JFHDusjpvB6kdWKx5QpU9R5552XtfJw2u0fHQ1d/o3Bl2u9+OKLqILqwQcf1F+LYujUi3ss+ocLPCSteNx0003q8MMP9/YV1MjqoosuUkcffXTWysNpt390NHSvvPLKhr8xQPu4bdqpF/dY9A8XeEha8TjggAPUww8/nG0BRdCsTdvtHx0N3V133VUtXrw4uweKwG3TTr24x6J/uMBD0uwY7777rtpggw2ye6AIBgcH1XrrrZfd89Nu/+hY6PLUgrlaABSDr0078eIei/7hAx6SZsfgqYUTTjghuweK4LbbbtNz5I1ot390LHQxtVA8vjbtxIt7LPqHD3hImh0DUwvFM23aNDVnzpzsnp92+0fHQhdTC8Xja9NOvLjHon/4gIek0TH4z2BMLRSLadOi+0fNbLCLfxiXb58pvu7Mt90uXkOS/12+fDmmFgqGpxb4I8xum7dzXkLV7BhF949QwUNWo2NgaqF4eGrh+OOPL7x/dCR0+drcWbNmZf8roAiuuOIKdc455wxr87F+cXMV3T9CBQ9ZjY6BqYXi4akFXgyr6P7RkekFTC0UT6hNx/rPWKbo/hECHpLQMfgFjamFYrHbtOj+Meahi6sWiqdRm47li9tQZP9oBDwkoWPwn8GYWigWu02L7h9jHrq4aqF4GrXpWL64DUX2j0bAQxI6Bv8ZjKmFYrHbtOj+Meahi6mF4mnUpmP54jYU2T8aAQ+J7xiYWiget02L7h9jGrp/+MMfMLVQMM2ma8bqxW1TVP+Ah2QkHrNnz1Y/+tGPsnugCLhN7emapEKX163F1EKx8FULjdp0rF7cNkX1D3hIRuJx4IEHDn3ZKigGblN7uiap0OVl0zC1UCzNpmvG6sVtU1T/gIekXQ++j6mFYvG1aeGhy09wi6874/LtM9Vs4d6lS5eqiRMnZj8GFAFPLWy55Zbe9jZV5cWhfVVmD/5ABF+8D4qDpxaOOeYY0c5F948xG+nyO+znnntudg8UgflARCOanRcGI0xJqh6YWigeX5sWPtLN/hUU0Ylw1ULxcJs+++yz2T0/Y/HidimifzDwkLTjwbcxtVAsoTZNInR5OI6rFoqF29SstdCIZh2AQdhJUvTAVQvFE2rTJEIXH4goHm5Ts9ZCI4p+cfsYbf8wwEPSjsdBBx2k5s2bl90DRRCarkkidDG1UDxmaqHTL24fo+0fBnhIWvXgfzG1UCyN2rTrQxdTC8Vj2nQ058UGYSdJzQNTC8XTqE27PnRHPrWwUvX11FStZlev6s/25vSr3p4+enSYlX19w563sq9H9fbzz+hRffTk/l73Z9W3++Hn+VwakXn296pab3vPdDFtOprzYoOwk6TmMeqphZV9qkf0fSpvHx3Za62/l19L9Fx+/XL/d38W1WheEu5ruQgaXQnS9aE78qmF4cHGjdvTdqv6A7J+okyHyP9tjVGELnfwUYauadPRnBcbhJ0kJQ+uUU8tDOuTIw0w/+ui/tpy943kNeTHfS2PlmZtWnjo8gHd4kV7uXz7TPGfvO42XmuBL94fGcNPylDo0m/LHuoU9d+Q5rdvvaP0DI2O68/l5+j77m/o/r4sbOuPC54wZxRQ75uWm/jNbXz5t7q7jZ7TR7foeL2j6BnczvwhE27fkZ4XtwYGBrzbTTU7BjxkddLjmmuuUccdd1zWO0ZIg9DVrzn9WuP7I3ut1Ue/9Jxee7v1GtLwsemY/HxyMUGqsf3s19vQNvlaHi08tXDEEUd425yr6P5R6Eh3dFct8EnJGteUOZniT3S7I+R/pvB0Qf22e3L9uNMLZkS9kkJ9qKMM/dz8mL6wzn82wR3GDfxRYLfpSM+LC5/4RrT7m9sHPCRFeRRy1YIzsBD93wx0NMW81uq4j+WBSn7fH7rDH9P+X77NafYhk6L7R6GhO7qrFhqcQB7pejuC76S11hHCf5rw860OqQ9qHVN0WN7mPH5oezHYbTrS8+KCsJOk4vHOO++o9ddfP7s3CuyRpIMIP+rFRbzW6riPNceu4w1dzy+HfPBVDHxemk3XdG3o8hB7dFctNDiBHQxdsd0z0rXhn8leYqRbIG6bjuS8+EDYSVLx4LUWCrlqoUtDd+g1PvS6o8cUOIDx0cqVIF0buqObWmAanMC2Q7f5aDMUunyc/Ldq77CfJaclzM/gzmFttzrTaHDbdCTnxQfCTpKKB3/5ZCEfiCg0dO3XQSPkMfJjZ9ijWp7rNRIcwNZrK8+BYpg+fXrT9Su6NnRHN7UAfLhtOpLz4gNhJ0nB48MPP1Trrbdedg8UAZ+TVqZrujJ0Rz+1AFx8bdrueQmBsJOk4MF/BmMZx2LhNuVlHJvRlaE7+qkF4OJr03bPSwiEnSQFD6y1UDx81cLvfve77F6YwkOXn+BWu4syf+tb38LUQsHw1MKCBQtEm7d7XkLFo2jfdlPtLsrsK3jIGo0HX7WAqYVi4XblqYUY/WPUI10WwtRCsYTatJ3z0giMMCXd7jFnzhxMLRSMuWohRv8YdehiaqF4Qm3aznlpBMJO0u0emFooHvOBiBj9Y9Shi6sWiifUpu2cl0Yg7CTd7DE4OFjMByLAEHwuzAciYvSPUYUuphaKp1GbtnpemoGwk3Szx2233YaphYKxPxARo3+MKnQxtVA8jdq01fPSDISdpJs9pk2bhqmFgrHXWojRP0YVuphaKJ5GbdrqeWkGwk7SrR48tTDqZRyBgM+D3aYx+seIQ3fp0qWYWiiYZtM1rZyXGJ3IBzwkI/HgqYUTTjghuweKwF1rIUb/qJkNdvFvWC7fPlOXXnqpmjVrVnYYUARXXHHF0JdP+qqV88LXA/q228Vre/q2m2p2DHjIGisPXmvh4YcfznoHKAJea+H+++8fauMY/WPEobvzzjtjaqFgdtlll6Evn/RVK+cl5ZBxq8oe7777LqYWCoZHpHwliN3mMfrHiKYX+M/grbbaKrsHiqCVNm12XpgYfy75gIekXQ9MLRSPO7XAxOgfIwpdfocdUwvFwm06c+bM7J6fZueFSTVkfFTZg69awNRCsfjaNEb/GFHo4qqF4uE25bUWGtHsvDCphoyPqnrwn6KYWiiWUJvG6B9thy4+EFE8pk07/eIOAQ9Jpz0wtVA8oTaN0T/aDl18IKJ4TJt2+sUdAh6STntgaqF4Qm0ao3+0HbqYWige06adfnGHgIekkx6YWiieRm0ao3+0FbqYWigeu007+eJuBDwknfTA1ELxNGrTGP2jrUXMf/azn+GqhYLhD0TwVQvcvrEXyzYFD1md9Nhvv/0wtVAwPLXw+9//3tvmMfpHWyNdXtdz22231R+M6Onp0f82qp122sm73VSzY/D+Vh7j226Xz2Pq1KlDz43pseOOO6rXXntNty+fkEaEzotNs2MwGGFKusWD+wFfq+32EVMx+6ldrXrwa8y3n6tTHnwMnr4LEaN/tBW6/CmZF198URd/csrcDtX8+fO92001O8Zzzz2ny7fP1Eg9+E/6uXPn6tsxPfjTLoZOvbgRdpJu8njjjTeG9RFTMfupXa148Mpo//7v/+7dz9UpDy4eiYaI0T/afiPNkFpnduHfhHximJgeNvCQwEOSkgf/Sb755ptnW4ZTtfawPRC6REwPG3hI4CFJyQOhm+N6IHSJmB428JDAQ5KSB0I3x/VA6BIxPWzgIYGHJCUPhG6O64HQJWJ62MBDAg9JSh4I3RzXA6FLxPSwgYcEHpKUPBC6Oa5HjQ/oFl/GxOXbZ4ob1bfdroGBAe92U82OMZYeU6ZM0Zek8O2YHnbBQxY8ZKXksXDhQjV+/Hjvfq6qtYftgZEuEdPDBh4SeEhS8uAgwki3juuB0CVietjAQwIPSUoeCN0c1wOhS8T0sIGHBB6SlDwQujmuB0KXiOlhAw8JPCQpeSB0c1wPhC4R08MGHhJ4SFLyQOjmuB4IXSKmhw08JPCQpOSB0M1xPRC6REwPG3hI4CFJyQOhm+N6tLWIuV0xFv/11Ug9eB3bZ555Rt+O6WEXPGTBQ1ZKHnxt62abbebdz1W19rA9MNIlYnrYwEMCD0lKHhxUGOnWcT0QukRMDxt4SOAhSckDoZvjeiB0iZgeNvCQwEOSkgdCN8f1QOgSMT1s4CGBhyQlD4RujuuB0CVietjAQwIPSUoeCN0c1wOhS8T0sIGHBB6SlDwQujmuB0KXiOlhAw8JPCQpeSB0c1yPmtlg1+DgoC7fPlN83Zlvu128hqRvu6lmxxhLD/5O/EWLFunbMT3sgocseMhKyWP58uVqwoQJ3v1cVWsP2wOhS7djetgFD1nwkJWSB0I3L9cD0wtETA8beEjgIUnJA9MLOa4HQpeI6WEDDwk8JCl5IHRzXA+ELhHTwwYeEnhIUvJA6Oa4HghdIqaHDTwk8JCk5IHQzXE9ELpETA8beEjgIUnJA6Gb43ogdImYHjbwkMBDkpIHQjfH9UDoEjE9bOAhgYckJQ+Ebo7rgUXM6XZMD7vgIQseslLywCLmebkeGOkSMT1s4CGBhyQlDw4qjHTruB4IXSKmhw08JPCQpOSB0M1xPRC6REwPG3hI4CFJyQOhm+N6IHSJmB428JDAQ5KSB0I3x/VA6BIxPWzgIYGHJCUPhG6O64HQJWJ62MBDAg9JSh4I3RzXA6FLxPSwgYcEHpKUPBC6Oa4HQpeI6WEDDwk8JCl5IHRzXI8aH9AtXrSXy7fPFDeqb7tdfIG0b7upZscYS48pU6ao+fPn69sxPeyChyx4yErJY+HChWr8+PHe/VxVaw/bAyNdIqaHDTwk8JCk5MFBhJFuHdcDoUvE9LCBhwQekpQ8ELo5rgdCl4jpYQMPCTwkKXkgdHNcD4QuEdPDBh4SeEhS8kDo5rgeCF0ipocNPCTwkKTkgdDNcT0QukRMDxt4SOAhSckDoZvjeiB0iZgeNvCQwEOSkgdCN8f1wCLmdDumh13wkAUPWSl58LWtWMS8Xq4HRrpETA8beEjgIUnJg4MKI906rgdCl4jpYQMPCTwkKXkgdHNcD4QuEdPDBh4SeEhS8kDo5rgeCF0ipocNPCTwkKTkgdDNcT0QukRMDxt4SOAhSckDoZvjeiB0iZgeNvCQwEOSkgdCN8f1QOgSMT1s4CGBhyQlD4RujutRMxvsGhwc1OXbZ4qvO/Ntt4vXkPRtN9XsGGPp0dPToxYtWqRvx/SwCx6y4CErJY/ly5erCRMmePdzVa09bA+ELt2O6WEXPGTBQ1ZKHgjdvFwPTC8QMT1s4CGBhyQlD0wv5LgeCF0ipocNPCTwkKTkgdDNcT0QukRMDxt4SOAhSckDoZvjeiB0iZgeNvCQwEOSkgdCN8f1QOgSMT1s4CGBhyQlD4RujuuB0CVietjAQwIPSUoeCN0c1wOhS8T0sIGHBB6SlDwQujmuBxYxp9sxPeyChyx4yErJA4uY5+V6YKRLxPSwgYcEHpKUPDioMNKt43ogdImYHjbwkMBDkpIHQjfH9UDoEjE9bOAhgYckJQ+Ebo7rgdAlYnrYwEMCD0lKHgjdHNcDoUvE9LCBhwQekpQ8ELo5rgdCl4jpYQMPCTwkKXkgdHNcD4QuEdPDBh4SeEhS8kDo5rgeCF0ipocNPCTwkKTkgdDNcT1qfEC3eNFeLt8+U9yovu128QXSvu2mmh1jLD2mTJmi5s+fr2/H9LALHrLgISslj4ULF6rx48d793NVrT1sD4x0iZgeNvCQwEOSkgcHEUa6dVwPhC4R08MGHhJ4SFLyQOjmuB4IXSKmhw08JPCQpOSB0M1xPRC6REwPG3hI4CFJyQOhm+N6IHSJmB428JDAQ5KSB0I3x/VA6BIxPWzgIYGHJCUPhG6O64HQJWJ62MBDAg9JSh4I3RzXA4uY0+2YHnbBQxY8ZKXkwde2YhHzerkeGOkSMT1s4CGBhyQlDw4qjHTruB4IXSKmhw08JPCQpOSB0M1xPRC6REwPG3hI4CFJyQOhm+N6IHSJmB428JDAQ5KSB0I3x/VA6BIxPWzgIYGHJCUPhG6O64HQJWJ62MBDAg9JSh4I3RzXA6FLxPSwgYcEHpKUPBC6Oa5HzWywa3BwUJdvnym+7sy33S5eQ9K33VSzY4ylR09Pj1q0aJG+HdPDLnjIgoeslDyWL1+uJkyY4N3PVbX2sD0QunQ7podd8JAFD1kpeSB083I9ML1AxPSwgYcEHpKUPDC9kON6IHSJmB428JDAQ5KSB0I3x/VA6BIxPWzgIYGHJCUPhG6O64HQJWJ62MBDAg9JSh4I3RzXA6FLxPSwgYcEHpKUPBC6Oa4HQpeI6WEDDwk8JCl5IHRzXA+ELhHTwwYeEnhIUvJA6Oa4HljEnG7H9LALHrLgISslDyxinpfrgZEuEdPDBh4SeEhS8uCgwki3juuB0CVietjAQwIPSUoeCN0c1wOhS8T0sIGHBB6SlDwQujmuB0KXiOlhAw8JPCQpeSB0c1wPhC4R08MGHhJ4SFLyQOjmuB4IXSKmhw08JPCQpOSB0M1xPRC6REwPG3hI4CFJyQOhm+N6IHSJmB428JDAQ5KSB0I3x/Wo8QHd4kV7uXz7THGj+rbbxRdI+7abanaMsfSYMmWKmj9/vr4d08MueMgKHYOfxx9seeihh9RvfvMbdfvtt6t7771XPfroo+q5557TC2ibx1ahPUx1k8fChQvV+PHjvfu5qtYetgdGukRMDxt4KP3Jnccff1xdccUV6pRTTlH777+/2m233dSkSZPUJptsor72ta+pcePGqS233FJ/+8f3v/99deqpp6rvfve7aocddtCjq/XXX1+ts846atNNN1WTJ09W3/nOd9S0adNUb2+v+tWvfqWeffZZ9fHHH2c/EefFpQgPDiKMdOu4HghdIqaHTdU8li1bpp544gl11VVXqaOPPloHKwfqPvvso8477zx1//33q0ceeUSPXlesWKE/bvnpp59mz24M+7399tv6Z3DIPvzww2ru3LnqjDPO0CG89tprq5122kmddNJJ6vLLL1eLFy/Onjmcqp2XIjwQujmuB0KXiOlhUwUPnhbgEed2222nR6R77bWXOvfcc3UgcrB2kpdeekndeuutekS96667qrXWWkt973vfUxdffLGeojBU4bzYFOGB0M1xPRC6REwPm7J68JzYhRdeqLbaaiu1xx57qFtuuUWEWjfBfeKnP/2pnpbgIL722mvVH//4x2yvn1TPS4giPBC6Oa4HQpeI6WFTJo/XXntNXX311bqd+U3Lyy67rGl4dRs85TBz5kw9l7zffvup2bNni7lgQ0rnpVMeCN0c1wOhS8T0sCmDB8/BHnDAAfpNrHPOOUe98MIL2Z604Ssjjj/+eD0XzNMRPFdsSOG8GDrlgdDNcT0QukRMD5uUPZYsWaJHgxy4/OZYmeE3+Hj0zm/C8dUW3XxeXDrlgdDNcT2wiDndjulhV4oePGXwgx/8QLcnjwarBL8Jt+GGG+o3AtE/8mIHnsfHIub1cj0w0iVietik5sGXdfEF8HPmzMn2VBOer15vvfXUDTfckG0ZTtX6BwcVRrp1XA+ELhHTwyYVj+uvv17967/+q7ryyiuzLeDDDz9Up512mtp66631J+VcqtQ/2AGhm+N6IHSJmB42KXgcfvjh6tJLL1WffPJJtgXYvP766zp8uY1sqtI/GHZA6Oa4HghdIqaHTTd7fPDBB2qbbbbRaxyA5lxyySVqxowZ2b3y9w8bdkDo5rgeCF0ipodNt3osWLBAv2HE196C1uGrHCZOnDj0RkszUu0fLuyA0M1xPRC6REwPm270uO666/RiMmBk8OpSG2+8sZo3b162JUyK/cMHOyB0c1wPhC4R08Om2zxOOOEEddZZZ+nbYHTsvffeTa/ySK1/hGAHhG6O61EzG+waHBzU5dtniq878223i3/L+7abanaMsfTgZQEXLVqkb8f0sKubPPiNoFmzZmXdBBQBvwnJ6//62pwrpf7h226KHXhtjQkTJnj3c3XKo1vaw/ZA6NLtmB52dYsHr7J1/vnnZ1EBimTffffVl5T52j2V/tGKB0I3L9cD0wtETA+bbvDgtRP447xg7OA5Xn5zzSWF/sG04oHphRzXA6FLxPSwie3BQcCBAMYWDiT+EIVLt/cPQyseCN0c1wOhS8T0sIntwevdprb8Yqrcc8896ogjjsju1en2/mFoxQOhm+N6IHSJmB42MT04ADgIQOfgtSv4u+AM3dw/bFrxQOjmuB4IXSKmh00sjzvvvFN/dxjoPHwp2SuvvKJvd/PrxaYVD4RujuuB0CVietjE8uAvaOT1cEHnue2229SJJ56ob3fz68WmFQ+Ebo7rgdAlYnrYxPAw3/QA4rHRRhupd999t6tfLzateCB0c1wPLGJOt2N62BXDg7+N9/HHH8+6A4jBz3/+c70Qeje/XuxqxQOLmOflemCkS8T0sOm0B39/GbcDiAt/2SV/91o3v15sWvHgoMJIt47rgdAlYnrYdNrj6KOPVnPnztW3QVzOPvtsvRxkI1LqpwjdHNcDoUvE9LDppMcbb7yBudwu4q233mq6mltK/RShm+N6IHSJmB42nfTAG2jdB69ZzHN/IVLqpwjdHNcDoUvE9LDppMevfvUrXJvbZeyyyy5q8eLF2b3hpNRPEbo5rgdCl4jpYVO0R+ibHtiD18nlBcpB98BfZc9LP4bglbsa0U39FKGb43ogdImYHjZFe/DSeptuuqmeSrBhj2nTpqn58+dnW7qY/l5Vq9Vk9fSpxi2Z09/bo/pafXBk+I009wstGf4AxT/+4z8OW6vBpZv6KUI3x/VA6BIxPWyK9rjrrrvUX//1X6svf/nL+ru6TPiyB3/JZBLfeUah2zOK1EwpdPl8HXPMMdk9pW699Va11lprqS984QtqjTXWGOqvIbqpnyJ0c1yPGh/QLV60l8u3zxQ3qm+7XXyBtG+7qWbHGEsPXlrvwgsv1B37pptu0v+G6uabb9bl22eq2TG4rr/+eu92U2Ph8Q//8A9DI8TVV19dj3z5MfxiToJg6K5UfT09qqfHjIB7Vb/Z09cztK03odB97rnn9OL6V199tfrnf/5n9Td/8zfZ/0dN/5JMqZ/yQj78xqD7ujOVen7Y1a5HZUe6d999tzrwwAP112Sbf0N18MEH6/LtM9XsGFz8rQG+7abGwmODDTYYeuFyrbbaavrPVF5vIQk80wv1EObQraneLGn7e7PbK/souMz0Q7/qraUTuvyXB182xueGz5P5//2rv/orvexmSv10+vTpOnxDpJ4fNu16VDZ0bcrqwatX/f3f/71+4f7d3/2d2n///dWyZcu0x/jx49Vf/vKX7JFdTMORrhzd6tDlkDZJTKQ0vfDAAw/owGL4o9n81xhPK/D543/L2k9DlNUDoUuU1YMvQfrbv/3bobA1sMcee+yh157oetoNXTHSrU9BpBK611xzjert7c3u1env79fh+8UvfrHpJX6p9tMQZfVA6BJl9ODH8dycHbYG9jj++OPV7Nmzsy1djGd6oT5/Gwjd7Hb9cTznm07onnrqqaqvry+7J+GR7+23357d85NiP21EWT0QukQVPS6//HL1k5/8JNsCuoF99tlHj2xDVLGfNiJVD4QuUUUP/mqeI488MtsCugG+xIrXxAhRxX7aiFQ9ELpEFT2ef/55PdcLugM+r3yFwieffJJtGU4V+2kjUvWo7CLmdlXVY8qUKWrp0qVZVwAx4U+d8V8e7rmyq6r9NFSpemCkS1TVg99I4zfUQHz4F+ATTzyR3fNT1X4aIlUPhC5RZY9krtctMfPmzdMfOEA/lZTVA6FLVNnjqquuUrNmzcrugRh8//vfV08++ST6qUNZPRC6RNU9klmHoYTwegu77babvo1+KimrB0KXqLoHj3R5xAs6D795xuuAMOinkrJ6IHSJqnvwt9FOnjy54eVKoHj4sr2DDjoou4d+6lJWD4QuAQ+llixZks7KYyWAz+PXv/717F4d9FNJWT1qZoNdg4ODunz7TPF1Z77tdvEakr7tppodAx6yxtqD10k94YQTsq4BxpIdd9xRj3Tt9kc/lVVWD4QuFTzy4kVX+Esrwdjxox/9SK8167Y9+qmssnpgeoGAh4TfTX/22Weze6BIGn0LM/qppKweCF0CHhI+Bs83NvtZoD34KoXdd989uzcc9FNJWT0QugQ8JHwMvpLhX/7lX5p+GSJojTvvvFN/6qwR6KeSsnogdAl4SOxj8CLgzRbPBo0599xz1dFHH53dC4N+KimrB0KXgIfEPQa/8XP22Wdn90A78MLk/MGTMvcPF3hIXA+ELgEPie8Y1113nV4jALQGL0a+ySab6K/ZYcreP2zgIXE9ELoEPCShY/CiLOPGjVPLly/PtgAfjzzyiNpiiy30OquGKvQPAzwkrgcWMaeCh6xGx3jzzTfVAQccoNfh5ceBnBdeeEHttdde+gMmbrtVpX9wwUOW64GRLgEPSSset956q/7zGV9uqdRbb72lfvjDH6pvfetbwYXIq9Y/4JHjeiB0CXhI2vH4xS9+odZZZ53KfoqNr0z45je/qe64445si5+q9o8QVfZA6BLwkLTrwbfPPPNMteWWW6p7770321purrnmGr0O8dVXX92158UHPCQxPBC6BDwkI/Xgz6gfccQRavvtt1cXXXSRWrZsWbanHDz99NN6bQr+mDSPcA3dfl5s4CGJ4YHQJeAhGa3H66+/ri6++GL9ZYs8z8mjwrfffjvbmxavvPKKOv/889XEiRPVnnvuqfr6+vSbIjapnBcGHpIYHghdAh6SIj14+cLe3l616aab6g8K8FeNN3tubPgKDf5AA68vPHXqVHXppZfqUXyIFM9LI+AhKdoDoUvAQzJWHvxBAb6cyowazzrrLHXXXXdFv+538eLFegR70kknqe9973tqwoQJ+iuMXnrpJb2/7OfFBR6Soj0QugQ8JGPt8dlnn+n5UZ6COOaYY9R2222nNthgA/2Jt3POOUfNnTtXrVixInt0sXCQ8uVuPDe766676jfDdthhB3XKKaeoW265RY/MXapyXgzwkBTtUeMDusV/SnH59pniC4Z92+0aGBjwbjfV7BjwkFVmD37TjZc+5Ot++XvD+EqIb3/723rUyX/i88iYtx933HF6hMx/8vNHk+fMmaPmzZunpy147pjfwDv99NP1dbPTpk3Tx+BQ5+kNni7geeajjjpKXX755fp5roevqnxefAUPWe16YKRLwEPSLR785huvYfDyyy+rp556Sj3wwANq9uzZOmwvueQSfZkaj5R5lHriiSfquePLLrtMXzPM0xYcqjylsXTpUj1Py1/A6QPnRQIPSdEeCF0CHhJ4SOAhgYekXQ+ELgEPCTwk8JDAQ9KuB0KXgIcEHhJ4SOAhadcDoUvAQwIPCTwk8JC064HQJeAhgYcEHhJ4SNr1QOgS8JDAQwIPCTwk7XpgEXMqeMiChyx4yIKHrHY9MNIl4CGBhwQeEnhI2vVA6BLwkMBDAg8JPCTteiB0CXhI4CGBhwQeknY9ELoEPCTwkMBDAg9Jux4IXQIeEnhI4CGBh6Q9D6X+H2/is8y5tCa2AAAAAElFTkSuQmCC)"
      ]
    },
    {
      "cell_type": "code",
      "metadata": {
        "colab": {
          "base_uri": "https://localhost:8080/"
        },
        "id": "r01OffLg9Lnl",
        "outputId": "c003d0a0-8e20-4d49-b78f-0f60fc748fb1"
      },
      "source": [
        "#6\n",
        "A6 = np.zeros(A.shape)\n",
        "A6"
      ],
      "execution_count": 91,
      "outputs": [
        {
          "output_type": "execute_result",
          "data": {
            "text/plain": [
              "array([[0., 0., 0.],\n",
              "       [0., 0., 0.],\n",
              "       [0., 0., 0.]])"
            ]
          },
          "metadata": {},
          "execution_count": 91
        }
      ]
    },
    {
      "cell_type": "code",
      "metadata": {
        "colab": {
          "base_uri": "https://localhost:8080/"
        },
        "id": "unNIgyRN9VMz",
        "outputId": "d8f559f6-7a56-4464-9528-5091133c9a9a"
      },
      "source": [
        "B6 = A.dot(np.zeros(A.shape))\n",
        "B6"
      ],
      "execution_count": 98,
      "outputs": [
        {
          "output_type": "execute_result",
          "data": {
            "text/plain": [
              "array([[0., 0., 0.],\n",
              "       [0., 0., 0.],\n",
              "       [0., 0., 0.]])"
            ]
          },
          "metadata": {},
          "execution_count": 98
        }
      ]
    },
    {
      "cell_type": "code",
      "metadata": {
        "colab": {
          "base_uri": "https://localhost:8080/"
        },
        "id": "vCsXofI69WOo",
        "outputId": "a9d99809-9b83-47b2-b955-61e19b76b2aa"
      },
      "source": [
        "np.array_equal(A6,B6)"
      ],
      "execution_count": 99,
      "outputs": [
        {
          "output_type": "execute_result",
          "data": {
            "text/plain": [
              "True"
            ]
          },
          "metadata": {},
          "execution_count": 99
        }
      ]
    },
    {
      "cell_type": "markdown",
      "metadata": {
        "id": "toYeSkZl9XW9"
      },
      "source": [
        "![6.PNG](data:image/png;base64,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)"
      ]
    },
    {
      "cell_type": "markdown",
      "metadata": {
        "id": "jBIktO2c9Z5f"
      },
      "source": [
        "CONCLUSION"
      ]
    }
  ]
}