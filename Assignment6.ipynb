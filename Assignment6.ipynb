{
  "nbformat": 4,
  "nbformat_minor": 0,
  "metadata": {
    "colab": {
      "name": "Assignment6.ipynb",
      "provenance": [],
      "authorship_tag": "ABX9TyMTGoclR7miSZeuQdGsx6eX",
      "include_colab_link": true
    },
    "kernelspec": {
      "name": "python3",
      "display_name": "Python 3"
    },
    "language_info": {
      "name": "python"
    }
  },
  "cells": [
    {
      "cell_type": "markdown",
      "metadata": {
        "id": "view-in-github",
        "colab_type": "text"
      },
      "source": [
        "<a href=\"https://colab.research.google.com/github/zacharydayne/Linear-Algebra/blob/main/Assignment6.ipynb\" target=\"_parent\"><img src=\"https://colab.research.google.com/assets/colab-badge.svg\" alt=\"Open In Colab\"/></a>"
      ]
    },
    {
      "cell_type": "markdown",
      "metadata": {
        "id": "HFSr8_1mEiGY"
      },
      "source": [
        "###Objectives\n",
        "At the end of this activity you will be able to:\n",
        "1. Be familiar with the fundamental matrix operations.\n",
        "2. Apply the operations to solve intermediate equations.\n",
        "3. Apply matrix algebra in engineering solutions."
      ]
    },
    {
      "cell_type": "markdown",
      "metadata": {
        "id": "O0TPVuc-HPht"
      },
      "source": [
        "##Discussion"
      ]
    },
    {
      "cell_type": "code",
      "metadata": {
        "id": "ngyn5Ve7EclG"
      },
      "source": [
        "import numpy as np\n",
        "import matplotlib.pyplot as plt\n",
        "%matplotlib inline"
      ],
      "execution_count": null,
      "outputs": []
    },
    {
      "cell_type": "markdown",
      "metadata": {
        "id": "c47Gs2fhHL9A"
      },
      "source": [
        "##Transposition"
      ]
    },
    {
      "cell_type": "markdown",
      "metadata": {
        "id": "0r3Ni-K4Hs8p"
      },
      "source": [
        "$$A = \\begin{bmatrix} 1 & 2 & 5\\\\5 & -1 &0 \\\\ 0 & -3 & 3\\end{bmatrix} $$"
      ]
    },
    {
      "cell_type": "markdown",
      "metadata": {
        "id": "9oh1HkqUHt8P"
      },
      "source": [
        "$$A^T = \\begin{bmatrix} 1 & 2 & 5\\\\5 & -1 &0 \\\\ 0 & -3 & 3\\end{bmatrix} $$"
      ]
    },
    {
      "cell_type": "code",
      "metadata": {
        "colab": {
          "base_uri": "https://localhost:8080/"
        },
        "id": "oi2MKAiwG-Yz",
        "outputId": "a55fd8b2-8acd-4d51-f6f8-909d82403a27"
      },
      "source": [
        "A = np.array([\n",
        "              [1,2,5],\n",
        "              [4,3,7],\n",
        "              [8,2,0]\n",
        "])\n",
        "A"
      ],
      "execution_count": 3,
      "outputs": [
        {
          "output_type": "execute_result",
          "data": {
            "text/plain": [
              "array([[1, 2, 5],\n",
              "       [4, 3, 7],\n",
              "       [8, 2, 0]])"
            ]
          },
          "metadata": {},
          "execution_count": 3
        }
      ]
    },
    {
      "cell_type": "code",
      "metadata": {
        "colab": {
          "base_uri": "https://localhost:8080/"
        },
        "id": "RXTI1JXSIa5n",
        "outputId": "6e0329af-7608-43d8-da99-a3af73b24078"
      },
      "source": [
        "AT1 = np.transpose(A)\n",
        "AT1"
      ],
      "execution_count": 4,
      "outputs": [
        {
          "output_type": "execute_result",
          "data": {
            "text/plain": [
              "array([[1, 4, 8],\n",
              "       [2, 3, 2],\n",
              "       [5, 7, 0]])"
            ]
          },
          "metadata": {},
          "execution_count": 4
        }
      ]
    },
    {
      "cell_type": "code",
      "metadata": {
        "colab": {
          "base_uri": "https://localhost:8080/"
        },
        "id": "pRY2KsXWIght",
        "outputId": "68b9bb4b-7578-4de0-939c-3b011f34f5e7"
      },
      "source": [
        "AT2 = A.T\n",
        "AT2"
      ],
      "execution_count": 5,
      "outputs": [
        {
          "output_type": "execute_result",
          "data": {
            "text/plain": [
              "array([[1, 4, 8],\n",
              "       [2, 3, 2],\n",
              "       [5, 7, 0]])"
            ]
          },
          "metadata": {},
          "execution_count": 5
        }
      ]
    },
    {
      "cell_type": "code",
      "metadata": {
        "colab": {
          "base_uri": "https://localhost:8080/"
        },
        "id": "gFpw55jNImEh",
        "outputId": "c48fca57-d44c-42e7-8af2-96a4700c5e43"
      },
      "source": [
        "np.array_equiv(AT1, AT2)\n"
      ],
      "execution_count": 6,
      "outputs": [
        {
          "output_type": "execute_result",
          "data": {
            "text/plain": [
              "True"
            ]
          },
          "metadata": {},
          "execution_count": 6
        }
      ]
    },
    {
      "cell_type": "code",
      "metadata": {
        "colab": {
          "base_uri": "https://localhost:8080/"
        },
        "id": "yWYWLU3jKxWa",
        "outputId": "e4b91fc8-ed16-458e-c9a2-aaadba6310b8"
      },
      "source": [
        "B = np.array ([\n",
        "               [1,2,3,4],\n",
        "               [1,0,2,1]\n",
        "])\n",
        "B.shape"
      ],
      "execution_count": 8,
      "outputs": [
        {
          "output_type": "execute_result",
          "data": {
            "text/plain": [
              "(2, 4)"
            ]
          },
          "metadata": {},
          "execution_count": 8
        }
      ]
    },
    {
      "cell_type": "code",
      "metadata": {
        "colab": {
          "base_uri": "https://localhost:8080/"
        },
        "id": "bVR2DEX1K0sw",
        "outputId": "2dceec66-1c80-412a-a597-6ee7b982a147"
      },
      "source": [
        "np.transpose(B).shape"
      ],
      "execution_count": 9,
      "outputs": [
        {
          "output_type": "execute_result",
          "data": {
            "text/plain": [
              "(4, 2)"
            ]
          },
          "metadata": {},
          "execution_count": 9
        }
      ]
    },
    {
      "cell_type": "code",
      "metadata": {
        "colab": {
          "base_uri": "https://localhost:8080/"
        },
        "id": "gM1iwWpALHx4",
        "outputId": "cbd79ba0-1556-470e-ff6e-1455232b3606"
      },
      "source": [
        "B.T.shape"
      ],
      "execution_count": 10,
      "outputs": [
        {
          "output_type": "execute_result",
          "data": {
            "text/plain": [
              "(4, 2)"
            ]
          },
          "metadata": {},
          "execution_count": 10
        }
      ]
    },
    {
      "cell_type": "markdown",
      "metadata": {
        "id": "KsUGf6OBLSs-"
      },
      "source": [
        "##Try to create your own matrix(you can try non-squares) to test transposition\n"
      ]
    },
    {
      "cell_type": "code",
      "metadata": {
        "colab": {
          "base_uri": "https://localhost:8080/"
        },
        "id": "8RzIMH3tLXxR",
        "outputId": "6f0a6e06-9c98-48af-a471-a28f6cf1a9b4"
      },
      "source": [
        "C = np.array ([\n",
        "               [1,4],\n",
        "               [5,4],\n",
        "               [9,3],\n",
        "               [1,3],\n",
        "               [5,9]\n",
        "])\n",
        "C.shape\n"
      ],
      "execution_count": 14,
      "outputs": [
        {
          "output_type": "execute_result",
          "data": {
            "text/plain": [
              "(5, 2)"
            ]
          },
          "metadata": {},
          "execution_count": 14
        }
      ]
    },
    {
      "cell_type": "code",
      "metadata": {
        "colab": {
          "base_uri": "https://localhost:8080/"
        },
        "id": "HV7K2P95Lzch",
        "outputId": "ea24928c-d7b3-49de-99aa-1717256cd7ac"
      },
      "source": [
        "np.transpose(C).shape"
      ],
      "execution_count": 15,
      "outputs": [
        {
          "output_type": "execute_result",
          "data": {
            "text/plain": [
              "(2, 5)"
            ]
          },
          "metadata": {},
          "execution_count": 15
        }
      ]
    },
    {
      "cell_type": "code",
      "metadata": {
        "colab": {
          "base_uri": "https://localhost:8080/"
        },
        "id": "N9gGrejIL4lU",
        "outputId": "9a35b9b5-9a08-4d87-9a80-a73262e25d74"
      },
      "source": [
        "C.T.shape"
      ],
      "execution_count": 16,
      "outputs": [
        {
          "output_type": "execute_result",
          "data": {
            "text/plain": [
              "(2, 5)"
            ]
          },
          "metadata": {},
          "execution_count": 16
        }
      ]
    },
    {
      "cell_type": "markdown",
      "metadata": {
        "id": "hU-RdyuDN5p5"
      },
      "source": [
        "D = np."
      ]
    },
    {
      "cell_type": "code",
      "metadata": {
        "id": "EoKWsjwUN80X"
      },
      "source": [
        "Z = np.array([\n",
        "              [1,2],\n",
        "              [3,4]\n",
        "])\n",
        "L = np.array([\n",
        "              [5,6],\n",
        "              [7,8]\n",
        "])\n"
      ],
      "execution_count": 22,
      "outputs": []
    },
    {
      "cell_type": "code",
      "metadata": {
        "colab": {
          "base_uri": "https://localhost:8080/"
        },
        "id": "uGe1mGYuOLS2",
        "outputId": "3730c0d2-bd01-4463-ccf0-741de8cbe692"
      },
      "source": [
        "np.dot(Z,L)"
      ],
      "execution_count": 23,
      "outputs": [
        {
          "output_type": "execute_result",
          "data": {
            "text/plain": [
              "array([[19, 22],\n",
              "       [43, 50]])"
            ]
          },
          "metadata": {},
          "execution_count": 23
        }
      ]
    },
    {
      "cell_type": "code",
      "metadata": {
        "colab": {
          "base_uri": "https://localhost:8080/"
        },
        "id": "6AIIM6QzOOb8",
        "outputId": "03eb6655-8f26-49c1-cb1c-bb99d7edbdc5"
      },
      "source": [
        "Z.dot(L)"
      ],
      "execution_count": 24,
      "outputs": [
        {
          "output_type": "execute_result",
          "data": {
            "text/plain": [
              "array([[19, 22],\n",
              "       [43, 50]])"
            ]
          },
          "metadata": {},
          "execution_count": 24
        }
      ]
    },
    {
      "cell_type": "code",
      "metadata": {
        "colab": {
          "base_uri": "https://localhost:8080/"
        },
        "id": "h6ngUhP4ORY7",
        "outputId": "4c08d1e0-695c-44ea-be18-5c4e5fe36ea6"
      },
      "source": [
        "Z@L"
      ],
      "execution_count": 25,
      "outputs": [
        {
          "output_type": "execute_result",
          "data": {
            "text/plain": [
              "array([[19, 22],\n",
              "       [43, 50]])"
            ]
          },
          "metadata": {},
          "execution_count": 25
        }
      ]
    },
    {
      "cell_type": "code",
      "metadata": {
        "colab": {
          "base_uri": "https://localhost:8080/"
        },
        "id": "skubutw6OSmf",
        "outputId": "9803a8a4-fc04-4839-93dc-a34cd3f373f0"
      },
      "source": [
        "np.matmul(Z,L)"
      ],
      "execution_count": 26,
      "outputs": [
        {
          "output_type": "execute_result",
          "data": {
            "text/plain": [
              "array([[19, 22],\n",
              "       [43, 50]])"
            ]
          },
          "metadata": {},
          "execution_count": 26
        }
      ]
    },
    {
      "cell_type": "markdown",
      "metadata": {
        "id": "vo1ijBRGP_hF"
      },
      "source": [
        "##Rule 1: the inner dimentions of two matrices in question mustbe the same.\n"
      ]
    },
    {
      "cell_type": "code",
      "metadata": {
        "colab": {
          "base_uri": "https://localhost:8080/"
        },
        "id": "5pr7oEO-QUPU",
        "outputId": "aaae0a69-428b-4ab9-c17e-3156ceac7849"
      },
      "source": [
        "E = np. array([\n",
        "              [2,3],\n",
        "              [2,4],\n",
        "              [0,1]\n",
        "])\n",
        "F = np. array([\n",
        "              [3,6],\n",
        "              [2,4],\n",
        "              [0,2]\n",
        "])\n",
        "G = np. array([\n",
        "              [1,2,3],\n",
        "              [2,3,4],\n",
        "])\n",
        "print(E.shape)\n",
        "print(F.shape)\n",
        "print(G.shape)"
      ],
      "execution_count": 27,
      "outputs": [
        {
          "output_type": "stream",
          "name": "stdout",
          "text": [
            "(3, 2)\n",
            "(3, 2)\n",
            "(2, 3)\n"
          ]
        }
      ]
    },
    {
      "cell_type": "code",
      "metadata": {
        "colab": {
          "base_uri": "https://localhost:8080/",
          "height": 182
        },
        "id": "8uqhYw8dQ0Ly",
        "outputId": "b4ee9c2b-e996-4ab4-b3e5-397d787601ad"
      },
      "source": [
        "E@F"
      ],
      "execution_count": 30,
      "outputs": [
        {
          "output_type": "error",
          "ename": "ValueError",
          "evalue": "ignored",
          "traceback": [
            "\u001b[0;31m---------------------------------------------------------------------------\u001b[0m",
            "\u001b[0;31mValueError\u001b[0m                                Traceback (most recent call last)",
            "\u001b[0;32m<ipython-input-30-985a3bcdba60>\u001b[0m in \u001b[0;36m<module>\u001b[0;34m()\u001b[0m\n\u001b[0;32m----> 1\u001b[0;31m \u001b[0mE\u001b[0m\u001b[0;34m@\u001b[0m\u001b[0mF\u001b[0m\u001b[0;34m\u001b[0m\u001b[0;34m\u001b[0m\u001b[0m\n\u001b[0m",
            "\u001b[0;31mValueError\u001b[0m: matmul: Input operand 1 has a mismatch in its core dimension 0, with gufunc signature (n?,k),(k,m?)->(n?,m?) (size 3 is different from 2)"
          ]
        }
      ]
    },
    {
      "cell_type": "code",
      "metadata": {
        "colab": {
          "base_uri": "https://localhost:8080/"
        },
        "id": "jmg9wO7HQlbE",
        "outputId": "806495e7-599b-423c-d5c3-419d9e88a3a4"
      },
      "source": [
        "E@G"
      ],
      "execution_count": 31,
      "outputs": [
        {
          "output_type": "execute_result",
          "data": {
            "text/plain": [
              "array([[ 8, 13, 18],\n",
              "       [10, 16, 22],\n",
              "       [ 2,  3,  4]])"
            ]
          },
          "metadata": {},
          "execution_count": 31
        }
      ]
    },
    {
      "cell_type": "code",
      "metadata": {
        "colab": {
          "base_uri": "https://localhost:8080/"
        },
        "id": "H_promTtRf_a",
        "outputId": "09439972-9431-440a-9816-ed2843c27227"
      },
      "source": [
        "F@G"
      ],
      "execution_count": 32,
      "outputs": [
        {
          "output_type": "execute_result",
          "data": {
            "text/plain": [
              "array([[15, 24, 33],\n",
              "       [10, 16, 22],\n",
              "       [ 4,  6,  8]])"
            ]
          },
          "metadata": {},
          "execution_count": 32
        }
      ]
    },
    {
      "cell_type": "code",
      "metadata": {
        "colab": {
          "base_uri": "https://localhost:8080/"
        },
        "id": "CN20EfMySCAE",
        "outputId": "f13ac7de-86c4-40b4-d84c-e43e0376687e"
      },
      "source": [
        "H = np.array ([\n",
        "               [1,2,3,0],\n",
        "])\n",
        "I = np.array ([\n",
        "               [1,0,4,-1]\n",
        "])\n",
        "print(H.shape)\n",
        "print(I.shape)"
      ],
      "execution_count": 33,
      "outputs": [
        {
          "output_type": "stream",
          "name": "stdout",
          "text": [
            "(1, 4)\n",
            "(1, 4)\n"
          ]
        }
      ]
    },
    {
      "cell_type": "code",
      "metadata": {
        "colab": {
          "base_uri": "https://localhost:8080/"
        },
        "id": "RST7pkRmSTz8",
        "outputId": "c2f55fe2-d8da-4d70-adea-bc956a5ad7dd"
      },
      "source": [
        "I.T@H"
      ],
      "execution_count": 35,
      "outputs": [
        {
          "output_type": "execute_result",
          "data": {
            "text/plain": [
              "array([[ 1,  2,  3,  0],\n",
              "       [ 0,  0,  0,  0],\n",
              "       [ 4,  8, 12,  0],\n",
              "       [-1, -2, -3,  0]])"
            ]
          },
          "metadata": {},
          "execution_count": 35
        }
      ]
    },
    {
      "cell_type": "code",
      "metadata": {
        "colab": {
          "base_uri": "https://localhost:8080/"
        },
        "id": "n7I0qIQySbXV",
        "outputId": "a79ff53a-aea0-4929-d9ff-56bb4c1a4fcc"
      },
      "source": [
        "H@I.T"
      ],
      "execution_count": 37,
      "outputs": [
        {
          "output_type": "execute_result",
          "data": {
            "text/plain": [
              "array([[13]])"
            ]
          },
          "metadata": {},
          "execution_count": 37
        }
      ]
    },
    {
      "cell_type": "markdown",
      "metadata": {
        "id": "VxqOuT3ZS57X"
      },
      "source": [
        "##Rule 2: Dot product has special properties"
      ]
    },
    {
      "cell_type": "code",
      "metadata": {
        "colab": {
          "base_uri": "https://localhost:8080/"
        },
        "id": "d47k9nY9S8Sv",
        "outputId": "62cf2481-4011-4763-966f-216ae74e1455"
      },
      "source": [
        "Z = np.array([\n",
        "              [3,2,1],\n",
        "              [4,5,1],\n",
        "              [0,2,1]\n",
        "])\n",
        "D = np.array([\n",
        "              [9,2,6],\n",
        "              [1,4,0],\n",
        "              [0,1,0]\n",
        "])\n",
        "L = np.array([\n",
        "           [0,2,6],\n",
        "           [9,2,1],\n",
        "           [5,3,8]  \n",
        "])\n",
        "print(Z.shape)\n",
        "print(D.shape)\n",
        "print(L.shape)"
      ],
      "execution_count": 44,
      "outputs": [
        {
          "output_type": "stream",
          "name": "stdout",
          "text": [
            "(3, 3)\n",
            "(3, 3)\n",
            "(3, 3)\n"
          ]
        }
      ]
    },
    {
      "cell_type": "markdown",
      "metadata": {
        "id": "e8pPk-OnTaNw"
      },
      "source": [
        "A.B != B.A"
      ]
    },
    {
      "cell_type": "code",
      "metadata": {
        "colab": {
          "base_uri": "https://localhost:8080/"
        },
        "id": "bD327yUeTS5c",
        "outputId": "9125cb73-8f8c-4323-b006-b173f1fc52d8"
      },
      "source": [
        "Z@L"
      ],
      "execution_count": 39,
      "outputs": [
        {
          "output_type": "execute_result",
          "data": {
            "text/plain": [
              "array([[23, 13, 28],\n",
              "       [50, 21, 37],\n",
              "       [23,  7, 10]])"
            ]
          },
          "metadata": {},
          "execution_count": 39
        }
      ]
    },
    {
      "cell_type": "code",
      "metadata": {
        "colab": {
          "base_uri": "https://localhost:8080/"
        },
        "id": "lg2cXLf-TWYA",
        "outputId": "7d51a297-a036-46c8-8057-28c70906beb1"
      },
      "source": [
        "L@Z"
      ],
      "execution_count": 40,
      "outputs": [
        {
          "output_type": "execute_result",
          "data": {
            "text/plain": [
              "array([[ 8, 22,  8],\n",
              "       [35, 30, 12],\n",
              "       [27, 41, 16]])"
            ]
          },
          "metadata": {},
          "execution_count": 40
        }
      ]
    },
    {
      "cell_type": "code",
      "metadata": {
        "colab": {
          "base_uri": "https://localhost:8080/"
        },
        "id": "__uD5FbwXdG5",
        "outputId": "90f1b0be-e008-4a95-cbf3-06b4303609a5"
      },
      "source": [
        "np.array_equiv(Z@L, L@Z)"
      ],
      "execution_count": 55,
      "outputs": [
        {
          "output_type": "execute_result",
          "data": {
            "text/plain": [
              "False"
            ]
          },
          "metadata": {},
          "execution_count": 55
        }
      ]
    },
    {
      "cell_type": "markdown",
      "metadata": {
        "id": "rHF5awy1TjIC"
      },
      "source": [
        "A.(B.C)=(A.B).C"
      ]
    },
    {
      "cell_type": "code",
      "metadata": {
        "colab": {
          "base_uri": "https://localhost:8080/"
        },
        "id": "bIaGLG_BT3yh",
        "outputId": "6f1dcab6-4f73-4ec4-af22-cfa64bf63804"
      },
      "source": [
        "Z@(D@L)"
      ],
      "execution_count": 42,
      "outputs": [
        {
          "output_type": "execute_result",
          "data": {
            "text/plain": [
              "array([[225, 142, 333],\n",
              "       [381, 212, 467],\n",
              "       [ 81,  22,  21]])"
            ]
          },
          "metadata": {},
          "execution_count": 42
        }
      ]
    },
    {
      "cell_type": "code",
      "metadata": {
        "colab": {
          "base_uri": "https://localhost:8080/"
        },
        "id": "EN17Sf8gT78R",
        "outputId": "ff484b00-ea5e-4e70-d6d2-4f6b626b9b96"
      },
      "source": [
        "(Z@D)@L"
      ],
      "execution_count": 43,
      "outputs": [
        {
          "output_type": "execute_result",
          "data": {
            "text/plain": [
              "array([[225, 142, 333],\n",
              "       [381, 212, 467],\n",
              "       [ 81,  22,  21]])"
            ]
          },
          "metadata": {},
          "execution_count": 43
        }
      ]
    },
    {
      "cell_type": "code",
      "metadata": {
        "colab": {
          "base_uri": "https://localhost:8080/"
        },
        "id": "hTKHzGG4Xhvg",
        "outputId": "b5218b70-18f0-445b-ad9b-2b5ad99ed579"
      },
      "source": [
        "np.array_equiv(Z@(D@L), (Z@D)@L)"
      ],
      "execution_count": 54,
      "outputs": [
        {
          "output_type": "execute_result",
          "data": {
            "text/plain": [
              "True"
            ]
          },
          "metadata": {},
          "execution_count": 54
        }
      ]
    },
    {
      "cell_type": "markdown",
      "metadata": {
        "id": "j1-HjCscUVJW"
      },
      "source": [
        ""
      ]
    },
    {
      "cell_type": "code",
      "metadata": {
        "colab": {
          "base_uri": "https://localhost:8080/"
        },
        "id": "NdcKAnvKUIvj",
        "outputId": "b339f9b0-cc94-4d54-9232-316983846076"
      },
      "source": [
        "X = np.identity(3)\n",
        "Z@X"
      ],
      "execution_count": 53,
      "outputs": [
        {
          "output_type": "execute_result",
          "data": {
            "text/plain": [
              "array([[3., 2., 1.],\n",
              "       [4., 5., 1.],\n",
              "       [0., 2., 1.]])"
            ]
          },
          "metadata": {},
          "execution_count": 53
        }
      ]
    },
    {
      "cell_type": "code",
      "metadata": {
        "colab": {
          "base_uri": "https://localhost:8080/"
        },
        "id": "k7ttTI3BXoE0",
        "outputId": "072736c7-39d4-4854-fff4-93a57a0888ce"
      },
      "source": [
        "Z.dot(X)"
      ],
      "execution_count": 56,
      "outputs": [
        {
          "output_type": "execute_result",
          "data": {
            "text/plain": [
              "array([[3., 2., 1.],\n",
              "       [4., 5., 1.],\n",
              "       [0., 2., 1.]])"
            ]
          },
          "metadata": {},
          "execution_count": 56
        }
      ]
    },
    {
      "cell_type": "markdown",
      "metadata": {
        "id": "hLJ2nKO3Y_oV"
      },
      "source": [
        "##Determinant"
      ]
    },
    {
      "cell_type": "code",
      "metadata": {
        "colab": {
          "base_uri": "https://localhost:8080/"
        },
        "id": "1LMIZ_-MZBDG",
        "outputId": "f2217244-8daf-4d94-997d-e9a7dbd8b733"
      },
      "source": [
        "A = np.array([\n",
        "              [1,4],\n",
        "              [0,3]\n",
        "])\n",
        "np.linalg.det(A)"
      ],
      "execution_count": 59,
      "outputs": [
        {
          "output_type": "execute_result",
          "data": {
            "text/plain": [
              "3.0000000000000004"
            ]
          },
          "metadata": {},
          "execution_count": 59
        }
      ]
    },
    {
      "cell_type": "code",
      "metadata": {
        "colab": {
          "base_uri": "https://localhost:8080/"
        },
        "id": "3pbu6i_HZXVD",
        "outputId": "7106baa2-8ee6-449f-c70a-e13a58996c42"
      },
      "source": [
        "B = np.array([\n",
        "              [1,5,2],\n",
        "              [3,-1,-1],\n",
        "              [0,-2,1]\n",
        "])\n",
        "np.linalg.det(B)\n"
      ],
      "execution_count": 64,
      "outputs": [
        {
          "output_type": "execute_result",
          "data": {
            "text/plain": [
              "-30.000000000000014"
            ]
          },
          "metadata": {},
          "execution_count": 64
        }
      ]
    }
  ]
}